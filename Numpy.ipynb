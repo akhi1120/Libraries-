{
  "cells": [
    {
      "cell_type": "markdown",
      "metadata": {
        "id": "wRNrPw8o9559"
      },
      "source": [
        "### **Numpy:**\n",
        "It is widely used for carrying out mathematical operations that involve matrices.\n",
        "\n",
        "It stands for NUMeric PYthon or NUMerical PYthon. It is the core library for scientific computing in Python.It was developed in 1995 by Travis Oliphant\n",
        "\n",
        "It is the fundamental library for array computing with Python\n",
        "\n",
        "\n",
        "NumPy is a Python library. NumPy is used for working with arrays. NumPy is short for \"Numerical Python\".\n",
        "\n",
        "### **Features of Numpy**\n",
        "1 Multidimensional arrays.\n",
        "\n",
        "2 Functions and operators for these arrays.\n",
        "\n",
        "3 Python Alternative to MATLAB.\n",
        "\n",
        "4 ndarray- n-dimensional arrays.\n",
        "\n",
        "5 Linear algebra and random number generation.\n",
        "\n"
      ]
    },
    {
      "cell_type": "code",
      "execution_count": 1230,
      "metadata": {
        "colab": {
          "base_uri": "https://localhost:8080/"
        },
        "id": "E0yio_ZTECBP",
        "outputId": "2c0e2033-2380-4d9c-840d-6a8a194fd146"
      },
      "outputs": [
        {
          "name": "stdout",
          "output_type": "stream",
          "text": [
            "[2 4 5 6 7 8]\n",
            "[1.  2.  2.5 3.  3.5 4. ]\n"
          ]
        }
      ],
      "source": [
        "import numpy as np\n",
        "PyArr=np.array([2,4,5,6,7,8])\n",
        "print(PyArr)\n",
        "print(PyArr/2)"
      ]
    },
    {
      "cell_type": "code",
      "execution_count": 1231,
      "metadata": {
        "colab": {
          "base_uri": "https://localhost:8080/"
        },
        "id": "nUujCkAHwMAF",
        "outputId": "4cecde60-6ab6-4355-d2f9-97f99a4e3b16"
      },
      "outputs": [
        {
          "data": {
            "text/plain": [
              "array([1, 2, 3, 4, 5])"
            ]
          },
          "execution_count": 1231,
          "metadata": {},
          "output_type": "execute_result"
        }
      ],
      "source": [
        "import numpy as np\n",
        "np.array([1,2,3,4,5])\n"
      ]
    },
    {
      "cell_type": "code",
      "execution_count": 1232,
      "metadata": {
        "colab": {
          "base_uri": "https://localhost:8080/"
        },
        "id": "AScasaW5GJr8",
        "outputId": "b050aaac-1f9c-4f65-e226-d7e3292b4e2b"
      },
      "outputs": [
        {
          "name": "stdout",
          "output_type": "stream",
          "text": [
            "[2, 3, 4, 5, 6, 7]\n"
          ]
        }
      ],
      "source": [
        "PyList=[2,3,4,5,6,7]\n",
        "print(PyList)"
      ]
    },
    {
      "cell_type": "markdown",
      "metadata": {
        "id": "dKfyaTFvHOby"
      },
      "source": [
        "It will list out all the functions, classes, and variables that are part of the numpy module.\n",
        "\n"
      ]
    },
    {
      "cell_type": "code",
      "execution_count": 1233,
      "metadata": {
        "colab": {
          "base_uri": "https://localhost:8080/"
        },
        "id": "YV0GKV6gGQKH",
        "outputId": "65c08349-c724-42d2-cfde-b572a578281b"
      },
      "outputs": [
        {
          "name": "stdout",
          "output_type": "stream",
          "text": [
            "['ALLOW_THREADS', 'BUFSIZE', 'CLIP', 'DataSource', 'ERR_CALL', 'ERR_DEFAULT', 'ERR_IGNORE', 'ERR_LOG', 'ERR_PRINT', 'ERR_RAISE', 'ERR_WARN', 'FLOATING_POINT_SUPPORT', 'FPE_DIVIDEBYZERO', 'FPE_INVALID', 'FPE_OVERFLOW', 'FPE_UNDERFLOW', 'False_', 'Inf', 'Infinity', 'MAXDIMS', 'MAY_SHARE_BOUNDS', 'MAY_SHARE_EXACT', 'NAN', 'NINF', 'NZERO', 'NaN', 'PINF', 'PZERO', 'RAISE', 'RankWarning', 'SHIFT_DIVIDEBYZERO', 'SHIFT_INVALID', 'SHIFT_OVERFLOW', 'SHIFT_UNDERFLOW', 'ScalarType', 'True_', 'UFUNC_BUFSIZE_DEFAULT', 'UFUNC_PYVALS_NAME', 'WRAP', '_CopyMode', '_NoValue', '_UFUNC_API', '__NUMPY_SETUP__', '__all__', '__builtins__', '__cached__', '__config__', '__deprecated_attrs__', '__dir__', '__doc__', '__expired_functions__', '__file__', '__former_attrs__', '__future_scalars__', '__getattr__', '__loader__', '__name__', '__package__', '__path__', '__spec__', '__version__', '_add_newdoc_ufunc', '_builtins', '_distributor_init', '_financial_names', '_get_promotion_state', '_globals', '_int_extended_msg', '_mat', '_no_nep50_warning', '_pyinstaller_hooks_dir', '_pytesttester', '_set_promotion_state', '_specific_msg', '_typing', '_using_numpy2_behavior', '_utils', 'abs', 'absolute', 'add', 'add_docstring', 'add_newdoc', 'add_newdoc_ufunc', 'all', 'allclose', 'alltrue', 'amax', 'amin', 'angle', 'any', 'append', 'apply_along_axis', 'apply_over_axes', 'arange', 'arccos', 'arccosh', 'arcsin', 'arcsinh', 'arctan', 'arctan2', 'arctanh', 'argmax', 'argmin', 'argpartition', 'argsort', 'argwhere', 'around', 'array', 'array2string', 'array_equal', 'array_equiv', 'array_repr', 'array_split', 'array_str', 'asanyarray', 'asarray', 'asarray_chkfinite', 'ascontiguousarray', 'asfarray', 'asfortranarray', 'asmatrix', 'atleast_1d', 'atleast_2d', 'atleast_3d', 'average', 'bartlett', 'base_repr', 'binary_repr', 'bincount', 'bitwise_and', 'bitwise_not', 'bitwise_or', 'bitwise_xor', 'blackman', 'block', 'bmat', 'bool_', 'broadcast', 'broadcast_arrays', 'broadcast_shapes', 'broadcast_to', 'busday_count', 'busday_offset', 'busdaycalendar', 'byte', 'byte_bounds', 'bytes_', 'c_', 'can_cast', 'cast', 'cbrt', 'cdouble', 'ceil', 'cfloat', 'char', 'character', 'chararray', 'choose', 'clip', 'clongdouble', 'clongfloat', 'column_stack', 'common_type', 'compare_chararrays', 'compat', 'complex128', 'complex64', 'complex_', 'complexfloating', 'compress', 'concatenate', 'conj', 'conjugate', 'convolve', 'copy', 'copysign', 'copyto', 'corrcoef', 'correlate', 'cos', 'cosh', 'count_nonzero', 'cov', 'cross', 'csingle', 'ctypeslib', 'cumprod', 'cumproduct', 'cumsum', 'datetime64', 'datetime_as_string', 'datetime_data', 'deg2rad', 'degrees', 'delete', 'deprecate', 'deprecate_with_doc', 'diag', 'diag_indices', 'diag_indices_from', 'diagflat', 'diagonal', 'diff', 'digitize', 'disp', 'divide', 'divmod', 'dot', 'double', 'dsplit', 'dstack', 'dtype', 'dtypes', 'e', 'ediff1d', 'einsum', 'einsum_path', 'emath', 'empty', 'empty_like', 'equal', 'errstate', 'euler_gamma', 'exceptions', 'exp', 'exp2', 'expand_dims', 'expm1', 'extract', 'eye', 'fabs', 'fastCopyAndTranspose', 'fft', 'fill_diagonal', 'find_common_type', 'finfo', 'fix', 'flatiter', 'flatnonzero', 'flexible', 'flip', 'fliplr', 'flipud', 'float16', 'float32', 'float64', 'float_', 'float_power', 'floating', 'floor', 'floor_divide', 'fmax', 'fmin', 'fmod', 'format_float_positional', 'format_float_scientific', 'format_parser', 'frexp', 'from_dlpack', 'frombuffer', 'fromfile', 'fromfunction', 'fromiter', 'frompyfunc', 'fromregex', 'fromstring', 'full', 'full_like', 'gcd', 'generic', 'genfromtxt', 'geomspace', 'get_array_wrap', 'get_include', 'get_printoptions', 'getbufsize', 'geterr', 'geterrcall', 'geterrobj', 'gradient', 'greater', 'greater_equal', 'half', 'hamming', 'hanning', 'heaviside', 'histogram', 'histogram2d', 'histogram_bin_edges', 'histogramdd', 'hsplit', 'hstack', 'hypot', 'i0', 'identity', 'iinfo', 'imag', 'in1d', 'index_exp', 'indices', 'inexact', 'inf', 'info', 'infty', 'inner', 'insert', 'int16', 'int32', 'int64', 'int8', 'int_', 'intc', 'integer', 'interp', 'intersect1d', 'intp', 'invert', 'is_busday', 'isclose', 'iscomplex', 'iscomplexobj', 'isfinite', 'isfortran', 'isin', 'isinf', 'isnan', 'isnat', 'isneginf', 'isposinf', 'isreal', 'isrealobj', 'isscalar', 'issctype', 'issubclass_', 'issubdtype', 'issubsctype', 'iterable', 'ix_', 'kaiser', 'kron', 'lcm', 'ldexp', 'left_shift', 'less', 'less_equal', 'lexsort', 'lib', 'linalg', 'linspace', 'little_endian', 'load', 'loadtxt', 'log', 'log10', 'log1p', 'log2', 'logaddexp', 'logaddexp2', 'logical_and', 'logical_not', 'logical_or', 'logical_xor', 'logspace', 'longcomplex', 'longdouble', 'longfloat', 'longlong', 'lookfor', 'ma', 'mask_indices', 'mat', 'matlib', 'matmul', 'matrix', 'max', 'maximum', 'maximum_sctype', 'may_share_memory', 'mean', 'median', 'memmap', 'meshgrid', 'mgrid', 'min', 'min_scalar_type', 'minimum', 'mintypecode', 'mod', 'modf', 'moveaxis', 'msort', 'multiply', 'nan', 'nan_to_num', 'nanargmax', 'nanargmin', 'nancumprod', 'nancumsum', 'nanmax', 'nanmean', 'nanmedian', 'nanmin', 'nanpercentile', 'nanprod', 'nanquantile', 'nanstd', 'nansum', 'nanvar', 'nbytes', 'ndarray', 'ndenumerate', 'ndim', 'ndindex', 'nditer', 'negative', 'nested_iters', 'newaxis', 'nextafter', 'nonzero', 'not_equal', 'numarray', 'number', 'obj2sctype', 'object_', 'ogrid', 'oldnumeric', 'ones', 'ones_like', 'outer', 'packbits', 'pad', 'partition', 'percentile', 'pi', 'piecewise', 'place', 'poly', 'poly1d', 'polyadd', 'polyder', 'polydiv', 'polyfit', 'polyint', 'polymul', 'polynomial', 'polysub', 'polyval', 'positive', 'power', 'printoptions', 'prod', 'product', 'promote_types', 'ptp', 'put', 'put_along_axis', 'putmask', 'quantile', 'r_', 'rad2deg', 'radians', 'random', 'ravel', 'ravel_multi_index', 'real', 'real_if_close', 'rec', 'recarray', 'recfromcsv', 'recfromtxt', 'reciprocal', 'record', 'remainder', 'repeat', 'require', 'reshape', 'resize', 'result_type', 'right_shift', 'rint', 'roll', 'rollaxis', 'roots', 'rot90', 'round', 'round_', 'row_stack', 's_', 'safe_eval', 'save', 'savetxt', 'savez', 'savez_compressed', 'sctype2char', 'sctypeDict', 'sctypes', 'searchsorted', 'select', 'set_numeric_ops', 'set_printoptions', 'set_string_function', 'setbufsize', 'setdiff1d', 'seterr', 'seterrcall', 'seterrobj', 'setxor1d', 'shape', 'shares_memory', 'short', 'show_config', 'show_runtime', 'sign', 'signbit', 'signedinteger', 'sin', 'sinc', 'single', 'singlecomplex', 'sinh', 'size', 'sometrue', 'sort', 'sort_complex', 'source', 'spacing', 'split', 'sqrt', 'square', 'squeeze', 'stack', 'std', 'str_', 'string_', 'subtract', 'sum', 'swapaxes', 'take', 'take_along_axis', 'tan', 'tanh', 'tensordot', 'test', 'testing', 'tile', 'timedelta64', 'trace', 'tracemalloc_domain', 'transpose', 'trapz', 'tri', 'tril', 'tril_indices', 'tril_indices_from', 'trim_zeros', 'triu', 'triu_indices', 'triu_indices_from', 'true_divide', 'trunc', 'typecodes', 'typename', 'ubyte', 'ufunc', 'uint', 'uint16', 'uint32', 'uint64', 'uint8', 'uintc', 'uintp', 'ulonglong', 'unicode_', 'union1d', 'unique', 'unpackbits', 'unravel_index', 'unsignedinteger', 'unwrap', 'ushort', 'vander', 'var', 'vdot', 'vectorize', 'version', 'void', 'vsplit', 'vstack', 'where', 'who', 'zeros', 'zeros_like']\n"
          ]
        }
      ],
      "source": [
        "import numpy as np\n",
        "print(dir (np))"
      ]
    },
    {
      "cell_type": "markdown",
      "metadata": {
        "id": "5IKt-4MWIHKM"
      },
      "source": [
        "**In the given code, help(np.array) is used to display the documentation of the np.array function.**\n",
        "\n",
        "When this code is executed, it will print a detailed explanation of how the np.array function works, including its parameters, return values, and usage examples. This is helpful for understanding the purpose and functionality of the function."
      ]
    },
    {
      "cell_type": "code",
      "execution_count": 1234,
      "metadata": {
        "colab": {
          "base_uri": "https://localhost:8080/"
        },
        "collapsed": true,
        "id": "3WGho0GxHSwq",
        "outputId": "9bbeabcb-d9f8-4831-a103-727b825df260"
      },
      "outputs": [
        {
          "name": "stdout",
          "output_type": "stream",
          "text": [
            "Help on built-in function array in module numpy:\n",
            "\n",
            "array(...)\n",
            "    array(object, dtype=None, *, copy=True, order='K', subok=False, ndmin=0,\n",
            "          like=None)\n",
            "    \n",
            "    Create an array.\n",
            "    \n",
            "    Parameters\n",
            "    ----------\n",
            "    object : array_like\n",
            "        An array, any object exposing the array interface, an object whose\n",
            "        ``__array__`` method returns an array, or any (nested) sequence.\n",
            "        If object is a scalar, a 0-dimensional array containing object is\n",
            "        returned.\n",
            "    dtype : data-type, optional\n",
            "        The desired data-type for the array. If not given, NumPy will try to use\n",
            "        a default ``dtype`` that can represent the values (by applying promotion\n",
            "        rules when necessary.)\n",
            "    copy : bool, optional\n",
            "        If true (default), then the object is copied.  Otherwise, a copy will\n",
            "        only be made if ``__array__`` returns a copy, if obj is a nested\n",
            "        sequence, or if a copy is needed to satisfy any of the other\n",
            "        requirements (``dtype``, ``order``, etc.).\n",
            "    order : {'K', 'A', 'C', 'F'}, optional\n",
            "        Specify the memory layout of the array. If object is not an array, the\n",
            "        newly created array will be in C order (row major) unless 'F' is\n",
            "        specified, in which case it will be in Fortran order (column major).\n",
            "        If object is an array the following holds.\n",
            "    \n",
            "        ===== ========= ===================================================\n",
            "        order  no copy                     copy=True\n",
            "        ===== ========= ===================================================\n",
            "        'K'   unchanged F & C order preserved, otherwise most similar order\n",
            "        'A'   unchanged F order if input is F and not C, otherwise C order\n",
            "        'C'   C order   C order\n",
            "        'F'   F order   F order\n",
            "        ===== ========= ===================================================\n",
            "    \n",
            "        When ``copy=False`` and a copy is made for other reasons, the result is\n",
            "        the same as if ``copy=True``, with some exceptions for 'A', see the\n",
            "        Notes section. The default order is 'K'.\n",
            "    subok : bool, optional\n",
            "        If True, then sub-classes will be passed-through, otherwise\n",
            "        the returned array will be forced to be a base-class array (default).\n",
            "    ndmin : int, optional\n",
            "        Specifies the minimum number of dimensions that the resulting\n",
            "        array should have.  Ones will be prepended to the shape as\n",
            "        needed to meet this requirement.\n",
            "    like : array_like, optional\n",
            "        Reference object to allow the creation of arrays which are not\n",
            "        NumPy arrays. If an array-like passed in as ``like`` supports\n",
            "        the ``__array_function__`` protocol, the result will be defined\n",
            "        by it. In this case, it ensures the creation of an array object\n",
            "        compatible with that passed in via this argument.\n",
            "    \n",
            "        .. versionadded:: 1.20.0\n",
            "    \n",
            "    Returns\n",
            "    -------\n",
            "    out : ndarray\n",
            "        An array object satisfying the specified requirements.\n",
            "    \n",
            "    See Also\n",
            "    --------\n",
            "    empty_like : Return an empty array with shape and type of input.\n",
            "    ones_like : Return an array of ones with shape and type of input.\n",
            "    zeros_like : Return an array of zeros with shape and type of input.\n",
            "    full_like : Return a new array with shape of input filled with value.\n",
            "    empty : Return a new uninitialized array.\n",
            "    ones : Return a new array setting values to one.\n",
            "    zeros : Return a new array setting values to zero.\n",
            "    full : Return a new array of given shape filled with value.\n",
            "    \n",
            "    \n",
            "    Notes\n",
            "    -----\n",
            "    When order is 'A' and ``object`` is an array in neither 'C' nor 'F' order,\n",
            "    and a copy is forced by a change in dtype, then the order of the result is\n",
            "    not necessarily 'C' as expected. This is likely a bug.\n",
            "    \n",
            "    Examples\n",
            "    --------\n",
            "    >>> np.array([1, 2, 3])\n",
            "    array([1, 2, 3])\n",
            "    \n",
            "    Upcasting:\n",
            "    \n",
            "    >>> np.array([1, 2, 3.0])\n",
            "    array([ 1.,  2.,  3.])\n",
            "    \n",
            "    More than one dimension:\n",
            "    \n",
            "    >>> np.array([[1, 2], [3, 4]])\n",
            "    array([[1, 2],\n",
            "           [3, 4]])\n",
            "    \n",
            "    Minimum dimensions 2:\n",
            "    \n",
            "    >>> np.array([1, 2, 3], ndmin=2)\n",
            "    array([[1, 2, 3]])\n",
            "    \n",
            "    Type provided:\n",
            "    \n",
            "    >>> np.array([1, 2, 3], dtype=complex)\n",
            "    array([ 1.+0.j,  2.+0.j,  3.+0.j])\n",
            "    \n",
            "    Data-type consisting of more than one element:\n",
            "    \n",
            "    >>> x = np.array([(1,2),(3,4)],dtype=[('a','<i4'),('b','<i4')])\n",
            "    >>> x['a']\n",
            "    array([1, 3])\n",
            "    \n",
            "    Creating an array from sub-classes:\n",
            "    \n",
            "    >>> np.array(np.mat('1 2; 3 4'))\n",
            "    array([[1, 2],\n",
            "           [3, 4]])\n",
            "    \n",
            "    >>> np.array(np.mat('1 2; 3 4'), subok=True)\n",
            "    matrix([[1, 2],\n",
            "            [3, 4]])\n",
            "\n",
            "None\n"
          ]
        }
      ],
      "source": [
        "import numpy as np\n",
        "PyArr=np.array([2,4,5,6,7,8])\n",
        "print(help(np.array))"
      ]
    },
    {
      "cell_type": "markdown",
      "metadata": {
        "id": "DcarwyVDaQex"
      },
      "source": [
        "creating numpyarray"
      ]
    },
    {
      "cell_type": "code",
      "execution_count": 1235,
      "metadata": {
        "colab": {
          "base_uri": "https://localhost:8080/"
        },
        "id": "-yNdHhuLUDrt",
        "outputId": "8f32369d-f41e-40bf-b8ab-f7bdc97dab1f"
      },
      "outputs": [
        {
          "name": "stdout",
          "output_type": "stream",
          "text": [
            "[1 2 3 4 5]\n"
          ]
        }
      ],
      "source": [
        "import numpy as np\n",
        "PyArr = np.array([1,2,3,4,5])\n",
        "print(PyArr)"
      ]
    },
    {
      "cell_type": "markdown",
      "metadata": {
        "id": "MPGMo18FaebQ"
      },
      "source": [
        "dimensions in arrays\n"
      ]
    },
    {
      "cell_type": "code",
      "execution_count": 1236,
      "metadata": {
        "colab": {
          "base_uri": "https://localhost:8080/"
        },
        "id": "QTZSTyFaaMMN",
        "outputId": "5e64d708-bf2a-4c15-d594-1bf1334657a1"
      },
      "outputs": [
        {
          "name": "stdout",
          "output_type": "stream",
          "text": [
            "24\n"
          ]
        }
      ],
      "source": [
        "# zerro dimensional array\n",
        "import numpy as np\n",
        "PyArr = np.array(24)\n",
        "print(PyArr)"
      ]
    },
    {
      "cell_type": "code",
      "execution_count": 1237,
      "metadata": {
        "colab": {
          "base_uri": "https://localhost:8080/"
        },
        "id": "p9f5fXaGyCDH",
        "outputId": "6dd4b9cf-0c41-47d7-f253-de65c46e14ea"
      },
      "outputs": [
        {
          "name": "stdout",
          "output_type": "stream",
          "text": [
            "1\n"
          ]
        }
      ],
      "source": [
        "import numpy as np\n",
        "PyArr=np.array([24])\n",
        "print(PyArr.ndim)"
      ]
    },
    {
      "cell_type": "code",
      "execution_count": 1238,
      "metadata": {
        "colab": {
          "base_uri": "https://localhost:8080/"
        },
        "id": "rs75OFAbcfv-",
        "outputId": "dd38f5df-17a8-4047-ca26-4be5e18dbd0a"
      },
      "outputs": [
        {
          "name": "stdout",
          "output_type": "stream",
          "text": [
            "<class 'numpy.ndarray'>\n",
            "[1 2 3 4]\n",
            "1\n"
          ]
        }
      ],
      "source": [
        "#1-dimensional array\n",
        "import numpy as np\n",
        "PyArr = np.array([1,2,3,4])\n",
        "print(type(PyArr))\n",
        "print(PyArr)\n",
        "print(PyArr.ndim)"
      ]
    },
    {
      "cell_type": "code",
      "execution_count": 1239,
      "metadata": {
        "colab": {
          "base_uri": "https://localhost:8080/"
        },
        "id": "ogiSY497c84T",
        "outputId": "b3e07e2a-84b8-48f3-a376-949c6e428610"
      },
      "outputs": [
        {
          "name": "stdout",
          "output_type": "stream",
          "text": [
            "<class 'numpy.ndarray'>\n",
            "[1 2 3 4]\n",
            "1\n"
          ]
        }
      ],
      "source": [
        "import numpy as np\n",
        "PyArr = np.array([1,2,3,4])\n",
        "print(type(PyArr))\n",
        "print(PyArr)\n",
        "print(PyArr.ndim)"
      ]
    },
    {
      "cell_type": "code",
      "execution_count": 1240,
      "metadata": {
        "colab": {
          "base_uri": "https://localhost:8080/"
        },
        "id": "C2W_ax77h5UR",
        "outputId": "66941051-7aa1-4a80-9cc4-25497b4762f4"
      },
      "outputs": [
        {
          "name": "stdout",
          "output_type": "stream",
          "text": [
            "<class 'numpy.ndarray'>\n",
            "[[1 2 3 4]\n",
            " [5 6 7 8]]\n",
            "2\n"
          ]
        }
      ],
      "source": [
        "#2-dimensional array\n",
        "import numpy as np\n",
        "PyArr = np.array([[1,2,3,4],[5,6,7,8]])\n",
        "print(type(PyArr))\n",
        "print(PyArr)\n",
        "print(PyArr.ndim)"
      ]
    },
    {
      "cell_type": "code",
      "execution_count": 1241,
      "metadata": {
        "colab": {
          "base_uri": "https://localhost:8080/"
        },
        "id": "Ne3FDqi-iq3j",
        "outputId": "4abe64c0-b935-4aca-d8f9-da22572e9a10"
      },
      "outputs": [
        {
          "name": "stdout",
          "output_type": "stream",
          "text": [
            "<class 'numpy.ndarray'>\n",
            "3\n"
          ]
        }
      ],
      "source": [
        "#3-dimensional array\n",
        "import numpy as np\n",
        "PyArr = np.array([[[1,2,3,4],[5,6,7,8]],[[1,2,3,4],[5,6,7,8]]])\n",
        "print(type(PyArr))\n",
        "print(PyArr.ndim)"
      ]
    },
    {
      "cell_type": "code",
      "execution_count": 1242,
      "metadata": {
        "colab": {
          "base_uri": "https://localhost:8080/"
        },
        "id": "L8dmlblCjFWy",
        "outputId": "9c89a9a8-ccbe-4e16-a034-9d1ee7fae8c4"
      },
      "outputs": [
        {
          "name": "stdout",
          "output_type": "stream",
          "text": [
            "<class 'numpy.ndarray'>\n",
            "5\n"
          ]
        }
      ],
      "source": [
        "#n-dimensional array\n",
        "import numpy as np\n",
        "PyArr = np.array([[[[[1,2,3,4],[5,6,7,8]],[[1,2,3,4],[5,6,7,8]]]]])\n",
        "print(type(PyArr))\n",
        "print(PyArr.ndim)"
      ]
    },
    {
      "cell_type": "code",
      "execution_count": 1243,
      "metadata": {
        "colab": {
          "base_uri": "https://localhost:8080/"
        },
        "id": "gIPvC4yLlAVp",
        "outputId": "f45bf9f5-0363-482e-f595-a9745d664ed9"
      },
      "outputs": [
        {
          "name": "stdout",
          "output_type": "stream",
          "text": [
            "[[[[[1 2 3 4]]]]]\n",
            "number of dimensions : 5\n"
          ]
        }
      ],
      "source": [
        "import numpy as np\n",
        "PyArr = np.array([1,2,3,4],ndmin=5)\n",
        "print(PyArr)\n",
        "print('number of dimensions :',PyArr.ndim)"
      ]
    },
    {
      "cell_type": "code",
      "execution_count": 1244,
      "metadata": {
        "colab": {
          "base_uri": "https://localhost:8080/"
        },
        "id": "CJLIwRVnya_c",
        "outputId": "d03b3008-2fa6-496f-8bc1-3cc021be87db"
      },
      "outputs": [
        {
          "name": "stdout",
          "output_type": "stream",
          "text": [
            "0\n",
            "1\n",
            "2\n",
            "3\n"
          ]
        }
      ],
      "source": [
        "import numpy as np\n",
        "PyArr1=np.array(4)\n",
        "PyArr2=np.array([1,2,34,56])\n",
        "PyArr3=np.array([[1,23,4,5],[34,57,68,90]])\n",
        "PyArr4=np.array([[[1,2,3],[4,5,6],[7,8,9]]])\n",
        "print(PyArr1.ndim)\n",
        "print(PyArr2.ndim)\n",
        "print(PyArr3.ndim)\n",
        "print(PyArr4.ndim)"
      ]
    },
    {
      "cell_type": "markdown",
      "metadata": {
        "id": "UTGHwyUUnUGk"
      },
      "source": [
        "numpy array indexing accessing 1-d array"
      ]
    },
    {
      "cell_type": "code",
      "execution_count": 1245,
      "metadata": {
        "colab": {
          "base_uri": "https://localhost:8080/"
        },
        "id": "MQIk-1hxnZLf",
        "outputId": "6ff83108-a908-4126-fd61-565025606b79"
      },
      "outputs": [
        {
          "name": "stdout",
          "output_type": "stream",
          "text": [
            "1\n",
            "2\n",
            "7\n"
          ]
        }
      ],
      "source": [
        "import numpy as np\n",
        "arr=np.array([1,2,3,4])\n",
        "print(arr[0])\n",
        "print(arr[1])\n",
        "print(arr[2]+arr[3])\n"
      ]
    },
    {
      "cell_type": "code",
      "execution_count": 1246,
      "metadata": {
        "colab": {
          "base_uri": "https://localhost:8080/"
        },
        "id": "smnuDamjDPXZ",
        "outputId": "a185eb18-ef20-4898-f919-47be0896c1ee"
      },
      "outputs": [
        {
          "name": "stdout",
          "output_type": "stream",
          "text": [
            "2nd element on 1st row: 2\n",
            "5th element on 2nd row: 10\n"
          ]
        }
      ],
      "source": [
        "# accessing 2-d array\n",
        "import numpy as np\n",
        "arr=np.array([[1,2,3,4,5],[6,7,8,9,10]])\n",
        "print('2nd element on 1st row:',arr[0,1])\n",
        "print('5th element on 2nd row:',arr[1,4])"
      ]
    },
    {
      "cell_type": "code",
      "execution_count": 1247,
      "metadata": {
        "colab": {
          "base_uri": "https://localhost:8080/"
        },
        "id": "QUrIA_irsZun",
        "outputId": "68d68006-0ac1-4fd1-c0b7-29c4992c4260"
      },
      "outputs": [
        {
          "name": "stdout",
          "output_type": "stream",
          "text": [
            "6\n"
          ]
        }
      ],
      "source": [
        "#accessing 3-d array\n",
        "import numpy as np\n",
        "arr=np.array([[[1,2,3],[4,5,6]],[[7,8,9],[10,11,12]]])\n",
        "print(arr[0,1,2])"
      ]
    },
    {
      "cell_type": "code",
      "execution_count": 1248,
      "metadata": {
        "colab": {
          "base_uri": "https://localhost:8080/"
        },
        "id": "nxUbWOYwvTm-",
        "outputId": "b515ba61-12b5-43b2-ec79-ad5ad1b9701c"
      },
      "outputs": [
        {
          "name": "stdout",
          "output_type": "stream",
          "text": [
            "last element from 2nd dim: 10\n"
          ]
        }
      ],
      "source": [
        "#negative indexing\n",
        "import numpy as np\n",
        "arr=np.array([[1,2,3,4,5],[6,7,8,9,10]])\n",
        "print('last element from 2nd dim:',arr[1,-1])"
      ]
    },
    {
      "cell_type": "code",
      "execution_count": 1249,
      "metadata": {
        "colab": {
          "base_uri": "https://localhost:8080/"
        },
        "id": "VRARKbkTwl9m",
        "outputId": "06578b06-674f-47df-ff88-c3fd3619c8a0"
      },
      "outputs": [
        {
          "name": "stdout",
          "output_type": "stream",
          "text": [
            "last element from 2nd dim: 5\n"
          ]
        }
      ],
      "source": [
        "import numpy as np\n",
        "arr=np.array([[1,2,3,4,5],[6,7,8,9,10]])\n",
        "print('last element from 2nd dim:',arr[0,-1])"
      ]
    },
    {
      "cell_type": "code",
      "execution_count": 1250,
      "metadata": {
        "colab": {
          "base_uri": "https://localhost:8080/"
        },
        "id": "Rbjoa5e0xCrE",
        "outputId": "49fd44ec-0526-4ba9-b2cc-aae7d6b06fa6"
      },
      "outputs": [
        {
          "name": "stdout",
          "output_type": "stream",
          "text": [
            "last element from 2nd dim: [ 6  7  8  9 10]\n"
          ]
        }
      ],
      "source": [
        "import numpy as np\n",
        "arr=np.array([[[1,2,3,4,5],[6,7,8,9,10]]])\n",
        "print('last element from 2nd dim:',arr[0,1])"
      ]
    },
    {
      "cell_type": "code",
      "execution_count": 1251,
      "metadata": {
        "colab": {
          "base_uri": "https://localhost:8080/"
        },
        "id": "0f6cKny2ygim",
        "outputId": "1c3b6430-8086-43a1-b569-ce22ae540ad4"
      },
      "outputs": [
        {
          "name": "stdout",
          "output_type": "stream",
          "text": [
            "last element from 2nd dim: 7\n"
          ]
        }
      ],
      "source": [
        "import numpy as np\n",
        "arr=np.array([[[1,2,3,4,5],[6,7,8,9,10]]])\n",
        "print('last element from 2nd dim:',arr[0,1,-4])"
      ]
    },
    {
      "cell_type": "code",
      "execution_count": 1252,
      "metadata": {
        "colab": {
          "base_uri": "https://localhost:8080/"
        },
        "id": "WntQW7Wc0eRM",
        "outputId": "c4fca88c-4427-46a3-f946-3b4f77842625"
      },
      "outputs": [
        {
          "name": "stdout",
          "output_type": "stream",
          "text": [
            "last element from 2nd dim: 10\n"
          ]
        }
      ],
      "source": [
        "import numpy as np\n",
        "arr=np.array([[[1,2,3,4,5],[6,7,8,9,10]]])\n",
        "print('last element from 2nd dim:',arr[0,1,-1])"
      ]
    },
    {
      "cell_type": "code",
      "execution_count": 1253,
      "metadata": {
        "colab": {
          "base_uri": "https://localhost:8080/"
        },
        "id": "EhCuAgbm2zLm",
        "outputId": "313dd291-3589-4cf1-a55d-07c0f5b2a080"
      },
      "outputs": [
        {
          "name": "stdout",
          "output_type": "stream",
          "text": [
            "[2 3 4 5]\n"
          ]
        }
      ],
      "source": [
        "#numpy array slicing\n",
        "import numpy as np\n",
        "arr=np.array([1,2,3,4,5,6,7])\n",
        "print(arr[1:5])#the result includes the start index,but excludes the end index"
      ]
    },
    {
      "cell_type": "code",
      "execution_count": 1254,
      "metadata": {
        "colab": {
          "base_uri": "https://localhost:8080/"
        },
        "id": "JUgasOng3wYC",
        "outputId": "187200a0-c1b2-4f6c-934b-1b43212613a2"
      },
      "outputs": [
        {
          "name": "stdout",
          "output_type": "stream",
          "text": [
            "[5 6 7]\n"
          ]
        }
      ],
      "source": [
        "import numpy as np\n",
        "arr=np.array([1,2,3,4,5,6,7])\n",
        "print(arr[4:])"
      ]
    },
    {
      "cell_type": "code",
      "execution_count": 1255,
      "metadata": {
        "colab": {
          "base_uri": "https://localhost:8080/"
        },
        "id": "4fGJL7LBIjB7",
        "outputId": "0d15f577-2139-48e6-8648-c989174dae7d"
      },
      "outputs": [
        {
          "name": "stdout",
          "output_type": "stream",
          "text": [
            "[1 2 3 4]\n"
          ]
        }
      ],
      "source": [
        "import numpy as np\n",
        "arr=np.array([1,2,3,4,5,6,7,8,9])\n",
        "print(arr[:4])"
      ]
    },
    {
      "cell_type": "code",
      "execution_count": 1256,
      "metadata": {
        "colab": {
          "base_uri": "https://localhost:8080/"
        },
        "id": "2sE_ea0yI6BL",
        "outputId": "5d767271-3764-47ba-aa00-9fc24a537fa5"
      },
      "outputs": [
        {
          "name": "stdout",
          "output_type": "stream",
          "text": [
            "[1 2 3 4 5 6 7 8 9]\n"
          ]
        }
      ],
      "source": [
        "import numpy as np\n",
        "arr=np.array([1,2,3,4,5,6,7,8,9,10])\n",
        "print(arr[0:9])"
      ]
    },
    {
      "cell_type": "markdown",
      "metadata": {
        "id": "VLg-3hhJJzoD"
      },
      "source": [
        "**Data types in NumPy**"
      ]
    },
    {
      "cell_type": "code",
      "execution_count": 1257,
      "metadata": {
        "colab": {
          "base_uri": "https://localhost:8080/"
        },
        "id": "PL43A7otJ_en",
        "outputId": "359f0afa-3f3e-4d42-e339-1bfae6f2824f"
      },
      "outputs": [
        {
          "name": "stdout",
          "output_type": "stream",
          "text": [
            "int32\n"
          ]
        }
      ],
      "source": [
        "import numpy as np\n",
        "arr=np.array([1,2,34,5,6])\n",
        "print(arr.dtype)"
      ]
    },
    {
      "cell_type": "code",
      "execution_count": 1258,
      "metadata": {
        "colab": {
          "base_uri": "https://localhost:8080/"
        },
        "id": "VmDaU4vbLToB",
        "outputId": "0075c815-39cb-48e9-be7f-966b40f4f988"
      },
      "outputs": [
        {
          "name": "stdout",
          "output_type": "stream",
          "text": [
            "int32\n"
          ]
        }
      ],
      "source": [
        "import numpy as np\n",
        "PyArr = np.array([1, 2, 3, 4])\n",
        "print(PyArr.dtype)\n"
      ]
    },
    {
      "cell_type": "code",
      "execution_count": 1259,
      "metadata": {
        "colab": {
          "base_uri": "https://localhost:8080/"
        },
        "id": "qi5YQkXxLrgN",
        "outputId": "e1d2a346-9951-4abc-e2e9-e36e47943925"
      },
      "outputs": [
        {
          "name": "stdout",
          "output_type": "stream",
          "text": [
            "<U1\n"
          ]
        }
      ],
      "source": [
        "import numpy as np\n",
        "PyArr=np.array(['1','2','3','4'])\n",
        "print(PyArr.dtype)\n"
      ]
    },
    {
      "cell_type": "code",
      "execution_count": 1260,
      "metadata": {
        "colab": {
          "base_uri": "https://localhost:8080/"
        },
        "id": "WSxVdjNnPWIW",
        "outputId": "6fd35d6b-81f6-453e-826e-63c27f5ef9f7"
      },
      "outputs": [
        {
          "name": "stdout",
          "output_type": "stream",
          "text": [
            "<U2\n"
          ]
        }
      ],
      "source": [
        "import numpy as np\n",
        "PyArr=np.array(['57','88','99','87'])\n",
        "print(PyArr.dtype)"
      ]
    },
    {
      "cell_type": "code",
      "execution_count": 1261,
      "metadata": {
        "colab": {
          "base_uri": "https://localhost:8080/"
        },
        "id": "k2EhPmVoNdgl",
        "outputId": "f8c47e17-3ff5-44a5-f1bc-01718a5a4f7e"
      },
      "outputs": [
        {
          "name": "stdout",
          "output_type": "stream",
          "text": [
            "<U3\n"
          ]
        }
      ],
      "source": [
        "import numpy as np\n",
        "PyArr=np.array(['112','234','456',])\n",
        "print(PyArr.dtype)"
      ]
    },
    {
      "cell_type": "code",
      "execution_count": 1262,
      "metadata": {
        "colab": {
          "base_uri": "https://localhost:8080/"
        },
        "id": "nXtrnAt1OHZF",
        "outputId": "2796920d-d0eb-41e7-ed77-9f1f035f6434"
      },
      "outputs": [
        {
          "name": "stdout",
          "output_type": "stream",
          "text": [
            "<U6\n"
          ]
        }
      ],
      "source": [
        "import numpy as np\n",
        "PyArr=np.array(['apple','banana'])\n",
        "print(PyArr.dtype)"
      ]
    },
    {
      "cell_type": "code",
      "execution_count": 1263,
      "metadata": {
        "colab": {
          "base_uri": "https://localhost:8080/"
        },
        "id": "8-iBBSBHObsV",
        "outputId": "b7706e26-adda-4233-b748-cbaa87108c3e"
      },
      "outputs": [
        {
          "name": "stdout",
          "output_type": "stream",
          "text": [
            "int32\n"
          ]
        }
      ],
      "source": [
        "import numpy as np\n",
        "PyArr=np.array([1,3,4,57,8,88,99,87])\n",
        "print(PyArr.dtype)"
      ]
    },
    {
      "cell_type": "code",
      "execution_count": 1264,
      "metadata": {
        "colab": {
          "base_uri": "https://localhost:8080/"
        },
        "id": "JWwaOCCbPieF",
        "outputId": "ab135de5-375f-4d62-e4f6-aa7e6306c969"
      },
      "outputs": [
        {
          "name": "stdout",
          "output_type": "stream",
          "text": [
            "<U7\n"
          ]
        }
      ],
      "source": [
        "import numpy as np\n",
        "PyArr=np.array(['akhi','bhanu','siri','mallesh'])\n",
        "print(PyArr.dtype)"
      ]
    },
    {
      "cell_type": "code",
      "execution_count": 1265,
      "metadata": {
        "colab": {
          "base_uri": "https://localhost:8080/"
        },
        "id": "bNW9aeGkQYel",
        "outputId": "885d6149-4269-4ed4-825e-49328d11d16a"
      },
      "outputs": [
        {
          "name": "stdout",
          "output_type": "stream",
          "text": [
            "<U7\n"
          ]
        }
      ],
      "source": [
        "import numpy as np\n",
        "PyArr=np.array(['akhi','bhanu','siri','mallesh','pandu','ammu'])\n",
        "print(PyArr.dtype)"
      ]
    },
    {
      "cell_type": "code",
      "execution_count": 1266,
      "metadata": {
        "colab": {
          "base_uri": "https://localhost:8080/"
        },
        "id": "srnOwt9W2XSF",
        "outputId": "063fd70c-23bf-40ff-a967-dcd6106a8661"
      },
      "outputs": [
        {
          "name": "stdout",
          "output_type": "stream",
          "text": [
            "int32\n"
          ]
        }
      ],
      "source": [
        "import numpy as np\n",
        "PyArr=np.array([(1,2,3,4)])\n",
        "print(PyArr.dtype)"
      ]
    },
    {
      "cell_type": "code",
      "execution_count": 1267,
      "metadata": {
        "colab": {
          "base_uri": "https://localhost:8080/"
        },
        "id": "xCIdPpERQ02n",
        "outputId": "c6640892-dc29-4c1f-99c1-b79b9f2612a4"
      },
      "outputs": [
        {
          "name": "stdout",
          "output_type": "stream",
          "text": [
            "int32\n"
          ]
        }
      ],
      "source": [
        "import numpy as np\n",
        "PyArr=np.array([1,2,3,4])\n",
        "print(PyArr.dtype)"
      ]
    },
    {
      "cell_type": "markdown",
      "metadata": {
        "id": "bhllndnyZZj4"
      },
      "source": [
        "dtype='U255' forces the maximum length of each string in the array to be 255 characters.\n"
      ]
    },
    {
      "cell_type": "code",
      "execution_count": 1268,
      "metadata": {
        "colab": {
          "base_uri": "https://localhost:8080/"
        },
        "id": "w0RAYxqcWZNu",
        "outputId": "33cdcd99-e001-4c6d-a3b3-efc9b87ffb85"
      },
      "outputs": [
        {
          "name": "stdout",
          "output_type": "stream",
          "text": [
            "<U25\n",
            "['akhi' 'bhanumahenderteja' 'siri' 'mallesh' 'pandu' 'ammu'\n",
            " 'krishnavarapuishwarakumar']\n"
          ]
        }
      ],
      "source": [
        "import numpy as np\n",
        "PyArr=np.array(['akhi','bhanumahenderteja','siri','mallesh','pandu','ammu','krishnavarapuishwarakumar'])\n",
        "print(PyArr.dtype)\n",
        "print(PyArr)"
      ]
    },
    {
      "cell_type": "code",
      "execution_count": 1269,
      "metadata": {
        "colab": {
          "base_uri": "https://localhost:8080/"
        },
        "id": "9vs-X3_UTNV0",
        "outputId": "5855783f-d613-4d41-b7e2-c78da5efd978"
      },
      "outputs": [
        {
          "name": "stdout",
          "output_type": "stream",
          "text": [
            "<U53\n",
            "['11' '22' '3344' '55'\n",
            " 'qwerty1234567890qwertyuio12345666uioplkjhgfdsazxcvbnm']\n"
          ]
        }
      ],
      "source": [
        "import numpy as np\n",
        "pyarr = np.array(['11','22','33''44','55','qwerty1234567890qwertyuio12345666uioplkjhgfdsazxcvbnm'])\n",
        "print(pyarr.dtype)\n",
        "print(pyarr)"
      ]
    },
    {
      "cell_type": "code",
      "execution_count": 1270,
      "metadata": {
        "colab": {
          "base_uri": "https://localhost:8080/"
        },
        "id": "p8gCsTFYUojO",
        "outputId": "1ddd5ad1-6ad0-4f5f-c129-c7c8c040d3fc"
      },
      "outputs": [
        {
          "name": "stdout",
          "output_type": "stream",
          "text": [
            "['kjsjkfhgkf']\n"
          ]
        }
      ],
      "source": [
        "import numpy as np\n",
        "pyarr=np.array(['kjsjkfhgkfjugcnbchcfhjklkjj'], dtype='U10')\n",
        "print(pyarr)"
      ]
    },
    {
      "cell_type": "code",
      "execution_count": 1271,
      "metadata": {
        "colab": {
          "base_uri": "https://localhost:8080/"
        },
        "id": "StDK9BmiZ2Kp",
        "outputId": "d5cbf912-e48f-4086-ec29-14e6caf60f0e"
      },
      "outputs": [
        {
          "name": "stdout",
          "output_type": "stream",
          "text": [
            "7\n"
          ]
        }
      ],
      "source": [
        "#size attribute\n",
        "import numpy as np\n",
        "PyArr=np.array([1,2,3,4,5,6,7])\n",
        "print(PyArr.size)"
      ]
    },
    {
      "cell_type": "code",
      "execution_count": 1272,
      "metadata": {
        "colab": {
          "base_uri": "https://localhost:8080/"
        },
        "id": "4Rt2_eXMRFtC",
        "outputId": "d0bc115b-9fe7-40e1-eba6-580c0cddf408"
      },
      "outputs": [
        {
          "name": "stdout",
          "output_type": "stream",
          "text": [
            "[b'1' b'2' b'3' b'4' b'5']\n",
            "|S1\n"
          ]
        }
      ],
      "source": [
        "#creating arrays with defined data types\n",
        "import numpy as np\n",
        "PyArr=np.array([1,2,3,4,5], dtype='S')\n",
        "print(PyArr)\n",
        "print(PyArr.dtype)\n",
        "#NOTE: For i, u, f, S and U we can define size as well. Here 'b' represents bytes string."
      ]
    },
    {
      "cell_type": "markdown",
      "metadata": {
        "id": "DjeuG6yW6jKk"
      },
      "source": [
        "complex values have the real part and imaginary part(complex128 means the number used 64 bits for real part and 64 bits used imaginary part)\n",
        " **\"+0.j\" indicates that imaginary part**"
      ]
    },
    {
      "cell_type": "code",
      "execution_count": 1273,
      "metadata": {
        "colab": {
          "base_uri": "https://localhost:8080/"
        },
        "id": "uZLKunC9ao6v",
        "outputId": "c340f9d5-2207-4c7d-8fdc-78b939ae8aba"
      },
      "outputs": [
        {
          "name": "stdout",
          "output_type": "stream",
          "text": [
            "[1.+0.j 2.+0.j 3.+0.j 4.+0.j 5.+0.j]\n",
            "complex128\n"
          ]
        }
      ],
      "source": [
        "import numpy as np\n",
        "PyArr=np.array([1,2,3,4,5],dtype=complex)\n",
        "print(PyArr)\n",
        "print(PyArr.dtype)"
      ]
    },
    {
      "cell_type": "code",
      "execution_count": 1274,
      "metadata": {
        "colab": {
          "base_uri": "https://localhost:8080/"
        },
        "id": "hI_svos26hEu",
        "outputId": "c1cabd79-c966-49ff-cf5c-146ab4ed034d"
      },
      "outputs": [
        {
          "name": "stdout",
          "output_type": "stream",
          "text": [
            "[1 2 3 4 5]\n",
            "int32\n"
          ]
        }
      ],
      "source": [
        "import numpy as np\n",
        "PyArr=np.array([1,2,3,4,5],dtype='i4')\n",
        "print(PyArr)\n",
        "print(PyArr.dtype)"
      ]
    },
    {
      "cell_type": "markdown",
      "metadata": {
        "id": "-SrebcvZ_ZEA"
      },
      "source": [
        "**converting data type on exsting arrays** using astype (datatype) method.u can use the dat types as like as u want"
      ]
    },
    {
      "cell_type": "code",
      "execution_count": 1275,
      "metadata": {
        "colab": {
          "base_uri": "https://localhost:8080/"
        },
        "id": "b0JfjwjO9-eC",
        "outputId": "49fc3cf7-0f54-4ffe-f00b-33f4b6940ea4"
      },
      "outputs": [
        {
          "name": "stdout",
          "output_type": "stream",
          "text": [
            "[1 2 3 4]\n",
            "int32\n"
          ]
        }
      ],
      "source": [
        "import numpy as np\n",
        "PyArr=np.array([1.1,2.2,3.3,4.4])\n",
        "newarr=PyArr.astype('i')\n",
        "print(newarr)\n",
        "print(newarr.dtype)"
      ]
    },
    {
      "cell_type": "code",
      "execution_count": 1276,
      "metadata": {
        "colab": {
          "base_uri": "https://localhost:8080/"
        },
        "id": "b3T3X3lKMqBK",
        "outputId": "7cb7423a-5f3f-4a22-823e-030fddb755e0"
      },
      "outputs": [
        {
          "name": "stdout",
          "output_type": "stream",
          "text": [
            "[b'1' b'2' b'3' b'4' b'5' b'6']\n",
            "|S11\n"
          ]
        }
      ],
      "source": [
        "import numpy as np\n",
        "PyArr=np.array([1,2,3,4,5,6])\n",
        "newarr=PyArr.astype('S')\n",
        "print(newarr)\n",
        "print(newarr.dtype)"
      ]
    },
    {
      "cell_type": "code",
      "execution_count": 1277,
      "metadata": {
        "colab": {
          "base_uri": "https://localhost:8080/"
        },
        "id": "-HaIoqNpNIqn",
        "outputId": "c32c0f9e-c8e9-4c61-9011-ba904868e584"
      },
      "outputs": [
        {
          "name": "stdout",
          "output_type": "stream",
          "text": [
            "[1. 2. 3. 4. 5. 5.]\n",
            "float64\n"
          ]
        }
      ],
      "source": [
        "import numpy as np\n",
        "PyArr=np.array([1,2,3,4,5,5])\n",
        "newarr=PyArr.astype(float)\n",
        "print(newarr)\n",
        "print(newarr.dtype)"
      ]
    },
    {
      "cell_type": "code",
      "execution_count": 1278,
      "metadata": {
        "colab": {
          "base_uri": "https://localhost:8080/"
        },
        "id": "qfvblAMiN9wf",
        "outputId": "a3482b78-74d1-447a-d67a-faa6ee3638d9"
      },
      "outputs": [
        {
          "name": "stdout",
          "output_type": "stream",
          "text": [
            "[False  True  True  True  True]\n",
            "bool\n"
          ]
        }
      ],
      "source": [
        "import numpy as np\n",
        "PyArr=np.array([0,1,2,3,4])\n",
        "newarr=PyArr.astype(bool)\n",
        "print(newarr)\n",
        "print(newarr.dtype)"
      ]
    },
    {
      "cell_type": "markdown",
      "metadata": {
        "id": "sJWH-j0PgRJt"
      },
      "source": [
        "**item size**\n",
        "u can calculate the byte size of each element."
      ]
    },
    {
      "cell_type": "code",
      "execution_count": 1279,
      "metadata": {
        "colab": {
          "base_uri": "https://localhost:8080/"
        },
        "id": "-iDwAOXGgd3M",
        "outputId": "ed349efd-ebc2-4114-d442-176b1bff379c"
      },
      "outputs": [
        {
          "name": "stdout",
          "output_type": "stream",
          "text": [
            "4\n"
          ]
        }
      ],
      "source": [
        "import numpy as np\n",
        "PyArr=np.array([1,2,3,4])\n",
        "print(PyArr.itemsize)"
      ]
    },
    {
      "cell_type": "markdown",
      "metadata": {
        "id": "zOwAPT0khBUS"
      },
      "source": [
        "**python numpy array creation-empty,zeroes and ones.**"
      ]
    },
    {
      "cell_type": "code",
      "execution_count": 1280,
      "metadata": {
        "colab": {
          "base_uri": "https://localhost:8080/"
        },
        "id": "ilPtI7VxhPmk",
        "outputId": "a372fac0-eb25-4be2-ca33-5e9aa245dbdb"
      },
      "outputs": [
        {
          "name": "stdout",
          "output_type": "stream",
          "text": [
            "[[         0 1072693248          0]\n",
            " [1073741824          0 1074266112]\n",
            " [         0 1074790400          0]\n",
            " [1075052544          0 1075052544]]\n"
          ]
        }
      ],
      "source": [
        "import numpy as np\n",
        "#an array with 4 rows and 3 columns\n",
        "PyArr=np.empty([4,3],dtype=int)\n",
        "print(PyArr)"
      ]
    },
    {
      "cell_type": "code",
      "execution_count": 1281,
      "metadata": {
        "colab": {
          "base_uri": "https://localhost:8080/"
        },
        "id": "xfT0pLLekMUx",
        "outputId": "9fb47426-79b2-464b-ca41-3b5015f91d95"
      },
      "outputs": [
        {
          "name": "stdout",
          "output_type": "stream",
          "text": [
            "[[         0 1072693248          0]\n",
            " [1073741824          0 1074266112]\n",
            " [         0 1074790400          0]\n",
            " [1075052544          0 1075052544]]\n"
          ]
        }
      ],
      "source": [
        "import numpy as np\n",
        "PyArr=np.empty([4,3],dtype=int)\n",
        "print(PyArr)"
      ]
    },
    {
      "cell_type": "code",
      "execution_count": 1282,
      "metadata": {
        "colab": {
          "base_uri": "https://localhost:8080/"
        },
        "id": "2qWnwMAPkZMG",
        "outputId": "652d3733-9fbf-4216-bbf7-4c966b28b3a4"
      },
      "outputs": [
        {
          "name": "stdout",
          "output_type": "stream",
          "text": [
            "[[1 2 3]\n",
            " [4 5 5]]\n"
          ]
        }
      ],
      "source": [
        "import numpy as np\n",
        "PyArr=np.empty([2,3],dtype=int)\n",
        "print(PyArr)"
      ]
    },
    {
      "cell_type": "code",
      "execution_count": 1283,
      "metadata": {
        "colab": {
          "base_uri": "https://localhost:8080/"
        },
        "id": "XPDfjOzskjBc",
        "outputId": "7b2bebce-247d-440b-882c-e827940553af"
      },
      "outputs": [
        {
          "name": "stdout",
          "output_type": "stream",
          "text": [
            "[[49 49 50]\n",
            " [50 51 52]\n",
            " [52 53 54]]\n"
          ]
        }
      ],
      "source": [
        "import numpy as np\n",
        "PyArr=np.empty([3,3],dtype=int)\n",
        "print(PyArr)"
      ]
    },
    {
      "cell_type": "code",
      "execution_count": 1284,
      "metadata": {
        "colab": {
          "base_uri": "https://localhost:8080/"
        },
        "id": "77c6_Y1IkobL",
        "outputId": "849e95d9-302a-4556-cddd-4ac170a7fb6f"
      },
      "outputs": [
        {
          "name": "stdout",
          "output_type": "stream",
          "text": [
            "[[         0 1072693248          0]\n",
            " [1072693248          0 1072693248]\n",
            " [         0 1072693248          0]\n",
            " [1072693248          0 1072693248]\n",
            " [         0 1072693248          0]\n",
            " [1072693248          0 1072693248]]\n"
          ]
        }
      ],
      "source": [
        "import numpy as np\n",
        "PyArr=np.empty([6,3],dtype=int)\n",
        "print(PyArr)"
      ]
    },
    {
      "cell_type": "code",
      "execution_count": 1285,
      "metadata": {
        "colab": {
          "base_uri": "https://localhost:8080/"
        },
        "id": "wKewSQS-6nVr",
        "outputId": "72bd5269-9595-4ebc-a929-6b42e86adce9"
      },
      "outputs": [
        {
          "name": "stdout",
          "output_type": "stream",
          "text": [
            "[[ 64  64  64  64]\n",
            " [ 64  64  68  97]\n",
            " [116  97  32  83]\n",
            " [ 99 105 101 110]\n",
            " [ 99 101  64  64]\n",
            " [ 64  64  64  64]]\n"
          ]
        }
      ],
      "source": [
        "import numpy as np\n",
        "PyArr=np.empty([6,4],dtype=int)\n",
        "print(PyArr)"
      ]
    },
    {
      "cell_type": "code",
      "execution_count": 1286,
      "metadata": {
        "colab": {
          "base_uri": "https://localhost:8080/"
        },
        "id": "rCawLVKv68iB",
        "outputId": "c0545e56-112b-444c-d912-27725d0bff26"
      },
      "outputs": [
        {
          "name": "stdout",
          "output_type": "stream",
          "text": [
            "[[0 0 0 0]\n",
            " [0 0 0 0]\n",
            " [0 0 0 0]\n",
            " [0 0 0 0]\n",
            " [0 0 0 0]\n",
            " [0 0 0 0]]\n"
          ]
        }
      ],
      "source": [
        "import numpy as np\n",
        "PyArr=np.zeros([6,4],dtype=int)\n",
        "print(PyArr)"
      ]
    },
    {
      "cell_type": "code",
      "execution_count": 1287,
      "metadata": {
        "colab": {
          "base_uri": "https://localhost:8080/"
        },
        "id": "fR6wJAls7Tzo",
        "outputId": "de94a76b-b5fc-45b7-8ff9-5364cec31c55"
      },
      "outputs": [
        {
          "name": "stdout",
          "output_type": "stream",
          "text": [
            "[[0 0 0 0]\n",
            " [0 0 0 0]]\n"
          ]
        }
      ],
      "source": [
        "import numpy as np\n",
        "PyArr=np.zeros([2,4],dtype=int)\n",
        "print(PyArr)"
      ]
    },
    {
      "cell_type": "code",
      "execution_count": 1288,
      "metadata": {
        "colab": {
          "base_uri": "https://localhost:8080/"
        },
        "id": "IMKYtAAI7bT9",
        "outputId": "0abb8870-911e-4f97-a7f8-82b122fb04d5"
      },
      "outputs": [
        {
          "name": "stdout",
          "output_type": "stream",
          "text": [
            "[[1 1 1 1]\n",
            " [1 1 1 1]]\n"
          ]
        }
      ],
      "source": [
        "import numpy as np\n",
        "PyArr=np.ones([2,4],dtype=int)\n",
        "print(PyArr)"
      ]
    },
    {
      "cell_type": "code",
      "execution_count": 1289,
      "metadata": {
        "colab": {
          "base_uri": "https://localhost:8080/"
        },
        "id": "0rF0f0Ry8ZLc",
        "outputId": "e7a216bf-29de-4202-c047-61cd2c0a392f"
      },
      "outputs": [
        {
          "name": "stdout",
          "output_type": "stream",
          "text": [
            "[4 4]\n"
          ]
        }
      ],
      "source": [
        "import numpy as np\n",
        "PyArr=np.array([3,4])\n",
        "PyArr.fill(4)\n",
        "print(PyArr)"
      ]
    },
    {
      "cell_type": "code",
      "execution_count": 1290,
      "metadata": {
        "colab": {
          "base_uri": "https://localhost:8080/"
        },
        "id": "NbYmw3Bv7ms9",
        "outputId": "65bf32cd-d860-46b5-aedf-7d6787cd5bdb"
      },
      "outputs": [
        {
          "name": "stdout",
          "output_type": "stream",
          "text": [
            "[[[88 88 88 88]\n",
            "  [88 88 88 88]\n",
            "  [88 88 88 88]]\n",
            "\n",
            " [[88 88 88 88]\n",
            "  [88 88 88 88]\n",
            "  [88 88 88 88]]]\n"
          ]
        }
      ],
      "source": [
        "import numpy as np\n",
        "PyArr=np.full([2,3,4],88,dtype=int)\n",
        "print(PyArr)"
      ]
    },
    {
      "cell_type": "code",
      "execution_count": 1291,
      "metadata": {
        "colab": {
          "base_uri": "https://localhost:8080/"
        },
        "id": "XfymwZhU9Z-N",
        "outputId": "2bf8a545-f5cf-4603-f3b7-0526296e036a"
      },
      "outputs": [
        {
          "name": "stdout",
          "output_type": "stream",
          "text": [
            "[[99 99 99 99]\n",
            " [99 99 99 99]]\n"
          ]
        }
      ],
      "source": [
        "import numpy as np\n",
        "PyArr=np.full([2,4],99,dtype=int)\n",
        "print(PyArr)"
      ]
    },
    {
      "cell_type": "code",
      "execution_count": 1292,
      "metadata": {
        "colab": {
          "base_uri": "https://localhost:8080/"
        },
        "id": "rq22j3Qz9f8a",
        "outputId": "a6c746f1-d463-4e2c-8a0f-a82c24935be8"
      },
      "outputs": [
        {
          "name": "stdout",
          "output_type": "stream",
          "text": [
            "[54. 54.]\n"
          ]
        }
      ],
      "source": [
        "import numpy as np\n",
        "PyArr=np.full([2],54,dtype=float)\n",
        "print(PyArr)"
      ]
    },
    {
      "cell_type": "code",
      "execution_count": 1293,
      "metadata": {
        "colab": {
          "base_uri": "https://localhost:8080/"
        },
        "id": "BajNB2Gj-BrK",
        "outputId": "0a3999ac-c6e0-4ad9-e205-73c6da42963d"
      },
      "outputs": [
        {
          "name": "stdout",
          "output_type": "stream",
          "text": [
            "[[42 42 42 42]\n",
            " [66 66 66 66]]\n",
            "[[1 2 3 4]\n",
            " [6 7 8 9]]\n"
          ]
        }
      ],
      "source": [
        "#the copy should not affected by the changes made to the original array.\n",
        "import numpy as np\n",
        "arr=np.array([[1,2,3,4],[6,7,8,9]])\n",
        "x=arr.copy()\n",
        "arr[0]=42\n",
        "arr[1]=66\n",
        "print(arr)\n",
        "print(x)"
      ]
    },
    {
      "cell_type": "code",
      "execution_count": 1294,
      "metadata": {
        "colab": {
          "base_uri": "https://localhost:8080/"
        },
        "id": "7rTeGUT---3Y",
        "outputId": "3e74354f-14cc-4d24-e9a3-9c483af06025"
      },
      "outputs": [
        {
          "name": "stdout",
          "output_type": "stream",
          "text": [
            "[[  1   2 100   4]\n",
            " [327   7   8   9]]\n",
            "[[1 2 3 4]\n",
            " [6 7 8 9]]\n"
          ]
        }
      ],
      "source": [
        "import numpy  as np\n",
        "arr=np.array([[1,2,3,4],[6,7,8,9]])\n",
        "x=arr.copy()\n",
        "arr[0,2]=100\n",
        "arr[1,0]=327\n",
        "print(arr)\n",
        "print(x)"
      ]
    },
    {
      "cell_type": "code",
      "execution_count": 1295,
      "metadata": {
        "colab": {
          "base_uri": "https://localhost:8080/"
        },
        "id": "8SGVs09v_l0s",
        "outputId": "373af561-7024-49e9-fc12-56bc97879cc1"
      },
      "outputs": [
        {
          "name": "stdout",
          "output_type": "stream",
          "text": [
            "[42  2  3  4]\n",
            "[42  2  3  4]\n"
          ]
        }
      ],
      "source": [
        "#the view should be affected by the changes made to the original array.\n",
        "import numpy as np\n",
        "arr=np.array([1,2,3,4])\n",
        "x=arr.view()\n",
        "arr[0]=42\n",
        "print(arr)\n",
        "print(x)"
      ]
    },
    {
      "cell_type": "code",
      "execution_count": 1296,
      "metadata": {
        "colab": {
          "base_uri": "https://localhost:8080/"
        },
        "id": "uVELOfufAmh9",
        "outputId": "7ef0afd2-4db0-497d-ad22-04adb5809ca8"
      },
      "outputs": [
        {
          "name": "stdout",
          "output_type": "stream",
          "text": [
            "[[  42   42   42   42]\n",
            " [4353 4353 4353 4353]]\n",
            "[[  42   42   42   42]\n",
            " [4353 4353 4353 4353]]\n"
          ]
        }
      ],
      "source": [
        "import numpy as np\n",
        "arr=np.array([[1,2,3,4],[7,8,9,0]])\n",
        "x=arr.view()\n",
        "arr[0]=42\n",
        "arr[1]=4353\n",
        "print(arr)\n",
        "print(x)"
      ]
    },
    {
      "cell_type": "code",
      "execution_count": 1297,
      "metadata": {
        "colab": {
          "base_uri": "https://localhost:8080/"
        },
        "id": "j7CgV8ZqA4D1",
        "outputId": "922ccc63-6f34-4737-8819-802e9268ef90"
      },
      "outputs": [
        {
          "name": "stdout",
          "output_type": "stream",
          "text": [
            "[[   1    2    3   42]\n",
            " [   7    8 4353    0]]\n",
            "[[   1    2    3   42]\n",
            " [   7    8 4353    0]]\n"
          ]
        }
      ],
      "source": [
        "import numpy as np\n",
        "arr=np.array([[1,2,3,4],[7,8,9,0]])\n",
        "x=arr.view()\n",
        "arr[0,3]=42\n",
        "arr[1,2]=4353\n",
        "print(arr)\n",
        "print(x)"
      ]
    },
    {
      "cell_type": "code",
      "execution_count": 1298,
      "metadata": {
        "colab": {
          "base_uri": "https://localhost:8080/"
        },
        "id": "BYh-Yse1BHyp",
        "outputId": "ee173f4a-604f-4ec7-f2d2-34ab4dfac76c"
      },
      "outputs": [
        {
          "name": "stdout",
          "output_type": "stream",
          "text": [
            "None\n",
            "[1 2 3 4 5 6 7 8 9]\n"
          ]
        }
      ],
      "source": [
        "import numpy as np\n",
        "arr=np.array([1,2,3,4,5,6,7,8,9])\n",
        "x=arr.copy()#copy owns the data\n",
        "y=arr.view()#view does not owns the data\n",
        "#numpy array has the attribute base that returns None if the array owns the data.\n",
        "#the base attribute refers to the original object\n",
        "print(x.base)\n",
        "print(y.base)"
      ]
    },
    {
      "cell_type": "markdown",
      "metadata": {
        "id": "tL-I43rYDZkW"
      },
      "source": [
        "**Numpy array creation using exsting data**"
      ]
    },
    {
      "cell_type": "code",
      "execution_count": 1299,
      "metadata": {
        "colab": {
          "base_uri": "https://localhost:8080/"
        },
        "id": "o6hg4GmHGgjc",
        "outputId": "c57d4435-7aa3-4e0c-abfc-4b1b6fa7fdaf"
      },
      "outputs": [
        {
          "name": "stdout",
          "output_type": "stream",
          "text": [
            "[[ 1  2  3  4  5]\n",
            " [ 0  9  8  7 89]]\n"
          ]
        }
      ],
      "source": [
        "import numpy as np\n",
        "l=[[1,2,3,4,5],[0,9,8,7,89]]\n",
        "arr=np.array(l,dtype=int,order='F')\n",
        "print(arr)\n"
      ]
    },
    {
      "cell_type": "code",
      "execution_count": 1300,
      "metadata": {
        "colab": {
          "base_uri": "https://localhost:8080/"
        },
        "id": "VSwxUQlWHU-9",
        "outputId": "2ad59ad3-511c-4fca-e48b-b1f3aeec29a2"
      },
      "outputs": [
        {
          "name": "stdout",
          "output_type": "stream",
          "text": [
            "[[1 2 3 4 5 6 7 8 9 0]]\n"
          ]
        }
      ],
      "source": [
        "import numpy as np\n",
        "l=[[1,2,3,4,5,\n",
        "    6,7,8,9,0]]\n",
        "arr=np.array(l,dtype=int,order='C')\n",
        "print(arr)\n"
      ]
    },
    {
      "cell_type": "code",
      "execution_count": 1301,
      "metadata": {
        "colab": {
          "base_uri": "https://localhost:8080/"
        },
        "id": "41DutuoNIoHJ",
        "outputId": "0295d6f4-eb6f-41f3-be30-9a9c5bee7e70"
      },
      "outputs": [
        {
          "name": "stdout",
          "output_type": "stream",
          "text": [
            "[[10, 20, 30], [40, 50, 60]]\n",
            "[[10 20 30]\n",
            " [40 50 60]]\n"
          ]
        }
      ],
      "source": [
        "import numpy as np\n",
        "PyList=[[10,20,30],[40,50,60]]\n",
        "print(PyList)\n",
        "PyResult=np.asarray(PyList,dtype=int,order='F')\n",
        "print(PyResult)\n"
      ]
    },
    {
      "cell_type": "code",
      "execution_count": 1302,
      "metadata": {
        "colab": {
          "base_uri": "https://localhost:8080/"
        },
        "id": "iVY3xparI5xH",
        "outputId": "935c4cd4-8ffd-46c2-b807-55261190f42d"
      },
      "outputs": [
        {
          "name": "stdout",
          "output_type": "stream",
          "text": [
            "[ 0  5 10 15 20 25 30 35 40 45]\n",
            "0\n",
            "5\n",
            "10\n",
            "15\n",
            "20\n",
            "25\n",
            "30\n",
            "35\n",
            "40\n",
            "45\n"
          ]
        }
      ],
      "source": [
        "import numpy as np\n",
        "arr=np.arange(0,50,5)\n",
        "print(arr)\n",
        "for item in np.nditer(arr):\n",
        "  print(item)"
      ]
    },
    {
      "cell_type": "code",
      "execution_count": 1303,
      "metadata": {
        "colab": {
          "base_uri": "https://localhost:8080/"
        },
        "id": "2Q0uFhNrAVPv",
        "outputId": "d3f9f710-028d-4137-c169-13b0592c8923"
      },
      "outputs": [
        {
          "name": "stdout",
          "output_type": "stream",
          "text": [
            "[ 0.+0.j 10.+0.j 20.+0.j 30.+0.j 40.+0.j 50.+0.j 60.+0.j]\n",
            "0j\n",
            "(10+0j)\n",
            "(20+0j)\n",
            "(30+0j)\n",
            "(40+0j)\n",
            "(50+0j)\n",
            "(60+0j)\n"
          ]
        }
      ],
      "source": [
        "import numpy as np\n",
        "arr=np.arange(0,70,10,'complex')\n",
        "print(arr)\n",
        "for i in np.nditer(arr):\n",
        "  print(i)"
      ]
    },
    {
      "cell_type": "code",
      "execution_count": 1304,
      "metadata": {
        "colab": {
          "base_uri": "https://localhost:8080/"
        },
        "id": "Ul-DGXlaAueQ",
        "outputId": "7703189a-7919-49d9-e452-5b44aa86588f"
      },
      "outputs": [
        {
          "name": "stdout",
          "output_type": "stream",
          "text": [
            "[[10 20 30 40]\n",
            " [60 70 80 90]]\n",
            "[[10 20 30 40]\n",
            " [60 70 80 90]]\n",
            "10\n",
            "20\n",
            "30\n",
            "40\n",
            "60\n",
            "70\n",
            "80\n",
            "90\n"
          ]
        }
      ],
      "source": [
        "import numpy as np\n",
        "arr=np.array([[10,20,30,40],[60,70,80,90]])\n",
        "print(arr)\n",
        "arr=np.asarray(arr,dtype=int,order='C')#'C' row major order\n",
        "print(arr)\n",
        "for i in np.nditer(arr):\n",
        "  print(i)"
      ]
    },
    {
      "cell_type": "code",
      "execution_count": 1305,
      "metadata": {
        "colab": {
          "base_uri": "https://localhost:8080/"
        },
        "id": "jRcegL5RBjFs",
        "outputId": "b57cb195-ee56-4d7d-dfb9-cfda0ad12bbc"
      },
      "outputs": [
        {
          "name": "stdout",
          "output_type": "stream",
          "text": [
            "[[10 20 30 40]\n",
            " [60 70 80 90]]\n",
            "[[10 20 30 40]\n",
            " [60 70 80 90]]\n",
            "10\n",
            "60\n",
            "20\n",
            "70\n",
            "30\n",
            "80\n",
            "40\n",
            "90\n"
          ]
        }
      ],
      "source": [
        "import numpy as np\n",
        "arr=np.array([[10,20,30,40],[60,70,80,90]])\n",
        "print(arr)\n",
        "arr=np.asarray(arr,dtype=int,order='F')#'F'column major order\n",
        "print(arr)\n",
        "for i in np.nditer(arr):\n",
        "  print(i)"
      ]
    },
    {
      "cell_type": "markdown",
      "metadata": {
        "id": "i3eN-LhwCEjg"
      },
      "source": [
        "## **numpy.frombuffer(buffer, dtype, count, offset)**\n",
        "count means length of result, default -1, total string\n",
        "\n",
        " offset means from starting position, default 0 index"
      ]
    },
    {
      "cell_type": "code",
      "execution_count": 1306,
      "metadata": {
        "colab": {
          "base_uri": "https://localhost:8080/"
        },
        "id": "R5NecUafB0_4",
        "outputId": "3395e519-bde0-4c40-d5c5-ed57125f172e"
      },
      "outputs": [
        {
          "name": "stdout",
          "output_type": "stream",
          "text": [
            "<class 'bytes'>\n",
            "[b'p' b'y' b't' b'h' b'o' b'n']\n",
            "<class 'numpy.ndarray'>\n"
          ]
        }
      ],
      "source": [
        "import numpy as np\n",
        "#initialize bytes\n",
        "pystr=b'python' #b is the prefix,it saved in terms of bytes(ASCII) not in string format\n",
        "print(type(pystr))\n",
        "bf=np.frombuffer(pystr,\"S1\",count=-1,offset=0)\n",
        "print(bf)\n",
        "print(type(bf))"
      ]
    },
    {
      "cell_type": "code",
      "execution_count": 1307,
      "metadata": {
        "colab": {
          "base_uri": "https://localhost:8080/"
        },
        "id": "CBr5S5LrGqGz",
        "outputId": "1b0b6449-e5fa-4087-cadc-ee8d669a9535"
      },
      "outputs": [
        {
          "name": "stdout",
          "output_type": "stream",
          "text": [
            "<class 'bytes'>\n",
            "[b'p' b'y' b't' b'h' b'o' b'n']\n",
            "<class 'numpy.ndarray'>\n"
          ]
        }
      ],
      "source": [
        "import numpy as np\n",
        "pystr=b'python'\n",
        "print(type(pystr))\n",
        "bf=np.frombuffer(pystr,\"S1\")#S1 means 1 byte data\n",
        "print(bf)\n",
        "print(type(bf))"
      ]
    },
    {
      "cell_type": "code",
      "execution_count": 1308,
      "metadata": {
        "colab": {
          "base_uri": "https://localhost:8080/"
        },
        "id": "3c7AhYqXLGus",
        "outputId": "1447fcfd-ffd6-43ec-a8d9-0f8217c17b25"
      },
      "outputs": [
        {
          "name": "stdout",
          "output_type": "stream",
          "text": [
            "<class 'bytes'>\n",
            "[b'p' b'y']\n",
            "<class 'numpy.ndarray'>\n"
          ]
        }
      ],
      "source": [
        "import numpy as np\n",
        "#initialize bytes\n",
        "pystr=b'python' #b is the prefix,it saved in terms of bytes(ASCII) not in string format\n",
        "print(type(pystr))\n",
        "bf=np.frombuffer(pystr,\"S1\",count=2,offset=0)\n",
        "print(bf)\n",
        "print(type(bf))"
      ]
    },
    {
      "cell_type": "code",
      "execution_count": 1309,
      "metadata": {
        "colab": {
          "base_uri": "https://localhost:8080/"
        },
        "id": "q2ddzsQTzznh",
        "outputId": "43b71b00-9693-4712-c7ee-fb0a8e9b5a55"
      },
      "outputs": [
        {
          "name": "stdout",
          "output_type": "stream",
          "text": [
            "<class 'bytes'>\n",
            "[b'p']\n",
            "<class 'numpy.ndarray'>\n"
          ]
        }
      ],
      "source": [
        "import numpy as np\n",
        "pystr=b'python'\n",
        "print(type(pystr))\n",
        "bf=np.frombuffer(pystr,\"S1\",count=1,offset=0)\n",
        "print(bf)\n",
        "print(type(bf))"
      ]
    },
    {
      "cell_type": "code",
      "execution_count": 1310,
      "metadata": {
        "colab": {
          "base_uri": "https://localhost:8080/"
        },
        "id": "_c8XaRclLXHX",
        "outputId": "3b994fc7-81cf-4d52-b3fd-d241cb95778b"
      },
      "outputs": [
        {
          "name": "stdout",
          "output_type": "stream",
          "text": [
            "<class 'bytes'>\n",
            "[b'h' b'o' b'n']\n",
            "<class 'numpy.ndarray'>\n"
          ]
        }
      ],
      "source": [
        "import numpy as np\n",
        "#initialize bytes\n",
        "pystr=b'python' #b is the prefix,it saved in terms of bytes(ASCII) not in string format\n",
        "print(type(pystr))\n",
        "bf=np.frombuffer(pystr,\"S1\",count=3,offset=3)\n",
        "print(bf)\n",
        "print(type(bf))"
      ]
    },
    {
      "cell_type": "markdown",
      "metadata": {
        "id": "sIRk4UTYrR3e"
      },
      "source": [
        "Syntax:\n",
        "numpy.fromiter(iterable, dtype, count)\n",
        "1. iterable ==> list or tuple\n",
        "2. dtype ==> int, float,str\n",
        "3. count ==> Length of returned array, default -1\n",
        "\n"
      ]
    },
    {
      "cell_type": "code",
      "execution_count": 1311,
      "metadata": {
        "colab": {
          "base_uri": "https://localhost:8080/"
        },
        "id": "isXsJ08VL2KL",
        "outputId": "24f39ad6-7810-48df-bcf5-b707022c20b1"
      },
      "outputs": [
        {
          "name": "stdout",
          "output_type": "stream",
          "text": [
            "[1 2 3 4 5]\n",
            "<class 'numpy.ndarray'>\n"
          ]
        }
      ],
      "source": [
        "import numpy as np\n",
        "pytuple=(1,2,3,4,5)\n",
        "Iter=iter(pytuple)\n",
        "ft=np.fromiter(Iter,dtype=int)\n",
        "print(ft)\n",
        "print(type(ft))"
      ]
    },
    {
      "cell_type": "code",
      "execution_count": 1312,
      "metadata": {
        "colab": {
          "base_uri": "https://localhost:8080/"
        },
        "id": "0yxzL7jXNo-8",
        "outputId": "5fb7fe81-162e-4e91-b8f4-0f4b651b53d5"
      },
      "outputs": [
        {
          "name": "stdout",
          "output_type": "stream",
          "text": [
            "[2 4]\n",
            "<class 'numpy.ndarray'>\n"
          ]
        }
      ],
      "source": [
        "import numpy as np\n",
        "PyTuple = (2,4,6,20)\n",
        "Iter = iter(PyTuple)\n",
        "PyFor = np.fromiter(Iter, dtype = int,count=2)\n",
        "print(PyFor)\n",
        "print(type(PyFor))\n",
        "\n"
      ]
    },
    {
      "cell_type": "code",
      "execution_count": 1313,
      "metadata": {
        "colab": {
          "base_uri": "https://localhost:8080/"
        },
        "id": "8_i5xIU3pYBu",
        "outputId": "e002c547-ef77-44f2-d3f8-0e9e98aade40"
      },
      "outputs": [
        {
          "name": "stdout",
          "output_type": "stream",
          "text": [
            "[1. 2. 3. 4. 5. 6.]\n",
            "<class 'numpy.ndarray'>\n"
          ]
        }
      ],
      "source": [
        "import numpy as np\n",
        "pytuple=(1,2,3,4,5,6)\n",
        "Iter=iter(pytuple)\n",
        "ft=np.fromiter(Iter,dtype=float,count=-1)#count=-1 gives all elements in array\n",
        "print(ft)\n",
        "print(type(ft))\n"
      ]
    },
    {
      "cell_type": "markdown",
      "metadata": {
        "id": "ZGjW0Z_7s-ZL"
      },
      "source": [
        "Numpy array creation from numerical ranges\n"
      ]
    },
    {
      "cell_type": "code",
      "execution_count": 1314,
      "metadata": {
        "colab": {
          "base_uri": "https://localhost:8080/"
        },
        "id": "Cy83KI2Ps4Wt",
        "outputId": "9f3a9bad-408b-42cc-9015-96459c4e544e"
      },
      "outputs": [
        {
          "name": "stdout",
          "output_type": "stream",
          "text": [
            "10\n"
          ]
        }
      ],
      "source": [
        "import numpy as np\n",
        "pyarr=np.array(10)\n",
        "print(pyarr)"
      ]
    },
    {
      "cell_type": "code",
      "execution_count": 1315,
      "metadata": {
        "colab": {
          "base_uri": "https://localhost:8080/"
        },
        "id": "GXvrtuEKtTsc",
        "outputId": "9655c355-8455-43c8-e622-bc928fef505c"
      },
      "outputs": [
        {
          "name": "stdout",
          "output_type": "stream",
          "text": [
            "[ 0  2  4  6  8 10 12 14 16 18]\n"
          ]
        }
      ],
      "source": [
        "import numpy as np\n",
        "pyarr=np.arange(0,20,2)\n",
        "print(pyarr)"
      ]
    },
    {
      "cell_type": "code",
      "execution_count": 1316,
      "metadata": {
        "colab": {
          "base_uri": "https://localhost:8080/"
        },
        "id": "tywTjizytlOD",
        "outputId": "e603bebf-1ed0-451e-8322-41c9d4272cf4"
      },
      "outputs": [
        {
          "name": "stdout",
          "output_type": "stream",
          "text": [
            "[ 0.+0.j  5.+0.j 10.+0.j 15.+0.j 20.+0.j 25.+0.j 30.+0.j 35.+0.j 40.+0.j\n",
            " 45.+0.j]\n"
          ]
        }
      ],
      "source": [
        "import numpy as np\n",
        "pyarr=np.arange(0,50,5,complex)\n",
        "print(pyarr)"
      ]
    },
    {
      "cell_type": "code",
      "execution_count": 1317,
      "metadata": {
        "colab": {
          "base_uri": "https://localhost:8080/"
        },
        "id": "T-6N7CEHt6qZ",
        "outputId": "49e8bbb0-162f-4e4f-ece2-aab998e89642"
      },
      "outputs": [
        {
          "name": "stdout",
          "output_type": "stream",
          "text": [
            "[ 0 20 40 60 80]\n"
          ]
        }
      ],
      "source": [
        "import numpy as np\n",
        "pyarr=np.arange(0,100,20,int)\n",
        "print(pyarr)"
      ]
    },
    {
      "cell_type": "code",
      "execution_count": 1318,
      "metadata": {
        "colab": {
          "base_uri": "https://localhost:8080/"
        },
        "id": "MtkKcot2uI7d",
        "outputId": "beddcfbb-e7a4-41ba-dc56-6768bf7c599f"
      },
      "outputs": [
        {
          "name": "stdout",
          "output_type": "stream",
          "text": [
            "[ 0.   2.5  5.   7.5 10. ]\n"
          ]
        }
      ],
      "source": [
        "#using numpy.linespace\n",
        "#numpy.linspace(start,stop,num,endpoint,retstep,dtype)\n",
        "import numpy as np\n",
        "pyarr=np.linspace(0,10,5)# 3 returns the count of values\n",
        "print(pyarr)"
      ]
    },
    {
      "cell_type": "code",
      "execution_count": 1319,
      "metadata": {
        "colab": {
          "base_uri": "https://localhost:8080/"
        },
        "id": "RF424_k9vpup",
        "outputId": "2318ba96-1766-4d05-b664-5f1d8dc84d4f"
      },
      "outputs": [
        {
          "name": "stdout",
          "output_type": "stream",
          "text": [
            "[ 0.    1.25  2.5   3.75  5.    6.25  7.5   8.75 10.  ]\n"
          ]
        }
      ],
      "source": [
        "import numpy as np\n",
        "pyarr=np.linspace(0,10,9)\n",
        "print(pyarr)\n"
      ]
    },
    {
      "cell_type": "code",
      "execution_count": 1320,
      "metadata": {
        "colab": {
          "base_uri": "https://localhost:8080/"
        },
        "id": "taatK2LTw205",
        "outputId": "93ff48c3-40ee-4a51-bb1b-ce1fb1933fef"
      },
      "outputs": [
        {
          "name": "stdout",
          "output_type": "stream",
          "text": [
            "[ 0. 20. 40. 60. 80.]\n"
          ]
        }
      ],
      "source": [
        "import numpy as np\n",
        "pyarr=np.linspace(0,100,5, endpoint=False,retstep=False)\n",
        "print(pyarr)"
      ]
    },
    {
      "cell_type": "code",
      "execution_count": 1321,
      "metadata": {
        "colab": {
          "base_uri": "https://localhost:8080/"
        },
        "id": "BLTZB_fUyVwV",
        "outputId": "78046502-52e7-4b47-a271-9a6163f373e9"
      },
      "outputs": [
        {
          "name": "stdout",
          "output_type": "stream",
          "text": [
            "(array([  0.,  25.,  50.,  75., 100.]), 25.0)\n"
          ]
        }
      ],
      "source": [
        "import numpy as np\n",
        "pyarr=np.linspace(0,100,5, endpoint=True,retstep=True)\n",
        "print(pyarr)"
      ]
    },
    {
      "cell_type": "code",
      "execution_count": 1322,
      "metadata": {
        "colab": {
          "base_uri": "https://localhost:8080/"
        },
        "id": "7yIWq0zDzVkt",
        "outputId": "d56a4fb0-5d3c-4192-d99e-42387aa9e26c"
      },
      "outputs": [
        {
          "name": "stdout",
          "output_type": "stream",
          "text": [
            "(array([  0.,  25.,  50.,  75., 100.]), 25.0)\n"
          ]
        }
      ],
      "source": [
        "import numpy as np\n",
        "pyarr=np.linspace(0,100,5, endpoint=True,retstep=True)\n",
        "print(pyarr)"
      ]
    },
    {
      "cell_type": "code",
      "execution_count": 1323,
      "metadata": {
        "colab": {
          "base_uri": "https://localhost:8080/"
        },
        "id": "4BHIqQ2rzy9X",
        "outputId": "10354750-0857-4f31-c19d-58f8190d967a"
      },
      "outputs": [
        {
          "name": "stdout",
          "output_type": "stream",
          "text": [
            "[ 0. 20. 40. 60. 80.]\n"
          ]
        }
      ],
      "source": [
        "import numpy as np\n",
        "pyarr=np.linspace(0,100,5, endpoint=False)\n",
        "print(pyarr)"
      ]
    },
    {
      "cell_type": "code",
      "execution_count": 1324,
      "metadata": {
        "colab": {
          "base_uri": "https://localhost:8080/"
        },
        "id": "mSO9-kDhyqnA",
        "outputId": "10121b57-d468-4d4c-cc85-3b85d81461ad"
      },
      "outputs": [
        {
          "name": "stdout",
          "output_type": "stream",
          "text": [
            "[1.e+00 1.e+02 1.e+04 1.e+06 1.e+08]\n"
          ]
        }
      ],
      "source": [
        "import numpy as np\n",
        "pyarr=np.logspace(0,10,5,endpoint=False)\n",
        "print(pyarr)"
      ]
    },
    {
      "cell_type": "code",
      "execution_count": 1325,
      "metadata": {
        "colab": {
          "base_uri": "https://localhost:8080/"
        },
        "id": "6VQdce9gz6CO",
        "outputId": "da9b81e3-e904-4928-e741-71ea1e984ac2"
      },
      "outputs": [
        {
          "name": "stdout",
          "output_type": "stream",
          "text": [
            "[1.e+00 1.e+02 1.e+04 1.e+06 1.e+08 1.e+10 1.e+12 1.e+14 1.e+16 1.e+18\n",
            " 1.e+20 1.e+22 1.e+24 1.e+26 1.e+28 1.e+30 1.e+32 1.e+34 1.e+36 1.e+38\n",
            " 1.e+40 1.e+42 1.e+44 1.e+46 1.e+48 1.e+50 1.e+52 1.e+54 1.e+56 1.e+58\n",
            " 1.e+60 1.e+62 1.e+64 1.e+66 1.e+68 1.e+70 1.e+72 1.e+74 1.e+76 1.e+78\n",
            " 1.e+80 1.e+82 1.e+84 1.e+86 1.e+88 1.e+90 1.e+92 1.e+94 1.e+96 1.e+98]\n"
          ]
        }
      ],
      "source": [
        "import numpy as np\n",
        "pyarr=np.logspace(0,100,50,endpoint=False)\n",
        "print(pyarr)"
      ]
    },
    {
      "cell_type": "code",
      "execution_count": 1326,
      "metadata": {
        "colab": {
          "base_uri": "https://localhost:8080/"
        },
        "id": "a0NqbI7J0OoJ",
        "outputId": "68534aca-7860-49a6-9445-b823feeca798"
      },
      "outputs": [
        {
          "name": "stdout",
          "output_type": "stream",
          "text": [
            "[1.00000000e+00 5.65685425e+00 3.20000000e+01 1.81019336e+02\n",
            " 1.02400000e+03]\n"
          ]
        }
      ],
      "source": [
        "import numpy as np\n",
        "pyarr=np.logspace(0,10,5, base=2)\n",
        "print(pyarr)"
      ]
    },
    {
      "cell_type": "code",
      "execution_count": 1327,
      "metadata": {
        "colab": {
          "base_uri": "https://localhost:8080/"
        },
        "id": "UI9-nX1r2sNc",
        "outputId": "f5bb7443-c4b5-4237-9cf2-fd92cbaf0409"
      },
      "outputs": [
        {
          "name": "stdout",
          "output_type": "stream",
          "text": [
            "[1.00000000e+00 3.16227766e+02 1.00000000e+05 3.16227766e+07\n",
            " 1.00000000e+10]\n"
          ]
        }
      ],
      "source": [
        "import numpy as np\n",
        "pyarr=np.logspace(0,10,5)\n",
        "print(pyarr)"
      ]
    },
    {
      "cell_type": "markdown",
      "metadata": {
        "id": "5bsNo5lWV5M1"
      },
      "source": [
        "# Numpy array shape"
      ]
    },
    {
      "cell_type": "code",
      "execution_count": 1328,
      "metadata": {
        "colab": {
          "base_uri": "https://localhost:8080/"
        },
        "id": "TmaAzGJaVtXU",
        "outputId": "b1ea2501-eb0a-4c19-eda9-5a1e4bbf9791"
      },
      "outputs": [
        {
          "name": "stdout",
          "output_type": "stream",
          "text": [
            "(7,)\n",
            "[1 2 3 4 5 6 7]\n"
          ]
        }
      ],
      "source": [
        "import numpy as np\n",
        "pyarr=np.array([1,2,3,4,5,6,7])\n",
        "print(pyarr.shape)\n",
        "print(pyarr)"
      ]
    },
    {
      "cell_type": "code",
      "execution_count": 1329,
      "metadata": {
        "colab": {
          "base_uri": "https://localhost:8080/"
        },
        "id": "nNRH1urkW27C",
        "outputId": "e68fa74d-5444-4a7a-9aa6-72d080345454"
      },
      "outputs": [
        {
          "name": "stdout",
          "output_type": "stream",
          "text": [
            "(2, 7)\n",
            "[[ 3  4  5  6  7  8  9]\n",
            " [10 11 12 13 14 15 16]]\n"
          ]
        }
      ],
      "source": [
        "import numpy as np\n",
        "pyarr=np.array(([3,4,5,6,7,8,9],[10,11,12,13,14,15,16]))\n",
        "print(pyarr.shape)\n",
        "print(pyarr)\n"
      ]
    },
    {
      "cell_type": "code",
      "execution_count": 1330,
      "metadata": {
        "colab": {
          "base_uri": "https://localhost:8080/"
        },
        "id": "Xc5G-_RYXVC3",
        "outputId": "2b8f9712-653e-47a4-8e7b-75b5b1f65e76"
      },
      "outputs": [
        {
          "name": "stdout",
          "output_type": "stream",
          "text": [
            "(2, 4)\n",
            "[[1 2 3 4]\n",
            " [5 6 7 8]]\n"
          ]
        }
      ],
      "source": [
        "import numpy as np\n",
        "pyarr=np.array([[1,2,3,4],[5,6,7,8]])\n",
        "print(pyarr.shape)\n",
        "print(pyarr)#Example returns (2, 4), which means that the array has 2 dimensions, and each dimension has 4 elements.\n"
      ]
    },
    {
      "cell_type": "code",
      "execution_count": 1331,
      "metadata": {
        "colab": {
          "base_uri": "https://localhost:8080/"
        },
        "id": "1k-XpLwGYcLq",
        "outputId": "af903521-6a5b-4072-cea7-6c8b5ec0b7e2"
      },
      "outputs": [
        {
          "name": "stdout",
          "output_type": "stream",
          "text": [
            "(3, 3)\n",
            "[[1 2 3]\n",
            " [4 5 6]\n",
            " [7 8 9]]\n"
          ]
        }
      ],
      "source": [
        "import numpy as np\n",
        "pyarr=np.array([[1,2,3],[4,5,6],[7,8,9]])\n",
        "print(pyarr.shape)\n",
        "print(pyarr)"
      ]
    },
    {
      "cell_type": "code",
      "execution_count": 1332,
      "metadata": {
        "colab": {
          "base_uri": "https://localhost:8080/"
        },
        "id": "F-nbRLXWZwnk",
        "outputId": "91714dc1-94b1-44f3-b614-1af5a239c0c9"
      },
      "outputs": [
        {
          "name": "stdout",
          "output_type": "stream",
          "text": [
            "[[1 2 3 4]\n",
            " [6 7 8 9]]\n",
            "[[1 2]\n",
            " [3 4]\n",
            " [6 7]\n",
            " [8 9]]\n"
          ]
        }
      ],
      "source": [
        "import numpy as np\n",
        "pyarr=np.array([(1,2,3,4),(6,7,8,9)])\n",
        "print(pyarr)\n",
        "pyarr=pyarr.reshape(4,2)\n",
        "print(pyarr)"
      ]
    },
    {
      "cell_type": "code",
      "execution_count": 1333,
      "metadata": {
        "colab": {
          "base_uri": "https://localhost:8080/"
        },
        "id": "uNPphk2HapTE",
        "outputId": "a9a655a3-395b-4994-d4fb-0e4bb9b1b5ef"
      },
      "outputs": [
        {
          "name": "stdout",
          "output_type": "stream",
          "text": [
            "[[ 1  2  3]\n",
            " [ 4  5  6]\n",
            " [ 7  8  9]\n",
            " [10 11  1]]\n"
          ]
        }
      ],
      "source": [
        "#reshape 1D to 2D array\n",
        "import numpy as np\n",
        "pyarr=np.array([1,2,3,4,5,6,7,8,9,10,11,1])\n",
        "arr=pyarr.reshape(4,3)\n",
        "print(arr)\n"
      ]
    },
    {
      "cell_type": "code",
      "execution_count": 1334,
      "metadata": {
        "colab": {
          "base_uri": "https://localhost:8080/"
        },
        "id": "cleW_vgKbl89",
        "outputId": "96b7e4ef-e32d-4331-a071-d416610a6bef"
      },
      "outputs": [
        {
          "name": "stdout",
          "output_type": "stream",
          "text": [
            "[[[ 1  2]\n",
            "  [ 3  4]\n",
            "  [ 5  6]]\n",
            "\n",
            " [[ 7  8]\n",
            "  [ 9 10]\n",
            "  [11 12]]]\n"
          ]
        }
      ],
      "source": [
        "import numpy as np\n",
        "pyarr=np.array([1,2,3,4,5,6,7,8,9,10,11,12])\n",
        "arr=pyarr.reshape(2,3,2)\n",
        "print(arr)\n"
      ]
    },
    {
      "cell_type": "code",
      "execution_count": 1335,
      "metadata": {
        "colab": {
          "base_uri": "https://localhost:8080/"
        },
        "id": "uaRtxh3pdyvw",
        "outputId": "429f1bdd-1a54-41f8-f58c-840a5e3e88b3"
      },
      "outputs": [
        {
          "name": "stdout",
          "output_type": "stream",
          "text": [
            "[ 0  1  2  3  4  5  6  7  8  9 10 11 12 13 14 15 16 17 18 19]\n"
          ]
        }
      ],
      "source": [
        "import numpy as np\n",
        "pyarr=np.arange(20)\n",
        "print(pyarr)\n"
      ]
    },
    {
      "cell_type": "code",
      "execution_count": 1336,
      "metadata": {
        "colab": {
          "base_uri": "https://localhost:8080/"
        },
        "id": "D33QQU3yeOVm",
        "outputId": "ba6ba22b-ab55-46dc-b6c4-a06ccd32adcd"
      },
      "outputs": [
        {
          "name": "stdout",
          "output_type": "stream",
          "text": [
            "[[ 0  1  2  3  4  5]\n",
            " [ 6  7  8  9 10 11]]\n"
          ]
        }
      ],
      "source": [
        "import numpy as np\n",
        "pyarr=np.arange(12).reshape(2,6)\n",
        "print(pyarr)"
      ]
    },
    {
      "cell_type": "code",
      "execution_count": 1337,
      "metadata": {
        "colab": {
          "base_uri": "https://localhost:8080/"
        },
        "id": "jVTLeNIwe4y7",
        "outputId": "d3eeb2f2-3b3f-4368-d144-b4e3f46baf72"
      },
      "outputs": [
        {
          "name": "stdout",
          "output_type": "stream",
          "text": [
            "[[ 0  1  2  3  4  5]\n",
            " [ 6  7  8  9 10 11]]\n"
          ]
        }
      ],
      "source": [
        "PyArr2= np.arange(12).reshape(2, 6)\n",
        "print(PyArr2)\n"
      ]
    },
    {
      "cell_type": "code",
      "execution_count": 1338,
      "metadata": {
        "colab": {
          "base_uri": "https://localhost:8080/"
        },
        "id": "GsevpvsIfCZD",
        "outputId": "e7c62440-0aaf-4bab-cf67-6db7ceff07a3"
      },
      "outputs": [
        {
          "name": "stdout",
          "output_type": "stream",
          "text": [
            "[[ 0  1]\n",
            " [ 2  3]\n",
            " [ 4  5]\n",
            " [ 6  7]\n",
            " [ 8  9]\n",
            " [10 11]]\n"
          ]
        }
      ],
      "source": [
        "pyarr=np.arange(12).reshape(6,2)\n",
        "print(pyarr)"
      ]
    },
    {
      "cell_type": "code",
      "execution_count": 1339,
      "metadata": {
        "colab": {
          "base_uri": "https://localhost:8080/"
        },
        "id": "EdOVZvvdfKW9",
        "outputId": "f1967555-28c0-4743-83a8-58f662802c67"
      },
      "outputs": [
        {
          "name": "stdout",
          "output_type": "stream",
          "text": [
            "[[[ 0  1]\n",
            "  [ 2  3]\n",
            "  [ 4  5]]\n",
            "\n",
            " [[ 6  7]\n",
            "  [ 8  9]\n",
            "  [10 11]]]\n"
          ]
        }
      ],
      "source": [
        "pyarr=np.arange(12).reshape(2,3,2)\n",
        "print(pyarr)"
      ]
    },
    {
      "cell_type": "code",
      "execution_count": 1340,
      "metadata": {
        "colab": {
          "base_uri": "https://localhost:8080/"
        },
        "id": "X0S1xd-zjzrg",
        "outputId": "cd4e3e18-fe55-46ef-f8d2-6314a7f5403f"
      },
      "outputs": [
        {
          "name": "stdout",
          "output_type": "stream",
          "text": [
            "[[ 0  4  3]\n",
            " [ 6 10  9]\n",
            " [ 2  1  5]\n",
            " [ 8  7 11]]\n"
          ]
        }
      ],
      "source": [
        "pyarr=np.reshape(pyarr,(4,3), order='F')\n",
        "print(pyarr)"
      ]
    },
    {
      "cell_type": "code",
      "execution_count": 1341,
      "metadata": {
        "colab": {
          "base_uri": "https://localhost:8080/"
        },
        "id": "4spRB8FCkPxY",
        "outputId": "8a4f9373-5d9b-4c9d-b34d-a12e8c95b9a2"
      },
      "outputs": [
        {
          "name": "stdout",
          "output_type": "stream",
          "text": [
            "[[ 0  4  3]\n",
            " [ 6 10  9]\n",
            " [ 2  1  5]\n",
            " [ 8  7 11]]\n"
          ]
        }
      ],
      "source": [
        "pyarr=np.reshape(pyarr,(4,3), order='C')\n",
        "print(pyarr)"
      ]
    },
    {
      "cell_type": "code",
      "execution_count": 1342,
      "metadata": {
        "colab": {
          "base_uri": "https://localhost:8080/"
        },
        "id": "UENVmB6et-Hn",
        "outputId": "672bcc1d-d8e9-4aac-c49a-31295dba9bf4"
      },
      "outputs": [
        {
          "name": "stdout",
          "output_type": "stream",
          "text": [
            "[[[ 1  2]\n",
            "  [ 3  4]\n",
            "  [ 5  6]]\n",
            "\n",
            " [[ 7  8]\n",
            "  [ 9 10]\n",
            "  [11 12]]]\n"
          ]
        }
      ],
      "source": [
        "import numpy as np\n",
        "pyarr=np.array([1,2,3,4,5,6,7,8,9,10,11,12])\n",
        "arr=pyarr.reshape(2,3,2)\n",
        "print(arr)"
      ]
    },
    {
      "cell_type": "code",
      "execution_count": 1343,
      "metadata": {
        "colab": {
          "base_uri": "https://localhost:8080/"
        },
        "id": "6d0sjgEUuYbr",
        "outputId": "ebbfc799-5981-4a80-cdf6-dda3c126b592"
      },
      "outputs": [
        {
          "name": "stdout",
          "output_type": "stream",
          "text": [
            "[ 0  1  2  3  4  5  6  7  8  9 10 11]\n",
            "[[ 0  1  2  3  4  5]\n",
            " [ 6  7  8  9 10 11]]\n",
            "[[ 0  1]\n",
            " [ 2  3]\n",
            " [ 4  5]\n",
            " [ 6  7]\n",
            " [ 8  9]\n",
            " [10 11]]\n",
            "[[[ 0  1]\n",
            "  [ 2  3]\n",
            "  [ 4  5]]\n",
            "\n",
            " [[ 6  7]\n",
            "  [ 8  9]\n",
            "  [10 11]]]\n"
          ]
        }
      ],
      "source": [
        "import numpy as np\n",
        "PyArr1 = np.arange(12)\n",
        "print(PyArr1)\n",
        "PyArr2= np.arange(12).reshape(2, 6)\n",
        "print(PyArr2)\n",
        "PyArr3 = np.arange(12).reshape(6,2)\n",
        "print(PyArr3)\n",
        "PyArr4 = np.arange(12).reshape(2, 3, 2)\n",
        "print(PyArr4)\n",
        "\n"
      ]
    },
    {
      "cell_type": "markdown",
      "metadata": {
        "id": "d8osFKwOMIYr"
      },
      "source": [
        "**Eye fuction()**\n",
        "\n",
        "Syntax:\n",
        "numpy.eye(N, M=None, k=0, dtype='float')\n",
        "\n",
        "N\tNumber of rows in the output.\n",
        "\n",
        "M\tNumber of columns in the output. If None, defaults to N.\n",
        "\n",
        "k\tIndex of the diagonal: 0\n",
        "\n",
        "dtype\tData-type of the returned array.\n"
      ]
    },
    {
      "cell_type": "code",
      "execution_count": 1344,
      "metadata": {
        "colab": {
          "base_uri": "https://localhost:8080/"
        },
        "id": "nCG5q1rPJVuA",
        "outputId": "293e5d4f-4a97-433a-be10-c68f398ab38a"
      },
      "outputs": [
        {
          "name": "stdout",
          "output_type": "stream",
          "text": [
            "[[1. 0.]\n",
            " [0. 1.]]\n",
            "[[1. 0. 0.]\n",
            " [0. 1. 0.]\n",
            " [0. 0. 1.]]\n",
            "[[1 0 0]\n",
            " [0 1 0]\n",
            " [0 0 1]]\n"
          ]
        }
      ],
      "source": [
        "import numpy as np\n",
        "print(np.eye(2))\n",
        "print(np.eye(3,3))\n",
        "print(np.eye(3,3,dtype=int))"
      ]
    },
    {
      "cell_type": "code",
      "execution_count": 1345,
      "metadata": {
        "colab": {
          "base_uri": "https://localhost:8080/"
        },
        "id": "ry9WgmmpMjal",
        "outputId": "41cf938e-b7ee-47cf-e6b0-1a88a3a2c4bc"
      },
      "outputs": [
        {
          "name": "stdout",
          "output_type": "stream",
          "text": [
            "[[0. 0.]\n",
            " [1. 0.]]\n",
            "[[0. 0.]\n",
            " [1. 0.]]\n",
            "[[0. 0. 0.]\n",
            " [0. 0. 0.]\n",
            " [1. 0. 0.]]\n",
            "[[0. 0. 1.]\n",
            " [0. 0. 0.]\n",
            " [0. 0. 0.]]\n"
          ]
        }
      ],
      "source": [
        "import numpy as np\n",
        "print(np.eye(2,k=-1))\n",
        "print(np.eye(2,2,k=-1))\n",
        "print(np.eye(3,3,k=-2))\n",
        "print(np.eye(3,3,k=2))"
      ]
    },
    {
      "cell_type": "markdown",
      "metadata": {
        "id": "diOg31sjQBpd"
      },
      "source": [
        "Numy array iterating"
      ]
    },
    {
      "cell_type": "code",
      "execution_count": 1346,
      "metadata": {
        "colab": {
          "base_uri": "https://localhost:8080/"
        },
        "id": "WYE564r9PWzo",
        "outputId": "e1913e7b-2acb-447c-a42f-d446d2ca91be"
      },
      "outputs": [
        {
          "name": "stdout",
          "output_type": "stream",
          "text": [
            "1\n",
            "2\n",
            "3\n"
          ]
        }
      ],
      "source": [
        "import numpy as np\n",
        "PyArr = np.array([1, 2, 3])\n",
        "for data in PyArr:\n",
        "  print(data)\n"
      ]
    },
    {
      "cell_type": "code",
      "execution_count": 1347,
      "metadata": {
        "colab": {
          "base_uri": "https://localhost:8080/"
        },
        "id": "u71w_2gkPcu2",
        "outputId": "4594f838-accb-400a-e826-bfd9d1b27015"
      },
      "outputs": [
        {
          "name": "stdout",
          "output_type": "stream",
          "text": [
            "[1 2 3]\n",
            "[4 5 6]\n"
          ]
        }
      ],
      "source": [
        "import numpy as np\n",
        "PyArr = np.array([[1, 2, 3], [4, 5, 6]])\n",
        "for data in PyArr:\n",
        "  print(data)\n"
      ]
    },
    {
      "cell_type": "code",
      "execution_count": 1348,
      "metadata": {
        "colab": {
          "base_uri": "https://localhost:8080/"
        },
        "id": "RIXDk-BHPoS6",
        "outputId": "a2274823-8b82-47b9-9956-4694df7d2f3a"
      },
      "outputs": [
        {
          "name": "stdout",
          "output_type": "stream",
          "text": [
            "1\n",
            "2\n",
            "3\n",
            "4\n",
            "5\n",
            "6\n"
          ]
        }
      ],
      "source": [
        "#Example:Iterate on each scalar element of the 2-D array:\n",
        "import numpy as np\n",
        "PyArr = np.array([[1, 2, 3], [4, 5, 6]])\n",
        "for data in PyArr:\n",
        "  for pdata in data:\n",
        "    print(pdata)\n",
        "\n"
      ]
    },
    {
      "cell_type": "code",
      "execution_count": 1349,
      "metadata": {
        "colab": {
          "base_uri": "https://localhost:8080/"
        },
        "id": "uALOW7vOP_Pn",
        "outputId": "7f7d40d3-95d3-4ce6-ecae-c257fee36d0a"
      },
      "outputs": [
        {
          "name": "stdout",
          "output_type": "stream",
          "text": [
            "[[1 2 3]\n",
            " [4 5 6]]\n",
            "[[ 7  8  9]\n",
            " [10 11 12]]\n"
          ]
        }
      ],
      "source": [
        "#Iterating 3-D Arrays\n",
        "import numpy as np\n",
        "PyArr = np.array([[[1, 2, 3], [4, 5, 6]], [[7, 8, 9], [10, 11, 12]]])\n",
        "for data in PyArr:\n",
        "  print(data)\n"
      ]
    },
    {
      "cell_type": "code",
      "execution_count": 1350,
      "metadata": {
        "colab": {
          "base_uri": "https://localhost:8080/"
        },
        "id": "0QPWk2NFQWpY",
        "outputId": "11284a29-6e8a-46df-d634-99fd3cb2be43"
      },
      "outputs": [
        {
          "name": "stdout",
          "output_type": "stream",
          "text": [
            "1\n",
            "2\n",
            "3\n",
            "4\n",
            "5\n",
            "6\n",
            "7\n",
            "8\n",
            "9\n",
            "10\n",
            "11\n",
            "12\n"
          ]
        }
      ],
      "source": [
        "import numpy as np\n",
        "PyArr = np.array([[[1, 2, 3], [4, 5, 6]], [[7, 8, 9], [10, 11, 12]]])\n",
        "for data in PyArr:\n",
        "  for pdata in data:\n",
        "    for qdata in pdata:\n",
        "      print(qdata)\n",
        "\n"
      ]
    },
    {
      "cell_type": "markdown",
      "metadata": {
        "id": "1OfoYYLprt8T"
      },
      "source": [
        "**Iterating Arrays Using nditer()**\n",
        "\n",
        "It is a helping function that can be used from very basic to very advanced iterations.\n"
      ]
    },
    {
      "cell_type": "code",
      "execution_count": 1351,
      "metadata": {
        "colab": {
          "base_uri": "https://localhost:8080/"
        },
        "id": "w9LPlXJfrkPV",
        "outputId": "b35971b7-4280-43fd-d1e2-c9da80cb6c2f"
      },
      "outputs": [
        {
          "name": "stdout",
          "output_type": "stream",
          "text": [
            "1\n",
            "2\n",
            "3\n",
            "4\n",
            "5\n",
            "6\n",
            "7\n",
            "8\n"
          ]
        }
      ],
      "source": [
        "#Example:Iterate through the following 3-D array:\n",
        "import numpy as np\n",
        "pyarr=np.array([[[1,2],[3,4],[5,6],[7,8]]])\n",
        "for data in np.nditer(pyarr):\n",
        " print(data)"
      ]
    },
    {
      "cell_type": "markdown",
      "metadata": {
        "id": "AuP71NKWuTMh"
      },
      "source": [
        "# Enumerated Iteration Using ndenumerate()\n",
        "Enumeration means mentioning sequence number of somethings one by one.\n",
        "\n"
      ]
    },
    {
      "cell_type": "code",
      "execution_count": 1352,
      "metadata": {
        "colab": {
          "base_uri": "https://localhost:8080/"
        },
        "id": "HHwEapsUumjW",
        "outputId": "bbf83726-ae8d-45c8-9133-af0033289e7b"
      },
      "outputs": [
        {
          "name": "stdout",
          "output_type": "stream",
          "text": [
            "(0,) 1\n",
            "(1,) 2\n",
            "(2,) 3\n",
            "(3,) 4\n",
            "(4,) 5\n"
          ]
        }
      ],
      "source": [
        "import numpy as np\n",
        "pyarr=np.array([1,2,3,4,5])\n",
        "for idx,data in np.ndenumerate(pyarr):\n",
        "  print(idx,data)"
      ]
    },
    {
      "cell_type": "code",
      "execution_count": 1353,
      "metadata": {
        "colab": {
          "base_uri": "https://localhost:8080/"
        },
        "id": "XCzwFurJvvb2",
        "outputId": "a8078bd6-f419-4f68-fec3-e28e0509bf6d"
      },
      "outputs": [
        {
          "name": "stdout",
          "output_type": "stream",
          "text": [
            "(0, 0) 1\n",
            "(0, 1) 2\n",
            "(0, 2) 3\n",
            "(0, 3) 4\n",
            "(1, 0) 5\n",
            "(1, 1) 6\n",
            "(1, 2) 7\n",
            "(1, 3) 8\n"
          ]
        }
      ],
      "source": [
        "import numpy as np\n",
        "pyarr=np.array([[1,2,3,4],[5,6,7,8]])\n",
        "for idx,data in  np.ndenumerate(pyarr):\n",
        "  print(idx,data)"
      ]
    },
    {
      "cell_type": "markdown",
      "metadata": {
        "id": "YnXHFwAkwle0"
      },
      "source": [
        "### **NumPy Joining Array**\n",
        "NumPy concatenate() Method:\n",
        "It is mainly used in order to combine two or more NumPy arrays together. Concatenation of two numpy arrays simply means their stacking. it is taken default as 0.\n",
        "\n"
      ]
    },
    {
      "cell_type": "code",
      "execution_count": 1354,
      "metadata": {
        "colab": {
          "base_uri": "https://localhost:8080/"
        },
        "id": "dPJnyRwSwWOz",
        "outputId": "97995760-bef1-486f-ce56-5e355bb53517"
      },
      "outputs": [
        {
          "name": "stdout",
          "output_type": "stream",
          "text": [
            "[1 2 3 4 5 6]\n"
          ]
        }
      ],
      "source": [
        "import numpy as np\n",
        "pyarr1=np.array([1,2,3])\n",
        "pyarr2=np.array([4,5,6])\n",
        "pyarr3=np.concatenate((pyarr1,pyarr2))\n",
        "print(pyarr3)"
      ]
    },
    {
      "cell_type": "code",
      "execution_count": 1355,
      "metadata": {
        "colab": {
          "base_uri": "https://localhost:8080/"
        },
        "id": "AlnDcYGoxjQp",
        "outputId": "38a78600-0255-4e37-b93c-fa6ee42a715f"
      },
      "outputs": [
        {
          "name": "stdout",
          "output_type": "stream",
          "text": [
            "[[1 2]\n",
            " [3 4]\n",
            " [5 6]\n",
            " [7 8]]\n"
          ]
        }
      ],
      "source": [
        "import numpy as np\n",
        "pyarr1=np.array([[1,2],[3,4]])\n",
        "pyarr2=np.array([[5,6],[7,8]])\n",
        "pyarr3=np.concatenate((pyarr1,pyarr2),axis=0)\n",
        "print(pyarr3)"
      ]
    },
    {
      "cell_type": "code",
      "execution_count": 1356,
      "metadata": {
        "colab": {
          "base_uri": "https://localhost:8080/"
        },
        "id": "_zbmcdwEx6O_",
        "outputId": "fd5f2eb3-43cc-4151-d996-dbfcca8d9dc9"
      },
      "outputs": [
        {
          "name": "stdout",
          "output_type": "stream",
          "text": [
            "[[1 2 3 4]\n",
            " [5 6 7 8]]\n"
          ]
        }
      ],
      "source": [
        "import numpy as np\n",
        "pyarr1=np.array([[1,2],[3,4]])\n",
        "pyarr2=np.array([[5,6],[7,8]])\n",
        "pyarr3=np.concatenate((pyarr1,pyarr2),axis=1)\n",
        "print(pyarr)"
      ]
    },
    {
      "cell_type": "code",
      "execution_count": 1357,
      "metadata": {
        "colab": {
          "base_uri": "https://localhost:8080/"
        },
        "id": "8-48mMg9yvX6",
        "outputId": "9541be97-9a61-427e-a45e-1e61bc9cc31b"
      },
      "outputs": [
        {
          "name": "stdout",
          "output_type": "stream",
          "text": [
            "[[0 1 2]\n",
            " [3 4 5]]\n",
            "[[ 7  8  9]\n",
            " [10 11 12]]\n",
            "[[ 0  1  2]\n",
            " [ 3  4  5]\n",
            " [ 7  8  9]\n",
            " [10 11 12]]\n"
          ]
        }
      ],
      "source": [
        "#axis=0 default columns\n",
        "import numpy as np\n",
        "pyarr1=np.arange(6).reshape(2,3)\n",
        "print(pyarr1)\n",
        "pyarr2=np.arange(7,13).reshape(2,3)\n",
        "print(pyarr2)\n",
        "pyarr3=np.concatenate((pyarr1,pyarr2))\n",
        "print(pyarr3)"
      ]
    },
    {
      "cell_type": "code",
      "execution_count": 1358,
      "metadata": {
        "colab": {
          "base_uri": "https://localhost:8080/"
        },
        "id": "9Ogw4IgizkkM",
        "outputId": "93951f56-110b-429a-ae85-cc68b5cbe0a0"
      },
      "outputs": [
        {
          "name": "stdout",
          "output_type": "stream",
          "text": [
            "[[0 1 2]\n",
            " [3 4 5]]\n",
            "[[ 7  8  9]\n",
            " [10 11 12]]\n",
            "[[ 0  1  2  7  8  9]\n",
            " [ 3  4  5 10 11 12]]\n"
          ]
        }
      ],
      "source": [
        "#axis =1 rows\n",
        "import numpy as np\n",
        "pyarr1=np.arange(6).reshape(2,3)\n",
        "print(pyarr1)\n",
        "pyarr2=np.arange(7,13).reshape(2,3)\n",
        "print(pyarr2)\n",
        "pyarr3=np.concatenate((pyarr1,pyarr2),axis=1)\n",
        "print(pyarr3)"
      ]
    },
    {
      "cell_type": "code",
      "execution_count": 1359,
      "metadata": {
        "colab": {
          "base_uri": "https://localhost:8080/"
        },
        "id": "oJwSbrCA0FIT",
        "outputId": "e8fd1bcb-e5d9-4cd5-8963-d96eb180a298"
      },
      "outputs": [
        {
          "name": "stdout",
          "output_type": "stream",
          "text": [
            "[[ 1  2]\n",
            " [ 4  5]\n",
            " [ 8  9]\n",
            " [60 50]]\n",
            "[[ 1  2  8  9]\n",
            " [ 4  5 60 50]]\n"
          ]
        }
      ],
      "source": [
        "#with axis=0 & axis=1\n",
        "import numpy as np\n",
        "pyarr1=np.array([[1,2],[4,5]])\n",
        "pyarr2=np.array([[8,9],[60,50]])\n",
        "pyarr3=np.concatenate((pyarr1,pyarr2),axis=0)\n",
        "print(pyarr3)\n",
        "pyarr4=np.concatenate((pyarr1,pyarr2),axis=1)\n",
        "print(pyarr4)"
      ]
    },
    {
      "cell_type": "markdown",
      "metadata": {
        "id": "wkxxDzXW1gBw"
      },
      "source": [
        "**Joining Arrays Using Stack Functions**\n",
        "\n",
        "Stacking is same as concatenation, the only difference is that stacking is done along a new axis. Result is in two different dimensions.\n",
        "\n",
        "Syntax:\n",
        "np.stack(a,b,axis)\n",
        "\n",
        "a ==> It is Array1\n",
        "b ==> It is Array2\n",
        "axis ==> 0==> Cols(Default), 1==> Rows\n",
        "\n",
        "\n",
        "\n",
        "\n",
        "\n"
      ]
    },
    {
      "cell_type": "code",
      "execution_count": 1360,
      "metadata": {
        "colab": {
          "base_uri": "https://localhost:8080/"
        },
        "id": "GbY1nn7L1s3R",
        "outputId": "d0de69a1-da0d-4f4a-fef6-beeaec0eceef"
      },
      "outputs": [
        {
          "name": "stdout",
          "output_type": "stream",
          "text": [
            "[[0 1 2]\n",
            " [3 4 5]]\n",
            "[[ 7  8  9]\n",
            " [10 11 12]]\n",
            "[[[ 0  1  2]\n",
            "  [ 3  4  5]]\n",
            "\n",
            " [[ 7  8  9]\n",
            "  [10 11 12]]]\n"
          ]
        }
      ],
      "source": [
        "import numpy as np\n",
        "pyarr1=np.arange(6).reshape(2,3)\n",
        "print(pyarr1)\n",
        "pyarr2=np.arange(7,13).reshape(2,3)\n",
        "print(pyarr2)\n",
        "print(np.stack((pyarr1,pyarr2),axis=0))\n"
      ]
    },
    {
      "cell_type": "code",
      "execution_count": 1361,
      "metadata": {
        "colab": {
          "base_uri": "https://localhost:8080/"
        },
        "id": "9ZDM6Pem3PEF",
        "outputId": "fca0a54f-15ee-4587-86e0-5b4909b6227a"
      },
      "outputs": [
        {
          "name": "stdout",
          "output_type": "stream",
          "text": [
            "[[0 1 2]\n",
            " [3 4 5]]\n",
            "[[ 7  8  9]\n",
            " [10 11 12]]\n",
            "[[[ 0  1  2]\n",
            "  [ 7  8  9]]\n",
            "\n",
            " [[ 3  4  5]\n",
            "  [10 11 12]]]\n"
          ]
        }
      ],
      "source": [
        "import numpy as np\n",
        "PyArr1=np.arange(6).reshape(2,3)\n",
        "print(PyArr1)\n",
        "PyArr2=np.arange(7,13).reshape(2,3)\n",
        "print(PyArr2)\n",
        "print(np.stack((PyArr1,PyArr2),axis=1))\n",
        "\n"
      ]
    },
    {
      "cell_type": "markdown",
      "metadata": {
        "id": "7QcLeP_x5Z9b"
      },
      "source": [
        "### **Stacking Along Rows**\n",
        "NumPy provides a helper function: hstack() to stack along rows.\n",
        "\n",
        "Syntax\n",
        "\n",
        "np.hstack(a,b)\n",
        "\n"
      ]
    },
    {
      "cell_type": "code",
      "execution_count": 1362,
      "metadata": {
        "colab": {
          "base_uri": "https://localhost:8080/"
        },
        "id": "L17MiiVU69tG",
        "outputId": "ef745cbb-c6ae-4b8a-e41a-c3f439cbb2c4"
      },
      "outputs": [
        {
          "name": "stdout",
          "output_type": "stream",
          "text": [
            "[[0 1 2]\n",
            " [3 4 5]]\n",
            "[[ 7  8  9]\n",
            " [10 11 12]]\n",
            "[[ 0  1  2  7  8  9]\n",
            " [ 3  4  5 10 11 12]]\n",
            "[[ 0  1  2  7  8  9]\n",
            " [ 3  4  5 10 11 12]]\n"
          ]
        }
      ],
      "source": [
        "import numpy as np\n",
        "PyArr1=np.arange(6).reshape(2,3)\n",
        "print(PyArr1)\n",
        "PyArr2=np.arange(7,13).reshape(2,3)\n",
        "print(PyArr2)\n",
        "print(np.hstack((PyArr1,PyArr2)))\n",
        "print(np.concatenate((PyArr1,PyArr2),axis=1))\n",
        "\n"
      ]
    },
    {
      "cell_type": "markdown",
      "metadata": {
        "id": "ZVWV1-z57KZi"
      },
      "source": [
        "### **Stacking Along Columns**\n",
        "NumPy provides a helper function: vstack()  to stack along columns.\n",
        "\n",
        "Syntax\n",
        "\n",
        "np.vstack(a,b)\n",
        "\n",
        "### Note:\n",
        "Axis=0 Indicates =>vstack, Axis=1 Indicates => hstack\n",
        "\n"
      ]
    },
    {
      "cell_type": "code",
      "execution_count": 1363,
      "metadata": {
        "colab": {
          "base_uri": "https://localhost:8080/"
        },
        "id": "VAncYHaX7P_u",
        "outputId": "1b5b8530-d35b-4922-9b89-f95a06a0db78"
      },
      "outputs": [
        {
          "name": "stdout",
          "output_type": "stream",
          "text": [
            "[[0 1 2]\n",
            " [3 4 5]]\n",
            "[[ 7  8  9]\n",
            " [10 11 12]]\n",
            "[[ 0  1  2]\n",
            " [ 3  4  5]\n",
            " [ 7  8  9]\n",
            " [10 11 12]]\n",
            "[[ 0  1  2]\n",
            " [ 3  4  5]\n",
            " [ 7  8  9]\n",
            " [10 11 12]]\n"
          ]
        }
      ],
      "source": [
        "import numpy as np\n",
        "PyArr1=np.arange(6).reshape(2,3)\n",
        "print(PyArr1)\n",
        "PyArr2=np.arange(7,13).reshape(2,3)\n",
        "print(PyArr2)\n",
        "print(np.vstack((PyArr1,PyArr2)))\n",
        "print(np.concatenate((PyArr1,PyArr2),axis=0))\n"
      ]
    },
    {
      "cell_type": "code",
      "execution_count": 1364,
      "metadata": {
        "colab": {
          "base_uri": "https://localhost:8080/"
        },
        "id": "qHnbe-jG71j3",
        "outputId": "8bd5229a-456f-4860-a590-e69e86154d26"
      },
      "outputs": [
        {
          "name": "stdout",
          "output_type": "stream",
          "text": [
            "[[1 2 3]\n",
            " [3 4 5]\n",
            " [1 2 3]\n",
            " [3 4 5]]\n",
            "[[1 2 3 1 2 3]\n",
            " [3 4 5 3 4 5]]\n"
          ]
        }
      ],
      "source": [
        "import numpy as np\n",
        "pdata= np.array([(1,2,3),(3,4,5)])\n",
        "qdata= np.array([(1,2,3),(3,4,5)])\n",
        "print(np.vstack((pdata,qdata)))\n",
        "print(np.hstack((pdata,qdata)))\n"
      ]
    },
    {
      "cell_type": "markdown",
      "metadata": {
        "id": "t122WROP8swE"
      },
      "source": [
        "### **Stacking Along Height (depth)**\n",
        "NumPy provides a helper function: dstack() to stack along height, which is the same as depth.\n",
        " Section"
      ]
    },
    {
      "cell_type": "code",
      "execution_count": 1365,
      "metadata": {
        "colab": {
          "base_uri": "https://localhost:8080/"
        },
        "id": "1hOxnje58yyZ",
        "outputId": "edb33d9b-6dc5-41e9-c86a-89e55f8f2e3c"
      },
      "outputs": [
        {
          "name": "stdout",
          "output_type": "stream",
          "text": [
            "[[0 1 2]\n",
            " [3 4 5]]\n",
            "[[ 7  8  9]\n",
            " [10 11 12]]\n",
            "[[[ 0  7]\n",
            "  [ 1  8]\n",
            "  [ 2  9]]\n",
            "\n",
            " [[ 3 10]\n",
            "  [ 4 11]\n",
            "  [ 5 12]]]\n"
          ]
        }
      ],
      "source": [
        "import numpy as np\n",
        "PyArr1=np.arange(6).reshape(2,3)\n",
        "print(PyArr1)\n",
        "PyArr2=np.arange(7,13).reshape(2,3)\n",
        "print(PyArr2)\n",
        "print(np.dstack((PyArr1,PyArr2)))\n",
        "\n",
        "\n"
      ]
    },
    {
      "cell_type": "markdown",
      "metadata": {
        "id": "VeaFOyXd9Mo8"
      },
      "source": [
        "### **NumPy Splitting Array**\n",
        "Splitting is reverse operation of Joining. Joining merges multiple arrays into one and Splitting breaks one array into multiple.\n",
        "\n",
        "**Split() method:Dividing an array into equal to splits.**\n",
        "\n",
        "### **Syntax:**\n",
        "split(Array,No.OfSplits,axis)\n",
        "Array ==> Sequence of elements\n",
        "No.OfSplits ==> Equal Splits\n",
        "\n"
      ]
    },
    {
      "cell_type": "code",
      "execution_count": 1366,
      "metadata": {
        "colab": {
          "base_uri": "https://localhost:8080/"
        },
        "id": "EBJeL5tXNF9T",
        "outputId": "5c949160-4243-4145-beb9-90030e996f12"
      },
      "outputs": [
        {
          "name": "stdout",
          "output_type": "stream",
          "text": [
            "[array([1, 2, 3]), array([4, 5, 6]), array([7, 8, 9])]\n"
          ]
        }
      ],
      "source": [
        "import numpy as np\n",
        "pyarr=np.array([1,2,3,4,5,6,7,8,9])\n",
        "pyarr1=np.split(pyarr,3)\n",
        "print(pyarr1)"
      ]
    },
    {
      "cell_type": "code",
      "execution_count": 1367,
      "metadata": {
        "colab": {
          "base_uri": "https://localhost:8080/"
        },
        "id": "gVRnKyRbPQza",
        "outputId": "9886e477-e51d-4e8d-d163-e620fb9dee80"
      },
      "outputs": [
        {
          "name": "stdout",
          "output_type": "stream",
          "text": [
            "[array([1, 2, 3]), array([4, 5, 6]), array([7, 8, 9]), array([ 0, 11, 12])]\n"
          ]
        }
      ],
      "source": [
        "import numpy as np\n",
        "pyarr=np.array([1,2,3,4,5,6,7,8,9,0,11,12])\n",
        "pyarr3=np.split(pyarr,4)\n",
        "print(pyarr3)"
      ]
    },
    {
      "cell_type": "code",
      "execution_count": 1368,
      "metadata": {
        "colab": {
          "base_uri": "https://localhost:8080/"
        },
        "id": "PKAvrin9Pi9g",
        "outputId": "0ac658f6-09f2-4ab8-c00e-7091a1062215"
      },
      "outputs": [
        {
          "name": "stdout",
          "output_type": "stream",
          "text": [
            "[array([1, 2, 3]), array([4, 5, 6]), array([77, 78, 79])]\n"
          ]
        }
      ],
      "source": [
        "#axis=0 default\n",
        "import numpy as np\n",
        "pyarr=np.array([1,2,3,4,5,6,77,78,79])\n",
        "pyarr3=np.split(pyarr,3,axis=0)\n",
        "print(pyarr3)"
      ]
    },
    {
      "cell_type": "code",
      "execution_count": 1369,
      "metadata": {
        "colab": {
          "base_uri": "https://localhost:8080/"
        },
        "id": "uLL9vWypP5rP",
        "outputId": "8032e12d-aa44-4aef-e835-4ee4bbeb64fc"
      },
      "outputs": [
        {
          "name": "stdout",
          "output_type": "stream",
          "text": [
            "[array([[2, 3, 4]]), array([[6, 7, 6]]), array([[4, 3, 2]])]\n"
          ]
        }
      ],
      "source": [
        "#axis=1\n",
        "import numpy as np\n",
        "pyarr=np.array([[2,3,4,6,7,6,4,3,2]])\n",
        "pyarr1=np.split(pyarr,3,axis=1)\n",
        "print(pyarr1)"
      ]
    },
    {
      "cell_type": "markdown",
      "metadata": {
        "id": "1a5qk9_HRfJL"
      },
      "source": [
        "### **array_split**():\n",
        "We pass it the array we want to split and the number of splits. Arrangement done based on right to left direction.\n",
        "\n",
        "### **Syntax:**\n",
        "split(Array,No.OfSplits)\n",
        "Array ==> Sequence of elements\n",
        "No.OfSplits ==> Equal Splits or UnEqual Splits\n",
        "\n",
        " Section\n",
        "\n",
        "\n"
      ]
    },
    {
      "cell_type": "code",
      "execution_count": 1370,
      "metadata": {
        "colab": {
          "base_uri": "https://localhost:8080/"
        },
        "id": "Tvgz-gl_Rrc_",
        "outputId": "59921c2a-0fd6-4bb4-f031-78180a5fcdc7"
      },
      "outputs": [
        {
          "name": "stdout",
          "output_type": "stream",
          "text": [
            "[array([1, 2, 3]), array([4, 5, 6]), array([7, 8]), array([9, 0])]\n"
          ]
        }
      ],
      "source": [
        "import numpy as np\n",
        "pyarr=np.array([1,2,3,4,5,6,7,8,9,0])\n",
        "pyarr1=np.array_split(pyarr,4)\n",
        "print(pyarr1)\n"
      ]
    },
    {
      "cell_type": "code",
      "execution_count": 1371,
      "metadata": {
        "colab": {
          "base_uri": "https://localhost:8080/"
        },
        "id": "agc1urKjSNX2",
        "outputId": "12faafbf-9a8c-4331-df06-9eafe5acf743"
      },
      "outputs": [
        {
          "name": "stdout",
          "output_type": "stream",
          "text": [
            "[array([1, 2]), array([3, 4]), array([56]), array([7]), array([8]), array([9]), array([35]), array([46]), array([57])]\n"
          ]
        }
      ],
      "source": [
        "import numpy as np\n",
        "pyarr=np.array([1,2,3,4,56,7,8,9,35,46,57])\n",
        "pyarr1=np.array_split(pyarr,9)\n",
        "print(pyarr1)\n",
        "#"
      ]
    },
    {
      "cell_type": "code",
      "execution_count": 1372,
      "metadata": {
        "colab": {
          "base_uri": "https://localhost:8080/"
        },
        "id": "JGs7vUTVSdkH",
        "outputId": "62ecbeb5-b260-4f9a-e906-24319a6cb789"
      },
      "outputs": [
        {
          "name": "stdout",
          "output_type": "stream",
          "text": [
            "[1 2]\n",
            "[3 4]\n",
            "[5 6]\n"
          ]
        }
      ],
      "source": [
        "#Split Into Arrays\n",
        "import numpy as np\n",
        "PyArr = np.array([1, 2, 3, 4, 5, 6])\n",
        "NewArr = np.array_split(PyArr, 3)\n",
        "print(NewArr[0])\n",
        "print(NewArr[1])\n",
        "print(NewArr[2])"
      ]
    },
    {
      "cell_type": "code",
      "execution_count": 1373,
      "metadata": {
        "colab": {
          "base_uri": "https://localhost:8080/"
        },
        "id": "emJo3T1ySrjQ",
        "outputId": "d130adc1-67ff-44b7-9b53-44b09fddce9b"
      },
      "outputs": [
        {
          "name": "stdout",
          "output_type": "stream",
          "text": [
            "[array([[1, 2],\n",
            "       [3, 4]]), array([[5, 6],\n",
            "       [7, 8]]), array([[ 9, 10],\n",
            "       [11, 12]])]\n",
            "[array([[1, 2]]), array([[3, 4]]), array([[5, 6]]), array([[7, 8]]), array([[ 9, 10]]), array([[11, 12]])]\n"
          ]
        }
      ],
      "source": [
        "#Example:2-D\n",
        "import numpy as np\n",
        "PyArr = np.array([[1, 2], [3, 4], [5, 6], [7, 8], [9, 10], [11, 12]])\n",
        "NewArr = np.array_split(PyArr, 3)\n",
        "print(NewArr)\n",
        "NewArr = np.array_split(PyArr, 6)\n",
        "print(NewArr)\n"
      ]
    },
    {
      "cell_type": "markdown",
      "metadata": {
        "id": "ngZSQ-g-S5NU"
      },
      "source": [
        "### **hsplit() method:Horizontal Split**\n",
        "\n",
        "Syntax:\n",
        "np.hsplit(Array,NoOfSplits)\n"
      ]
    },
    {
      "cell_type": "code",
      "execution_count": 1374,
      "metadata": {
        "colab": {
          "base_uri": "https://localhost:8080/"
        },
        "id": "eSgiepoXS_zG",
        "outputId": "04bb9fa5-f488-4ced-c9d1-4d32371b578a"
      },
      "outputs": [
        {
          "name": "stdout",
          "output_type": "stream",
          "text": [
            "[array([1, 2]), array([3, 4]), array([5, 6])]\n"
          ]
        }
      ],
      "source": [
        "import numpy as np\n",
        "PyArr = np.array([1, 2, 3, 4,5, 6])\n",
        "NewArr = np.hsplit(PyArr,3)\n",
        "print(NewArr)\n"
      ]
    },
    {
      "cell_type": "markdown",
      "metadata": {
        "id": "jeC8PrRsTOSo"
      },
      "source": [
        "### **vsplit() ==> This method is not applicable for single dimension. Minimum 2DArray required.**\n",
        "\n",
        "Syntax:\n",
        "\n",
        "np.vsplit(Array,NoOfSplits)\n",
        " Section"
      ]
    },
    {
      "cell_type": "code",
      "execution_count": 1375,
      "metadata": {
        "colab": {
          "base_uri": "https://localhost:8080/"
        },
        "id": "VIGmql0FTVJy",
        "outputId": "59d170c6-9c9f-4a1b-ac92-b520ce8a55cf"
      },
      "outputs": [
        {
          "name": "stdout",
          "output_type": "stream",
          "text": [
            "[array([[1, 2, 3]]), array([[4, 5, 6]])]\n"
          ]
        }
      ],
      "source": [
        "import numpy as np\n",
        "PyArr = np.array([[1, 2, 3], [4,5, 6,]])\n",
        "NewArr = np.vsplit(PyArr,2)\n",
        "print(NewArr)\n",
        "\n"
      ]
    },
    {
      "cell_type": "markdown",
      "metadata": {
        "id": "1gbwZmxtWqMS"
      },
      "source": [
        "### **NumPy Searching Arrays:**\n",
        "You can search an array for a certain value, and return the indexes that get a match. To search an array, use the where() method.\n"
      ]
    },
    {
      "cell_type": "code",
      "execution_count": 1376,
      "metadata": {
        "colab": {
          "base_uri": "https://localhost:8080/"
        },
        "id": "oteKYZ2sX5mi",
        "outputId": "7c698f22-2ad9-4600-fbd3-e256ba38d12c"
      },
      "outputs": [
        {
          "name": "stdout",
          "output_type": "stream",
          "text": [
            "(array([0], dtype=int64),)\n"
          ]
        }
      ],
      "source": [
        "import numpy as np\n",
        "PyArr=np.array([10,1,2,3,4,100,20])\n",
        "print(np.where(PyArr==10))\n"
      ]
    },
    {
      "cell_type": "code",
      "execution_count": 1377,
      "metadata": {
        "colab": {
          "base_uri": "https://localhost:8080/"
        },
        "id": "AlJyDOhFWvYV",
        "outputId": "69d68ee0-e302-4efe-b96b-aa251f5c7489"
      },
      "outputs": [
        {
          "name": "stdout",
          "output_type": "stream",
          "text": [
            "(array([8], dtype=int64),)\n"
          ]
        }
      ],
      "source": [
        "import numpy as np\n",
        "pyarr=np.array([10,2,3,4,5,6,70,80,90])\n",
        "x=(np.where(pyarr==90))\n",
        "print(x)"
      ]
    },
    {
      "cell_type": "code",
      "execution_count": 1378,
      "metadata": {
        "colab": {
          "base_uri": "https://localhost:8080/"
        },
        "id": "Fzp7RHMpXl2L",
        "outputId": "deea6557-fbb4-4865-dd84-3bb48080f496"
      },
      "outputs": [
        {
          "name": "stdout",
          "output_type": "stream",
          "text": [
            "(array([3, 5, 6], dtype=int64),)\n"
          ]
        }
      ],
      "source": [
        "import numpy as np\n",
        "Arr = np.array([1, 2, 3, 4, 5, 4, 4])\n",
        "x = np.where(Arr == 4)\n",
        "print(x)\n",
        "\n"
      ]
    },
    {
      "cell_type": "code",
      "execution_count": 1379,
      "metadata": {
        "colab": {
          "base_uri": "https://localhost:8080/"
        },
        "id": "jT7SMe7mYKZB",
        "outputId": "f8414486-ae9d-49e2-cf1a-38727038e1e0"
      },
      "outputs": [
        {
          "name": "stdout",
          "output_type": "stream",
          "text": [
            "(array([1, 3, 5, 7], dtype=int64),)\n"
          ]
        }
      ],
      "source": [
        "import numpy as np\n",
        "Arr = np.array([1, 2, 3, 4, 5, 6, 7, 8])\n",
        "x = np.where(Arr%2 == 0)\n",
        "print(x)\n",
        "\n"
      ]
    },
    {
      "cell_type": "code",
      "execution_count": 1380,
      "metadata": {
        "colab": {
          "base_uri": "https://localhost:8080/"
        },
        "id": "-VAbPlDRYUG6",
        "outputId": "e63730a3-7ca1-4aa1-db2b-e843e1dc0f4b"
      },
      "outputs": [
        {
          "name": "stdout",
          "output_type": "stream",
          "text": [
            "[ 0  1  2  3  4  5  6  7  8  9 10 11]\n"
          ]
        }
      ],
      "source": [
        "import numpy as np\n",
        "PyArr=np.arange(12)\n",
        "print(PyArr)\n",
        "\n"
      ]
    },
    {
      "cell_type": "code",
      "execution_count": 1381,
      "metadata": {
        "colab": {
          "base_uri": "https://localhost:8080/"
        },
        "id": "_kDZo4WIYVXL",
        "outputId": "149f699f-2e68-4664-d22b-1eba9aff2f3b"
      },
      "outputs": [
        {
          "name": "stdout",
          "output_type": "stream",
          "text": [
            "[ 2  3  4  5  6  7  8  9 10 11]\n"
          ]
        }
      ],
      "source": [
        "import numpy as np\n",
        "PyArr=np.arange(start=2, stop=12)\n",
        "print(PyArr)\n"
      ]
    },
    {
      "cell_type": "code",
      "execution_count": 1382,
      "metadata": {
        "colab": {
          "base_uri": "https://localhost:8080/"
        },
        "id": "QphES7niYa90",
        "outputId": "105cd0b0-8c8a-4488-94a5-7955ad5beeb3"
      },
      "outputs": [
        {
          "name": "stdout",
          "output_type": "stream",
          "text": [
            "[ 2  4  6  8 10]\n"
          ]
        }
      ],
      "source": [
        "import numpy as np\n",
        "PyArr=np.arange(start=2, stop=12, step=2)\n",
        "print(PyArr)\n"
      ]
    },
    {
      "cell_type": "code",
      "execution_count": 1383,
      "metadata": {
        "colab": {
          "base_uri": "https://localhost:8080/"
        },
        "id": "2PvwIcSrYgSe",
        "outputId": "e8ace8c0-0cab-4996-f70d-0bede6800f1f"
      },
      "outputs": [
        {
          "name": "stdout",
          "output_type": "stream",
          "text": [
            "[-10  -8  -6  -4  -2]\n"
          ]
        }
      ],
      "source": [
        "#Providing Negative Arguments\n",
        "import numpy as np\n",
        "PyArr=np.arange(-10, -1, 2)\n",
        "print(PyArr)\n",
        "\n"
      ]
    },
    {
      "cell_type": "code",
      "execution_count": 1384,
      "metadata": {
        "colab": {
          "base_uri": "https://localhost:8080/"
        },
        "id": "JXNszD8QY3W3",
        "outputId": "b008a8b8-5a8b-4f93-e788-e05a13a44ee6"
      },
      "outputs": [
        {
          "name": "stdout",
          "output_type": "stream",
          "text": [
            "[10 20 30 40 50 60 70 80 90]\n",
            "(array([3], dtype=int64),)\n",
            "(array([5], dtype=int64),)\n",
            "(array([2, 5, 8], dtype=int64),)\n"
          ]
        }
      ],
      "source": [
        "import numpy as np\n",
        "PyArr=np.arange(10,100,10)\n",
        "print(PyArr)\n",
        "print(np.where(PyArr==40))\n",
        "print(np.where(PyArr==60))\n",
        "print(np.where(PyArr%30==0))"
      ]
    },
    {
      "cell_type": "markdown",
      "metadata": {
        "id": "BGjSm_LeZy5d"
      },
      "source": [
        "### **Numpy searchsorted() Method**\n",
        "It present in the numpy library of python used to deal with sorted arrays. The function is used to determine the index of an element while inserting it into a sorted array.\n",
        "\n",
        "### **Syntax:**\n",
        "numpy.searchsorted(a, v, side='left', sorter=None)\n",
        "\n",
        "### **Parameters:**\n",
        "a: It is the input array of one dimension\n",
        "\n",
        "v: It is the new value that has to be inserted into the array  a\n",
        "\n",
        "side: It is an optional parameter whose value by default is  left.\n",
        "\n",
        "sorter: It is again an optional value that is set to  None  by default\n"
      ]
    },
    {
      "cell_type": "code",
      "execution_count": 1385,
      "metadata": {
        "colab": {
          "base_uri": "https://localhost:8080/"
        },
        "id": "vqsIcszTZ2Du",
        "outputId": "55e3c65e-dd3f-4937-9003-1ac843629add"
      },
      "outputs": [
        {
          "name": "stdout",
          "output_type": "stream",
          "text": [
            "4\n"
          ]
        }
      ],
      "source": [
        "import numpy as np\n",
        "PyArr=np.array([1,10,11,15,21])\n",
        "PyEle = np.searchsorted(PyArr, 17)\n",
        "print(PyEle)"
      ]
    },
    {
      "cell_type": "code",
      "execution_count": 1386,
      "metadata": {
        "colab": {
          "base_uri": "https://localhost:8080/"
        },
        "id": "W6dBeij0eolg",
        "outputId": "caa2bc25-7cd5-446b-ee12-96e548b25586"
      },
      "outputs": [
        {
          "name": "stdout",
          "output_type": "stream",
          "text": [
            "4\n",
            "[ 1 10 11 15 17 21]\n"
          ]
        }
      ],
      "source": [
        "import numpy as np\n",
        "PyArr=np.array([1,10,11,15,21])\n",
        "PyEle = np.searchsorted(PyArr, 17)\n",
        "print(PyEle)\n",
        "print(np.insert(PyArr,4 ,17))"
      ]
    },
    {
      "cell_type": "code",
      "execution_count": 1387,
      "metadata": {
        "colab": {
          "base_uri": "https://localhost:8080/"
        },
        "id": "YG1x0mCke6dK",
        "outputId": "0ce51718-dafa-4a99-94db-7b75079e3b44"
      },
      "outputs": [
        {
          "name": "stdout",
          "output_type": "stream",
          "text": [
            "4\n",
            "[1 2 3]\n",
            "[10 20 30 40 50 60 70 80 90]\n"
          ]
        }
      ],
      "source": [
        "import numpy as np\n",
        "PyArr = np.array([10,20,30,40,50,60,70,80,90])\n",
        "print(np.searchsorted(PyArr,45))\n",
        "print(np.searchsorted(PyArr,[15,25,35]))\n",
        "print(PyArr)"
      ]
    },
    {
      "cell_type": "code",
      "execution_count": 1388,
      "metadata": {
        "colab": {
          "base_uri": "https://localhost:8080/"
        },
        "id": "5JLvC1yEk4zK",
        "outputId": "d28926bc-f454-465d-a83f-00ba6b94aaf1"
      },
      "outputs": [
        {
          "name": "stdout",
          "output_type": "stream",
          "text": [
            "[ 1 10 11 15 21]\n",
            "[ 1 10 11 -7 -1 20  3 30 15 21]\n"
          ]
        }
      ],
      "source": [
        "import numpy as np\n",
        "PyArr=np.array([1,10,11,15,21])\n",
        "print(PyArr)\n",
        "print(np.insert(PyArr,3,[-7, -1, 20,3,30]))"
      ]
    },
    {
      "cell_type": "code",
      "execution_count": 1389,
      "metadata": {
        "colab": {
          "base_uri": "https://localhost:8080/"
        },
        "id": "j_urTH7ZlN-5",
        "outputId": "76d2cdd6-21f7-4267-d0fc-03a66580920e"
      },
      "outputs": [
        {
          "name": "stdout",
          "output_type": "stream",
          "text": [
            "[0 0 4 1 5]\n",
            "[ 1 10 -7 -1 20  3 30 11 15 21]\n"
          ]
        }
      ],
      "source": [
        "import numpy as np\n",
        "PyArr=np.array([1,10,11,15,21])\n",
        "PyEle=np.searchsorted(PyArr,[-7, -1, 20,3,30])\n",
        "print(PyEle)\n",
        "print(np.insert(PyArr,2 ,[-7, -1, 20,3,30]))"
      ]
    },
    {
      "cell_type": "code",
      "execution_count": 1390,
      "metadata": {
        "colab": {
          "base_uri": "https://localhost:8080/"
        },
        "id": "muDzymBwlSft",
        "outputId": "2416cff6-3924-4a51-b0d6-339961ebef77"
      },
      "outputs": [
        {
          "name": "stdout",
          "output_type": "stream",
          "text": [
            "2\n",
            "4\n"
          ]
        }
      ],
      "source": [
        "#Example:Searching from right hand side:\n",
        "import numpy as np\n",
        "PyArr=np.searchsorted([1,2,3,3,5,6], 3)\n",
        "print(PyArr)\n",
        "PyArr=np.searchsorted([1,2,3,3,5,6], 3,side='right')\n",
        "print(PyArr)"
      ]
    },
    {
      "cell_type": "code",
      "execution_count": 1391,
      "metadata": {
        "colab": {
          "base_uri": "https://localhost:8080/"
        },
        "id": "UZlPgi5I5kkz",
        "outputId": "ecfea5d8-0a8a-4d87-c1ac-f4abd5073106"
      },
      "outputs": [
        {
          "name": "stdout",
          "output_type": "stream",
          "text": [
            "1\n",
            "0\n"
          ]
        }
      ],
      "source": [
        "#Example:Searchsorted for string values\n",
        "import numpy as np\n",
        "print(np.searchsorted(['apple','vinegar','zucchini'], 'bananas'))\n",
        "print(np.searchsorted(['apple','vinegar','zucchini'], 'Bananas'))"
      ]
    },
    {
      "cell_type": "markdown",
      "metadata": {
        "id": "N2J7JaGy50kY"
      },
      "source": [
        "### **Numpy searchsorted with 2D array**\n",
        "The numpy searchsorted function only accepts a one-dimensional array as an argument. If you will try to pass a multi-dimensional array, it will raise the error  object too deep for the desired array .\n",
        "\n"
      ]
    },
    {
      "cell_type": "code",
      "execution_count": 1392,
      "metadata": {
        "colab": {
          "base_uri": "https://localhost:8080/"
        },
        "id": "tNSVnN7l56J9",
        "outputId": "78816561-13a0-457a-d952-4989bf3c6cdb"
      },
      "outputs": [
        {
          "name": "stdout",
          "output_type": "stream",
          "text": [
            "1\n",
            "2\n"
          ]
        }
      ],
      "source": [
        "import numpy as np\n",
        "PyArr = [[1,2,6],[3,4,10]]\n",
        "print(np.searchsorted(PyArr[0], 2))\n",
        "print(np.searchsorted(PyArr[1], 10))"
      ]
    },
    {
      "cell_type": "code",
      "execution_count": 1393,
      "metadata": {
        "colab": {
          "base_uri": "https://localhost:8080/"
        },
        "id": "VOLb7Y698yiq",
        "outputId": "4a007b94-e69a-4d34-839a-106fab75326a"
      },
      "outputs": [
        {
          "name": "stdout",
          "output_type": "stream",
          "text": [
            "[ 1  2  3  4  6 10]\n",
            "5\n"
          ]
        }
      ],
      "source": [
        "import numpy as np\n",
        "PyArr = np.array([[1,2,6],[3,4,10]])\n",
        "NewArr = PyArr.flatten()\n",
        "NewArr.sort()\n",
        "print(NewArr)\n",
        "print(np.searchsorted(NewArr, 9))"
      ]
    },
    {
      "cell_type": "markdown",
      "metadata": {
        "id": "v_CB3iHM-M-e"
      },
      "source": [
        "### **axis attribute using sum method:**\n",
        "The columns are called as axis 0.\n",
        "The rows are called as axis 1\n"
      ]
    },
    {
      "cell_type": "code",
      "execution_count": 1394,
      "metadata": {
        "colab": {
          "base_uri": "https://localhost:8080/"
        },
        "id": "Oxd_jils-RYr",
        "outputId": "330f3287-cb68-4e77-f07a-c52a3ca95604"
      },
      "outputs": [
        {
          "name": "stdout",
          "output_type": "stream",
          "text": [
            "[4 6 8]\n",
            "[ 6 12]\n"
          ]
        }
      ],
      "source": [
        "import numpy as np\n",
        "a= np.array([(1,2,3),(3,4,5)])\n",
        "print(a.sum(axis=0))\n",
        "print(a.sum(axis=1))"
      ]
    },
    {
      "cell_type": "markdown",
      "metadata": {
        "id": "0I2xCITu-m2i"
      },
      "source": [
        "### **NumPy Sorting Arrays**\n",
        "Sorting means putting elements in an ordered sequence. Ordered sequence is any sequence that has an order corresponding to elements, like numeric or alphabetical, ascending or descending.\n",
        "\n",
        "### **Numpy sort() function**\n",
        "It will return the sorted copy of the input ndarray in Numpy.\n",
        "\n",
        "### **Syntax:**\n",
        "numpy.sort(a, axis, kind=None, order=None)\n",
        "\n",
        "a: array_like: It defines the source array, which is going to be sorted.\n",
        "\n",
        "axis: int or None: It defines axis along which the sorting is performed. default -1\n",
        "\n",
        "kind: quicksort, mergesort, heapsort}(optional)\n",
        "\n",
        "order: str or list of str(optional) When an array is defined with fields.\n",
        "\n",
        "\n",
        "\n",
        "\n",
        "\n",
        "\n"
      ]
    },
    {
      "cell_type": "code",
      "execution_count": 1395,
      "metadata": {
        "colab": {
          "base_uri": "https://localhost:8080/"
        },
        "id": "daTCbFwh-qcL",
        "outputId": "078312c2-73e1-4293-9b51-bc13074cb558"
      },
      "outputs": [
        {
          "name": "stdout",
          "output_type": "stream",
          "text": [
            "[0 1 2 3]\n"
          ]
        }
      ],
      "source": [
        "import numpy as np\n",
        "Arr = np.array([3, 2, 0, 1])\n",
        "print(np.sort(Arr))"
      ]
    },
    {
      "cell_type": "code",
      "execution_count": 1396,
      "metadata": {
        "colab": {
          "base_uri": "https://localhost:8080/"
        },
        "id": "5GKf72ZL_i3P",
        "outputId": "905358ff-e301-458d-d269-f470176c9975"
      },
      "outputs": [
        {
          "name": "stdout",
          "output_type": "stream",
          "text": [
            "['apple' 'banana' 'cherry']\n"
          ]
        }
      ],
      "source": [
        "import numpy as np\n",
        "Arr = np.array(['banana', 'cherry', 'apple'])\n",
        "print(np.sort(Arr))"
      ]
    },
    {
      "cell_type": "code",
      "execution_count": 1397,
      "metadata": {
        "colab": {
          "base_uri": "https://localhost:8080/"
        },
        "id": "UUtK1lSm_ntv",
        "outputId": "dc47e6bc-bd1b-42ac-e5d8-463f0e88d5a6"
      },
      "outputs": [
        {
          "name": "stdout",
          "output_type": "stream",
          "text": [
            "[False  True  True]\n"
          ]
        }
      ],
      "source": [
        "import numpy as np\n",
        "Arr = np.array([True, False, True])\n",
        "print(np.sort(Arr))"
      ]
    },
    {
      "cell_type": "markdown",
      "metadata": {
        "id": "BQSsV8hiABaS"
      },
      "source": [
        "### **Sorting a 2-D Array**\n",
        "If you use the sort() method on a 2-D array, both arrays will be sorted:\n",
        "\n"
      ]
    },
    {
      "cell_type": "code",
      "execution_count": 1398,
      "metadata": {
        "colab": {
          "base_uri": "https://localhost:8080/"
        },
        "id": "caeMSuMOAMDq",
        "outputId": "11c02e48-dbbd-436b-9a30-30cb256ada3b"
      },
      "outputs": [
        {
          "name": "stdout",
          "output_type": "stream",
          "text": [
            "[[2 3 4]\n",
            " [0 1 5]]\n"
          ]
        }
      ],
      "source": [
        "import numpy as np\n",
        "Arr = np.array([[3, 2, 4], [5, 0, 1]])\n",
        "print(np.sort(Arr))"
      ]
    },
    {
      "cell_type": "code",
      "execution_count": 1399,
      "metadata": {
        "colab": {
          "base_uri": "https://localhost:8080/"
        },
        "id": "SDpArhHQAQnp",
        "outputId": "2731e74f-1a78-4ac7-c94b-b86b35f1aab9"
      },
      "outputs": [
        {
          "name": "stdout",
          "output_type": "stream",
          "text": [
            "[[15 17]\n",
            " [10 25]]\n",
            "[[15 17]\n",
            " [10 25]]\n"
          ]
        }
      ],
      "source": [
        "#Python NumPy Advanced Sorting\n",
        "import numpy as np\n",
        "PyArr1 = np.array([[17, 15], [10, 25]])\n",
        "PyArr2 = np.sort(PyArr1)\n",
        "print(PyArr2)\n",
        "PyArr2 = np.sort(PyArr1, axis = -1)\n",
        "print(PyArr2)"
      ]
    },
    {
      "cell_type": "code",
      "execution_count": 1400,
      "metadata": {
        "colab": {
          "base_uri": "https://localhost:8080/"
        },
        "id": "Wzmaz9NdAq7F",
        "outputId": "da05862f-f8f1-46f0-90c0-9e44d86826b3"
      },
      "outputs": [
        {
          "name": "stdout",
          "output_type": "stream",
          "text": [
            "[[17 15]\n",
            " [10 25]]\n",
            "[[10 15]\n",
            " [17 25]]\n",
            "[[15 17]\n",
            " [10 25]]\n"
          ]
        }
      ],
      "source": [
        "import numpy as np\n",
        "# sorting along the first axis\n",
        "PyArr1 = np.array([[17, 15], [10, 25]])\n",
        "print(PyArr1)\n",
        "PyArr2 = np.sort(PyArr1, axis = 0)\n",
        "print(PyArr2)\n",
        "PyArr3 = np.sort(PyArr1, axis = 1)\n",
        "print(PyArr3)\n",
        "#NOTE:0 means we have to check column wise,1 means we have to check rows wise."
      ]
    },
    {
      "cell_type": "code",
      "execution_count": 1401,
      "metadata": {
        "colab": {
          "base_uri": "https://localhost:8080/"
        },
        "id": "IRRTDbI4BPsX",
        "outputId": "fd8b26e3-99c1-4d5d-f478-ef4d8382aaf7"
      },
      "outputs": [
        {
          "name": "stdout",
          "output_type": "stream",
          "text": [
            "[[199  15]\n",
            " [ 20  18]]\n",
            "[ 15  18  20 199]\n"
          ]
        }
      ],
      "source": [
        "import numpy as np\n",
        "PyArr1 = np.array([[199, 15], [20, 18]])\n",
        "print(PyArr1)\n",
        "PyArr2= np.sort(PyArr1, axis = None)\n",
        "print(PyArr2)"
      ]
    },
    {
      "cell_type": "code",
      "execution_count": 1402,
      "metadata": {
        "colab": {
          "base_uri": "https://localhost:8080/"
        },
        "id": "4VF6NMDgBXmf",
        "outputId": "8ffa89fb-bba2-4ae9-e729-00abe3d90256"
      },
      "outputs": [
        {
          "name": "stdout",
          "output_type": "stream",
          "text": [
            "[(b'John', 251) (b'Mukesh', 200)]\n",
            "[(b'Mukesh', 200) (b'John', 251)]\n"
          ]
        }
      ],
      "source": [
        "import numpy as np\n",
        "PyData = np.dtype([('name', 'S10'),('marks',int)])\n",
        "PyArr = np.array([('Mukesh',200),('John',251)],dtype = PyData)\n",
        "print(np.sort(PyArr,order = 'name'))\n",
        "print(np.sort(PyArr,order = 'marks'))"
      ]
    },
    {
      "cell_type": "markdown",
      "metadata": {
        "id": "NyoCuchRBq71"
      },
      "source": [
        "## NumPy transpose() Method  \n",
        "The main task of this function is to change the column elements into the row elements and the column elements into the row elements.\n",
        "\n",
        "### **NOTE:**\n",
        "This function has no effect on 1-D arrays and thus it is used for 2-D arrays.\n",
        "\n",
        "### **Syntax:**\n",
        "numpy.transpose(a, axes=None)\n",
        "\n",
        "\n",
        "\n"
      ]
    },
    {
      "cell_type": "code",
      "execution_count": 1403,
      "metadata": {
        "colab": {
          "base_uri": "https://localhost:8080/"
        },
        "id": "lgsL24v9CPRI",
        "outputId": "bf150bbd-be7f-433c-b394-9232224b5193"
      },
      "outputs": [
        {
          "name": "stdout",
          "output_type": "stream",
          "text": [
            "[[6 2 4]\n",
            " [8 5 6]\n",
            " [7 1 9]]\n",
            "\n",
            "[[6 8 7]\n",
            " [2 5 1]\n",
            " [4 6 9]]\n"
          ]
        }
      ],
      "source": [
        "import numpy as np\n",
        "PyArr = np.array([[6, 2, 4], [8, 5, 6], [7, 1, 9]])\n",
        "print(PyArr)\n",
        "print()\n",
        "PyArr1=np.transpose(PyArr)\n",
        "print(PyArr1)"
      ]
    },
    {
      "cell_type": "code",
      "execution_count": 1404,
      "metadata": {
        "colab": {
          "base_uri": "https://localhost:8080/"
        },
        "id": "NozbbwsSCtJI",
        "outputId": "4cd687cb-9ff0-47f0-f535-b6260a7bf994"
      },
      "outputs": [
        {
          "name": "stdout",
          "output_type": "stream",
          "text": [
            "[[ 6 28]\n",
            " [ 8 56]\n",
            " [ 7 19]]\n",
            "[[ 6 28]\n",
            " [ 8 56]\n",
            " [ 7 19]]\n",
            "[[ 6  8  7]\n",
            " [28 56 19]]\n"
          ]
        }
      ],
      "source": [
        "import numpy as np\n",
        "PyArr= np.array([[6, 28], [8, 56], [7, 19]])\n",
        "print(PyArr)\n",
        "PyArr1=np.transpose(PyArr,(0,1))\n",
        "print(PyArr1)\n",
        "PyArr1=np.transpose(PyArr,(1,0))\n",
        "print(PyArr1)"
      ]
    },
    {
      "cell_type": "code",
      "execution_count": 1405,
      "metadata": {
        "colab": {
          "base_uri": "https://localhost:8080/"
        },
        "id": "YqvyZnG7DUFo",
        "outputId": "85f6d2f8-3ea9-4f52-b330-de874c0a3287"
      },
      "outputs": [
        {
          "name": "stdout",
          "output_type": "stream",
          "text": [
            "[[11  2  3  4]\n",
            " [29  4 15  6]\n",
            " [11 21 39 31]]\n",
            "[[11 29 11]\n",
            " [ 2  4 21]\n",
            " [ 3 15 39]\n",
            " [ 4  6 31]]\n"
          ]
        }
      ],
      "source": [
        "#Iterate over Transpose of array\n",
        "import numpy as np\n",
        "PyArr = np.array([[11,2,3,4],[29,4,15,6],[11,21,39,31]])\n",
        "print(PyArr)\n",
        "PyIter = PyArr.T #transpose\n",
        "print(PyIter)"
      ]
    },
    {
      "cell_type": "markdown",
      "metadata": {
        "id": "OudqukQNDtXI"
      },
      "source": [
        "### **NumPy Filter Array**\n",
        "Filtering Arrays\n",
        "Getting some elements out of an existing array and creating a new array out of them is called filtering. In NumPy, you filter an array using a Boolean index list. A Boolean index list is a list of Booleans corresponding to indexes in the array.\n",
        "\n"
      ]
    },
    {
      "cell_type": "code",
      "execution_count": 1406,
      "metadata": {
        "colab": {
          "base_uri": "https://localhost:8080/"
        },
        "id": "J4d24TWsDsaJ",
        "outputId": "c63cd409-97ec-4320-8e58-32128e761048"
      },
      "outputs": [
        {
          "name": "stdout",
          "output_type": "stream",
          "text": [
            "[41 43]\n"
          ]
        }
      ],
      "source": [
        "import numpy as np\n",
        "arr = np.array([41, 42, 43, 44])\n",
        "x = [True, False, True, False]\n",
        "newarr = arr[x]\n",
        "print(newarr)"
      ]
    },
    {
      "cell_type": "code",
      "execution_count": 1407,
      "metadata": {
        "colab": {
          "base_uri": "https://localhost:8080/"
        },
        "id": "nT_vfboWsJCC",
        "outputId": "9a3913fa-e793-458c-be89-93aeec56044b"
      },
      "outputs": [
        {
          "name": "stdout",
          "output_type": "stream",
          "text": [
            "[False, False, True, True]\n",
            "[43 44]\n"
          ]
        }
      ],
      "source": [
        "#creating filtering array\n",
        "import numpy as np\n",
        "arr=np.array([41,42,43,44])\n",
        "#create an empty list\n",
        "filter_arr=[]\n",
        "#go through each ele in arr\n",
        "for element in arr:\n",
        "    #if the element is higher than 42, set the value to True, otherwise False:\n",
        "    if element >42:\n",
        "        filter_arr.append(True)\n",
        "    else:\n",
        "        filter_arr.append(False)\n",
        "newarr=arr[filter_arr]\n",
        "print(filter_arr)\n",
        "print(newarr)\n"
      ]
    },
    {
      "cell_type": "code",
      "execution_count": 1408,
      "metadata": {
        "colab": {
          "base_uri": "https://localhost:8080/"
        },
        "id": "fwsJlM3VwZSL",
        "outputId": "2785d29a-0fef-4d0c-c569-d615146ad8f9"
      },
      "outputs": [
        {
          "name": "stdout",
          "output_type": "stream",
          "text": [
            "[False False  True  True  True  True  True  True]\n",
            "[43 44 45 46 47 48]\n"
          ]
        }
      ],
      "source": [
        "import numpy as np\n",
        "arr=np.array([41,42,43,44,45,46,47,48])\n",
        "filter_arr=arr>42\n",
        "newarr=arr[filter_arr]\n",
        "print(filter_arr)\n",
        "print(newarr)"
      ]
    },
    {
      "cell_type": "code",
      "execution_count": 1409,
      "metadata": {
        "colab": {
          "base_uri": "https://localhost:8080/"
        },
        "id": "y6Wusalcw1Py",
        "outputId": "404e8c24-cdff-4f98-8ebb-b0cea1ef6d58"
      },
      "outputs": [
        {
          "name": "stdout",
          "output_type": "stream",
          "text": [
            "[False  True False  True False  True False  True False  True]\n",
            "[ 2  4  6  8 10]\n"
          ]
        }
      ],
      "source": [
        "import numpy as np\n",
        "arr=np.array([1,2,3,4,5,6,7,8,9,10])\n",
        "filter_arr=arr % 2 == 0\n",
        "newarr=arr[filter_arr]\n",
        "print(filter_arr)\n",
        "print(newarr)"
      ]
    },
    {
      "cell_type": "code",
      "execution_count": 1410,
      "metadata": {
        "colab": {
          "base_uri": "https://localhost:8080/"
        },
        "id": "WpfOZebhxiag",
        "outputId": "d54cf928-71c6-4243-fcfb-5804452ea963"
      },
      "outputs": [
        {
          "name": "stdout",
          "output_type": "stream",
          "text": [
            "6\n",
            "7\n",
            "6\n",
            "8\n"
          ]
        }
      ],
      "source": [
        "#python Numpy indexing and slicing\n",
        "import numpy as np\n",
        "arr=np.array([1,2,3,4,5,6,7,8,9])\n",
        "print(arr[5])\n",
        "print(arr[-3])\n",
        "print(arr[-4])\n",
        "print(arr[7])"
      ]
    },
    {
      "cell_type": "code",
      "execution_count": 1411,
      "metadata": {
        "colab": {
          "base_uri": "https://localhost:8080/"
        },
        "id": "yXuTJPyqyPeU",
        "outputId": "b5fa3c16-c4d4-494b-e382-2c66c3885bde"
      },
      "outputs": [
        {
          "name": "stdout",
          "output_type": "stream",
          "text": [
            "1\n",
            "2\n",
            "4\n"
          ]
        }
      ],
      "source": [
        "import numpy as np\n",
        "PyArr = np.array([1, 2, 3, 4])\n",
        "print(PyArr[0])\n",
        "print(PyArr[1])\n",
        "print(PyArr[3])"
      ]
    },
    {
      "cell_type": "code",
      "execution_count": 1412,
      "metadata": {
        "colab": {
          "base_uri": "https://localhost:8080/"
        },
        "id": "7FbkJmnLySMX",
        "outputId": "1f59eb96-4e8a-48bc-a733-27c3c48949e4"
      },
      "outputs": [
        {
          "name": "stdout",
          "output_type": "stream",
          "text": [
            "6\n",
            "7\n",
            "-1\n"
          ]
        }
      ],
      "source": [
        "import numpy as np\n",
        "PyArr = np.array([1, 2, 3, 4])\n",
        "print(PyArr[1] +PyArr[3])\n",
        "print(PyArr[2] +PyArr[3])\n",
        "print(PyArr[2] -PyArr[3])"
      ]
    },
    {
      "cell_type": "code",
      "execution_count": 1413,
      "metadata": {
        "colab": {
          "base_uri": "https://localhost:8080/"
        },
        "id": "Si1I-yT_y4Uq",
        "outputId": "73aa0168-1de3-499f-bfc1-83c97f58bf74"
      },
      "outputs": [
        {
          "name": "stdout",
          "output_type": "stream",
          "text": [
            "2\n",
            "4\n",
            "9\n",
            "7\n"
          ]
        }
      ],
      "source": [
        "#accessing 2-D arrys\n",
        "import numpy as np\n",
        "PyArr = np.array([[1,2,3,4,5], [6,7,8,9,10]])\n",
        "print(PyArr[0, 1])\n",
        "print(PyArr[0, 3])\n",
        "print(PyArr[1, 3])\n",
        "print(PyArr[1, 1])"
      ]
    },
    {
      "cell_type": "code",
      "execution_count": 1414,
      "metadata": {
        "colab": {
          "base_uri": "https://localhost:8080/"
        },
        "id": "V5FmJS5SzEI6",
        "outputId": "45360b96-42bf-43f0-e47d-0362bab6aa1b"
      },
      "outputs": [
        {
          "name": "stdout",
          "output_type": "stream",
          "text": [
            "[[1 2 3]\n",
            " [4 5 6]]\n",
            "1\n",
            "2\n",
            "3\n"
          ]
        }
      ],
      "source": [
        "import numpy as np\n",
        "PyArr=np.array([[1,2,3],[4,5,6]])\n",
        "print(PyArr)\n",
        "print(PyArr[0][0])\n",
        "print(PyArr[0][1])\n",
        "print(PyArr[-2][-1])\n",
        "#NOTE: Don't Use positive & Negative indexing mix in NUMPY Lib."
      ]
    },
    {
      "cell_type": "markdown",
      "metadata": {
        "id": "6fNoIPyT1Zpt"
      },
      "source": [
        "### **Three Dimensional Array: Array of two dimensional arrays.**\n",
        "\n",
        " i means==> 2 (2 Dimensional Arrays-2 (0 & 1)\n",
        "\n",
        "j means ==> Rows ==> 3\n",
        "\n",
        "k means ==> Cols ==> 4\n",
        "\n",
        "x[i][j][k] ==> a[2][3][4]\n"
      ]
    },
    {
      "cell_type": "code",
      "execution_count": 1415,
      "metadata": {
        "colab": {
          "base_uri": "https://localhost:8080/"
        },
        "id": "AHcxooGh1kzN",
        "outputId": "269300d9-a1ac-4a0b-88cc-d276b5408877"
      },
      "outputs": [
        {
          "name": "stdout",
          "output_type": "stream",
          "text": [
            "6\n"
          ]
        }
      ],
      "source": [
        "import numpy as np\n",
        "PyArr = np.array([[[1, 2, 3], [4, 5, 6]], [[7, 8, 9], [10, 11, 12]]])\n",
        "print(PyArr[0, 1, 2])"
      ]
    },
    {
      "cell_type": "code",
      "execution_count": 1416,
      "metadata": {
        "colab": {
          "base_uri": "https://localhost:8080/"
        },
        "id": "IDpxo0372buT",
        "outputId": "106c28e5-0913-4751-d3d6-6e1f725cf078"
      },
      "outputs": [
        {
          "name": "stdout",
          "output_type": "stream",
          "text": [
            "5\n",
            "6\n",
            "12\n"
          ]
        }
      ],
      "source": [
        "import numpy as np\n",
        "PyArr = np.array([[[1, 2, 3], [4, 5, 6]], [[7, 8, 9], [10, 11, 12]]])\n",
        "print(PyArr[0, 1, 1])\n",
        "print(PyArr[0, 1, 2])\n",
        "print(PyArr[1, 1, 2])"
      ]
    },
    {
      "cell_type": "code",
      "execution_count": 1417,
      "metadata": {
        "colab": {
          "base_uri": "https://localhost:8080/"
        },
        "id": "m-a2Q42S2iov",
        "outputId": "d6f26da3-4f51-40df-fb0d-9083bdcb2db4"
      },
      "outputs": [
        {
          "name": "stdout",
          "output_type": "stream",
          "text": [
            "[[[ 1  2  3  4]\n",
            "  [ 5  6  7  8]\n",
            "  [ 9 10 11 12]]\n",
            "\n",
            " [[13 14 15 16]\n",
            "  [17 18 19 20]\n",
            "  [21 22 23 24]]]\n",
            "2\n",
            "2\n",
            "16\n"
          ]
        }
      ],
      "source": [
        "import numpy as np\n",
        "PyArr=np.array([[[1,2,3,4],[5,6,7,8],[9,10,11,12]],[[13,14,15,16],[17,18,19,20],[21,22,23,24]]])\n",
        "print(PyArr)\n",
        "print(PyArr[0][0][1])\n",
        "print(PyArr[-2][-3][-3])\n",
        "print(PyArr[1][0][3])"
      ]
    },
    {
      "cell_type": "code",
      "execution_count": 1418,
      "metadata": {
        "colab": {
          "base_uri": "https://localhost:8080/"
        },
        "id": "RVLGD0wU3Gxd",
        "outputId": "25273b76-4c74-4194-a085-609b79ae948e"
      },
      "outputs": [
        {
          "name": "stdout",
          "output_type": "stream",
          "text": [
            "10\n",
            "9\n",
            "5\n",
            "2\n"
          ]
        }
      ],
      "source": [
        "import numpy as np\n",
        "PyArr = np.array([[1,2,3,4,5], [6,7,8,9,10]])\n",
        "print(PyArr[1, -1])\n",
        "print(PyArr[1, -2])\n",
        "print(PyArr[0, -1])\n",
        "print(PyArr[0, -4])"
      ]
    },
    {
      "cell_type": "markdown",
      "metadata": {
        "id": "2F-Nc0KC3SJM"
      },
      "source": [
        "### **NumPy Array Slicing:**\n",
        "Slicing arrays\n",
        "Slicing in python means taking elements from one given index to another given index.\n",
        "\n",
        "**We pass slice instead of index like this: [start:end].**\n",
        "\n",
        "**We can also define the step, like this: [start:end:step].**\n",
        "\n",
        "**If we don't pass start its considered 0 (Default)**\n",
        "\n",
        "**If we don't pass end its considered length of array in that dimension(Default)**\n",
        "\n",
        "**If we don't pass step its considered 1 (Default)**\n"
      ]
    },
    {
      "cell_type": "code",
      "execution_count": 1419,
      "metadata": {
        "colab": {
          "base_uri": "https://localhost:8080/"
        },
        "id": "0eBa-9Af36Wr",
        "outputId": "0238b977-9795-4c88-b45e-4752e55cf6ed"
      },
      "outputs": [
        {
          "name": "stdout",
          "output_type": "stream",
          "text": [
            "[2 3 4 5]\n",
            "[5 6 7]\n",
            "[1 2 3 4]\n"
          ]
        }
      ],
      "source": [
        "import numpy as np\n",
        "PyArr = np.array([1, 2, 3, 4, 5, 6, 7])\n",
        "print(PyArr[1:5])\n",
        "print(PyArr[4:])\n",
        "print(PyArr[:4])"
      ]
    },
    {
      "cell_type": "code",
      "execution_count": 1420,
      "metadata": {
        "colab": {
          "base_uri": "https://localhost:8080/"
        },
        "id": "I1Sy8BgG4RwT",
        "outputId": "f790b258-5c5c-43d8-f8a4-b71e5f35a73f"
      },
      "outputs": [
        {
          "name": "stdout",
          "output_type": "stream",
          "text": [
            "[5 6]\n"
          ]
        }
      ],
      "source": [
        "import numpy as np\n",
        "PyArr = np.array([1, 2, 3, 4, 5, 6, 7])\n",
        "print(PyArr[-3:-1])"
      ]
    },
    {
      "cell_type": "code",
      "execution_count": 1421,
      "metadata": {
        "colab": {
          "base_uri": "https://localhost:8080/"
        },
        "id": "dZ25c3uh4ZDQ",
        "outputId": "2ff1f61b-f983-4acf-a62a-88f6afcb9086"
      },
      "outputs": [
        {
          "name": "stdout",
          "output_type": "stream",
          "text": [
            "[2 4]\n",
            "[1 3 5 7]\n",
            "[1 4 7]\n",
            "[7 6 5 4 3 2 1]\n",
            "[1 2 3 4 5 6 7]\n"
          ]
        }
      ],
      "source": [
        "import numpy as np\n",
        "PyArr = np.array([1, 2, 3, 4, 5, 6, 7])\n",
        "print(PyArr[1:5:2])\n",
        "print(PyArr[::2])\n",
        "print(PyArr[::3])\n",
        "print(PyArr[::-1])\n",
        "print(PyArr[::]) #start=>0, stop=>LengthOfArray,Step=>Default One.\n",
        "#It is treated as PyArr[0:7:1]"
      ]
    },
    {
      "cell_type": "code",
      "execution_count": 1422,
      "metadata": {
        "colab": {
          "base_uri": "https://localhost:8080/"
        },
        "id": "DEeqroWs4yoe",
        "outputId": "b0b1b7f8-9944-484f-eed8-114ed4e15f70"
      },
      "outputs": [
        {
          "name": "stdout",
          "output_type": "stream",
          "text": [
            "[7 8 9]\n",
            "[2 3 4]\n",
            "[ 8  9 10]\n"
          ]
        }
      ],
      "source": [
        "import numpy as np\n",
        "PyArr = np.array([[1, 2, 3, 4, 5], [6, 7, 8, 9, 10]])\n",
        "print(PyArr[1, 1:4])\n",
        "print(PyArr[0, 1:4])\n",
        "print(PyArr[1, 2:5])\n",
        "#NOTE:(,) indicates from all rows"
      ]
    },
    {
      "cell_type": "code",
      "execution_count": 1423,
      "metadata": {
        "colab": {
          "base_uri": "https://localhost:8080/"
        },
        "id": "E8i4by3h5G_A",
        "outputId": "c3c1d465-aaaa-4fd3-ee85-bee04ebc9f44"
      },
      "outputs": [
        {
          "name": "stdout",
          "output_type": "stream",
          "text": [
            "[[1 2]\n",
            " [6 7]]\n",
            "[[7 8]]\n",
            "[]\n"
          ]
        }
      ],
      "source": [
        "import numpy as np\n",
        "PyArr = np.array([[1,2,3,4,5], [6,7,8,9,10]])\n",
        "print(PyArr[0:2, 0:2])\n",
        "print(PyArr[1:2, 1:3])\n",
        "print(PyArr[0:1, 1:1])"
      ]
    },
    {
      "cell_type": "code",
      "execution_count": 1424,
      "metadata": {
        "colab": {
          "base_uri": "https://localhost:8080/"
        },
        "id": "Ov9Vv8UBHfuq",
        "outputId": "40898d1d-2e24-4df8-fa9e-fc3c525dc238"
      },
      "outputs": [
        {
          "name": "stdout",
          "output_type": "stream",
          "text": [
            "[[2 3 4]\n",
            " [7 8 9]]\n"
          ]
        }
      ],
      "source": [
        "import numpy as np\n",
        "PyArr = np.array([[1, 2, 3, 4, 5], [6, 7, 8, 9, 10]])\n",
        "print(PyArr[0:2, 1:4])"
      ]
    },
    {
      "cell_type": "code",
      "execution_count": 1425,
      "metadata": {
        "colab": {
          "base_uri": "https://localhost:8080/"
        },
        "id": "xiPkIkjLKgOt",
        "outputId": "99cf6dde-ab61-4c58-b6e0-9bb29fae46d9"
      },
      "outputs": [
        {
          "name": "stdout",
          "output_type": "stream",
          "text": [
            "3\n",
            "[40 50]\n",
            "[100 110]\n",
            "[70 80 90]\n",
            "[10 20]\n"
          ]
        }
      ],
      "source": [
        "import numpy as np\n",
        "PyArr=np.array([[[10,20,30],[40,50,60]],[[70,80,90],[100,110,120]]])\n",
        "print(PyArr.ndim)\n",
        "print(PyArr[0,1,0:2])\n",
        "print(PyArr[1,1,0:2])\n",
        "print(PyArr[1,0,0:3])\n",
        "print(PyArr[0,0,0:2])"
      ]
    },
    {
      "cell_type": "code",
      "execution_count": 1426,
      "metadata": {
        "colab": {
          "base_uri": "https://localhost:8080/"
        },
        "id": "b2PyOg5-Kzz2",
        "outputId": "565b7bda-0729-4fd5-e081-e91ab2af5471"
      },
      "outputs": [
        {
          "name": "stdout",
          "output_type": "stream",
          "text": [
            "3\n",
            "[5 6]\n",
            "[ 9 10]\n",
            "[21 22]\n",
            "[22 23]\n"
          ]
        }
      ],
      "source": [
        "import numpy as np\n",
        "PyArr=np.array([[[1,2,3,4],[5,6,7,8],[9,10,11,12]],[[13,14,15,16],[17,18,19,20],[21,22,23,24]]])\n",
        "print(PyArr.ndim)\n",
        "print(PyArr[0,1,0:2])\n",
        "print(PyArr[0,2,0:2])\n",
        "print(PyArr[1,2,0:2])\n",
        "print(PyArr[1,2,1:3])"
      ]
    },
    {
      "cell_type": "code",
      "execution_count": 1427,
      "metadata": {
        "colab": {
          "base_uri": "https://localhost:8080/"
        },
        "id": "HlX9wMWRUp-0",
        "outputId": "23ff2b80-0092-48f3-a350-8e807eadaf3b"
      },
      "outputs": [
        {
          "name": "stdout",
          "output_type": "stream",
          "text": [
            "[11 23 56]\n"
          ]
        }
      ],
      "source": [
        "#Numpy advanced indexing\n",
        "#integer and boolean\n",
        "import numpy as np\n",
        "PyArr = np.array([[11, 28], [23, 84], [95, 56]])\n",
        "MyArr = PyArr[[0,1,2], [0,0,1]]\n",
        "print(MyArr)"
      ]
    },
    {
      "cell_type": "code",
      "execution_count": 1428,
      "metadata": {
        "colab": {
          "base_uri": "https://localhost:8080/"
        },
        "id": "vHFIl3-hU5qK",
        "outputId": "31fe0851-07bd-4875-8a93-c98751bf069b"
      },
      "outputs": [
        {
          "name": "stdout",
          "output_type": "stream",
          "text": [
            "[[1 2]\n",
            " [3 4]\n",
            " [5 6]]\n",
            "[1 4 5]\n",
            "[1 2]\n",
            "[5 6]\n"
          ]
        }
      ],
      "source": [
        "import numpy as np\n",
        "PyArr=np.array([[1,2],[3,4],[5,6]])\n",
        "print(PyArr)\n",
        "print(PyArr[[0,1,2],[0,1,0]])\n",
        "print(PyArr[0])\n",
        "print(PyArr[2])"
      ]
    },
    {
      "cell_type": "code",
      "execution_count": 1429,
      "metadata": {
        "colab": {
          "base_uri": "https://localhost:8080/"
        },
        "id": "hc4nScGMVfhE",
        "outputId": "5fa80db7-5999-4279-e1da-4505bb5c80a6"
      },
      "outputs": [
        {
          "name": "stdout",
          "output_type": "stream",
          "text": [
            "[[[10 81  2]]\n",
            "\n",
            " [[92 10 11]]]\n"
          ]
        }
      ],
      "source": [
        "import numpy as np\n",
        "PyArr = np.array([[10, 81, 2], [3, 43, 35], [63, 72, 8], [92, 10, 11]])\n",
        "PyRows = np.array([[0], [3]])\n",
        "MyArr = PyArr[PyRows]\n",
        "print (MyArr)"
      ]
    },
    {
      "cell_type": "code",
      "execution_count": 1430,
      "metadata": {
        "colab": {
          "base_uri": "https://localhost:8080/"
        },
        "id": "DECYNgTAVsfr",
        "outputId": "5edc2aef-89b5-46fd-a0a9-b62f62e8b2e4"
      },
      "outputs": [
        {
          "name": "stdout",
          "output_type": "stream",
          "text": [
            "[[1 2]\n",
            " [3 4]\n",
            " [5 6]]\n",
            "[3]\n",
            "[5]\n",
            "[9]\n"
          ]
        }
      ],
      "source": [
        "#Add Operation\n",
        "import numpy as np\n",
        "PyArr=np.array([[1,2],[3,4],[5,6]])\n",
        "print(PyArr)\n",
        "print(PyArr[[0],[1]]+1)\n",
        "print(PyArr[[1],[1]]+1)\n",
        "print(PyArr[[2],[1]]+3)"
      ]
    },
    {
      "cell_type": "code",
      "execution_count": 1431,
      "metadata": {
        "colab": {
          "base_uri": "https://localhost:8080/"
        },
        "id": "siLj0DWuWKAb",
        "outputId": "a5707952-7b19-41d9-9800-dc80be28228e"
      },
      "outputs": [
        {
          "name": "stdout",
          "output_type": "stream",
          "text": [
            "[[1 2]\n",
            " [3 4]\n",
            " [5 6]]\n",
            "[[1 3]\n",
            " [3 5]\n",
            " [5 9]]\n"
          ]
        }
      ],
      "source": [
        "#New Copy of an Array\n",
        "import numpy as np\n",
        "PyArr=np.array([[1,2],[3,4],[5,6]])\n",
        "print(PyArr)\n",
        "PyArr[[0],[1]]+=1\n",
        "PyArr[[1],[1]]+=1\n",
        "PyArr[[2],[1]]+=3\n",
        "print(PyArr)"
      ]
    },
    {
      "cell_type": "code",
      "execution_count": 1432,
      "metadata": {
        "colab": {
          "base_uri": "https://localhost:8080/"
        },
        "id": "oM8Y3TbBJmt0",
        "outputId": "52dbf865-742b-4f41-dc7d-99a1e217ff0b"
      },
      "outputs": [
        {
          "name": "stdout",
          "output_type": "stream",
          "text": [
            "[11 51 23 24 16 47  8 91 10 11]\n",
            "[51 47 91]\n",
            "[91]\n"
          ]
        }
      ],
      "source": [
        "#Boolean indexing\n",
        "import numpy as np\n",
        "PyArr = np.array([[11, 51, 2],[23, 24, 5], [16, 47, 8] ,[91, 10, 11]])\n",
        "print(PyArr[PyArr>5])\n",
        "print(PyArr[PyArr>=30])\n",
        "print(PyArr[PyArr>51])"
      ]
    },
    {
      "cell_type": "code",
      "execution_count": 1433,
      "metadata": {
        "colab": {
          "base_uri": "https://localhost:8080/"
        },
        "id": "1NSLh3fZWXOt",
        "outputId": "375ac905-ecbf-47fc-e592-e7fbafcdce9f"
      },
      "outputs": [
        {
          "name": "stdout",
          "output_type": "stream",
          "text": [
            "[ 1. 12.  3. 41. 54.]\n",
            "[nan nan]\n"
          ]
        }
      ],
      "source": [
        "import numpy as np\n",
        "PyArr = np.array([np.nan, 1, 12, np.nan, 3, 41, 54])\n",
        "#After omitting NaN the output array is\n",
        "print (PyArr[~np.isnan(PyArr)])\n",
        "#After omitting Except NaN the output array is\n",
        "print (PyArr[np.isnan(PyArr)])"
      ]
    },
    {
      "cell_type": "markdown",
      "metadata": {
        "id": "grKsriHEYnpr"
      },
      "source": [
        "to remove  non-complex numbers using is complex function to filter out the non complex.\n"
      ]
    },
    {
      "cell_type": "code",
      "execution_count": 1434,
      "metadata": {
        "colab": {
          "base_uri": "https://localhost:8080/"
        },
        "id": "MHOjG5YYY7g5",
        "outputId": "6432ecda-8c83-4149-93e5-f35a07a25db6"
      },
      "outputs": [
        {
          "name": "stdout",
          "output_type": "stream",
          "text": [
            "[1. +0.j 2. +6.j 5. +0.j 3.5+5.j]\n",
            "[2. +6.j 3.5+5.j]\n"
          ]
        }
      ],
      "source": [
        "import numpy as np\n",
        "PyArr = np.array([1, 2+6j, 5, 3.5+5j])\n",
        "print(PyArr)\n",
        "#After Filtering the non-complex numbers\n",
        "print (PyArr[np.iscomplex(PyArr)])"
      ]
    },
    {
      "cell_type": "code",
      "execution_count": 1435,
      "metadata": {
        "colab": {
          "base_uri": "https://localhost:8080/"
        },
        "id": "gdVvFd9jaNZy",
        "outputId": "0e6e2f3f-cb1b-4ada-d749-d34d383712a9"
      },
      "outputs": [
        {
          "name": "stdout",
          "output_type": "stream",
          "text": [
            "[1.+0.j 2.+0.j 3.+7.j 4.+0.j 5.+0.j 6.+0.j 7.+1.j]\n",
            "[3.+7.j 7.+1.j]\n"
          ]
        }
      ],
      "source": [
        "import numpy as np\n",
        "pyarr=np.array([1,2,3+7j,4,5,6,7+1j])\n",
        "print(pyarr)\n",
        "print(pyarr[np.iscomplex(pyarr)])"
      ]
    },
    {
      "cell_type": "code",
      "execution_count": 1436,
      "metadata": {
        "colab": {
          "base_uri": "https://localhost:8080/"
        },
        "id": "_AuXR3K3a9PZ",
        "outputId": "3cef9fa8-89ac-40b9-96b3-6b9d710bd50d"
      },
      "outputs": [
        {
          "name": "stdout",
          "output_type": "stream",
          "text": [
            "[[ 0  1  2]\n",
            " [ 3  4  5]\n",
            " [ 6  7  8]\n",
            " [ 9 10 11]]\n",
            "[ 0  2  4  6  8 10]\n",
            "[ 1  3  5  7  9 11]\n"
          ]
        }
      ],
      "source": [
        "import numpy as np\n",
        "PyArr=np.array([[0,1,2],[3,4,5],[6,7,8],[9,10,11]])\n",
        "print(PyArr)\n",
        "print(PyArr[PyArr%2==0])\n",
        "print(PyArr[PyArr%2!=0])"
      ]
    },
    {
      "cell_type": "markdown",
      "metadata": {
        "id": "LrCiXwoZckxe"
      },
      "source": [
        "### **Rules for NumPy Broadcasting:**\n",
        "### **broadcasting refers to the  how numpy array handles the different dimensions while performing any arithmetic operation.**\n",
        "\n",
        "1 The smaller dimension ndarray can be appended with '1' in its shape.\n",
        "\n",
        "2 The size of each output dimension should be the maximum of the input sizes in the dimension.\n",
        "\n",
        "3 It is important to note that input can be used in the calculation only if its size in a particular dimension matches the output size or its value is exactly 1.\n"
      ]
    },
    {
      "cell_type": "code",
      "execution_count": 1437,
      "metadata": {
        "colab": {
          "base_uri": "https://localhost:8080/"
        },
        "id": "JQBYIMNbckSp",
        "outputId": "c67eb58c-82ba-4b7f-b5c5-a396fb60432c"
      },
      "outputs": [
        {
          "name": "stdout",
          "output_type": "stream",
          "text": [
            "[ 3  9 11 13]\n"
          ]
        }
      ],
      "source": [
        "#adding two 1-d arrays of same shape\n",
        "import numpy as np\n",
        "PyArr1 = np.array([1,2,3,4])\n",
        "PyArr2 = np.array([2,7,8,9])\n",
        "PyArr3 = PyArr1+PyArr2;\n",
        "print(PyArr3)"
      ]
    },
    {
      "cell_type": "code",
      "execution_count": 1438,
      "metadata": {
        "colab": {
          "base_uri": "https://localhost:8080/"
        },
        "id": "RW2B8DZNeMth",
        "outputId": "9e3aa999-0281-4ff8-bc0d-2f43db43259d"
      },
      "outputs": [
        {
          "name": "stdout",
          "output_type": "stream",
          "text": [
            "[[ 0]\n",
            " [10]\n",
            " [20]\n",
            " [30]]\n",
            "[0 1 2]\n",
            "[[ 0  1  2]\n",
            " [10 11 12]\n",
            " [20 21 22]\n",
            " [30 31 32]]\n",
            "[[ 0 -1 -2]\n",
            " [10  9  8]\n",
            " [20 19 18]\n",
            " [30 29 28]]\n",
            "[[ 0  0  0]\n",
            " [ 0 10 20]\n",
            " [ 0 20 40]\n",
            " [ 0 30 60]]\n"
          ]
        }
      ],
      "source": [
        "import numpy as np\n",
        "PyArr1=np.array([[0],[10],[20],[30]])\n",
        "print(PyArr1)\n",
        "PyArr2=np.array([0,1,2])\n",
        "print(PyArr2)\n",
        "print(PyArr1+PyArr2)\n",
        "print(PyArr1-PyArr2)\n",
        "print(PyArr1*PyArr2)"
      ]
    },
    {
      "cell_type": "code",
      "execution_count": 1439,
      "metadata": {
        "colab": {
          "base_uri": "https://localhost:8080/"
        },
        "id": "7xzKe4LLh-D5",
        "outputId": "c8cb75c3-5e61-476f-9e27-3eb64476e15c"
      },
      "outputs": [
        {
          "name": "stdout",
          "output_type": "stream",
          "text": [
            "[[ 5 10 13 16]\n",
            " [15 18 18 18]\n",
            " [14 28 49 15]]\n"
          ]
        }
      ],
      "source": [
        "import numpy as np\n",
        "PyArr1 = np.array([[1,2,3,4],[11,10,8,6],[10,20,39,3]])\n",
        "PyArr2 = np.array([4,8,10,12])\n",
        "PyArr3 = PyArr1 + PyArr2;\n",
        "print(PyArr3)"
      ]
    },
    {
      "cell_type": "code",
      "execution_count": 1440,
      "metadata": {
        "colab": {
          "base_uri": "https://localhost:8080/"
        },
        "id": "eZGVzrnfixYj",
        "outputId": "84dd8210-0f93-4205-9384-223b8a7ca1c6"
      },
      "outputs": [
        {
          "name": "stdout",
          "output_type": "stream",
          "text": [
            "[[ 5  2  7  4]\n",
            " [ 9  0  2  3]\n",
            " [ 1  2  3 19]]\n",
            "1598551842640\n",
            "1598551842640\n",
            "[[ 5  2  7]\n",
            " [ 4  9  0]\n",
            " [ 2  3  1]\n",
            " [ 2  3 19]]\n"
          ]
        }
      ],
      "source": [
        "import numpy as np\n",
        "PyArr= np.array([[5,2,7,4],[9,0,2,3],[1,2,3,19]])\n",
        "print(PyArr)\n",
        "PyArr1 = PyArr\n",
        "print(id(PyArr))\n",
        "print(id(PyArr1))\n",
        "PyArr1.shape = 4,3\n",
        "print(PyArr)"
      ]
    },
    {
      "cell_type": "code",
      "execution_count": 1441,
      "metadata": {
        "colab": {
          "base_uri": "https://localhost:8080/"
        },
        "id": "_8_XIPLRjLTQ",
        "outputId": "e9a2cc51-d00a-44ea-8a76-3db19064a9dd"
      },
      "outputs": [
        {
          "name": "stdout",
          "output_type": "stream",
          "text": [
            "[5 4 6 8 9]\n",
            "[5 4 6 8 9]\n",
            "1598551420208\n",
            "1598552108528\n",
            "[25  4  6  8  9]\n",
            "[5 4 6 8 9]\n"
          ]
        }
      ],
      "source": [
        "#copy or deep copy\n",
        "import numpy as np\n",
        "PyArr = np.array([5, 4, 6, 8, 9])\n",
        "print(PyArr)\n",
        "PyCopy = PyArr.copy()\n",
        "print(PyCopy)\n",
        "print(id(PyArr))\n",
        "print(id(PyCopy))\n",
        "PyArr[0] = 25\n",
        "print(PyArr)\n",
        "print(PyCopy)"
      ]
    },
    {
      "cell_type": "code",
      "execution_count": 1442,
      "metadata": {
        "colab": {
          "base_uri": "https://localhost:8080/"
        },
        "id": "A-apWtlhlG5l",
        "outputId": "2bef9a98-e122-47e2-b5c7-fcf7a46f8608"
      },
      "outputs": [
        {
          "name": "stdout",
          "output_type": "stream",
          "text": [
            "[ 2  4  6  8 10 12]\n",
            "1598553692496\n",
            "1598553689616\n",
            "[ 2  4  6 16 10 12]\n",
            "[ 2  4  6 16 10 12]\n"
          ]
        }
      ],
      "source": [
        "#view or shallow view\n",
        "import numpy as np\n",
        "PyArr=np.array([2, 4, 6, 8, 10,12])\n",
        "print(PyArr)\n",
        "PyView = PyArr.view()\n",
        "print(id(PyArr))\n",
        "print(id(PyView))\n",
        "PyArr[3] = 16\n",
        "print(PyArr)\n",
        "print(PyView)"
      ]
    },
    {
      "cell_type": "code",
      "execution_count": 1443,
      "metadata": {
        "colab": {
          "base_uri": "https://localhost:8080/"
        },
        "id": "RufiZOQDlX1b",
        "outputId": "4f11446c-fa94-4ec8-a4c3-3bdce45e406c"
      },
      "outputs": [
        {
          "name": "stdout",
          "output_type": "stream",
          "text": [
            "[[ 0  5 10 15]\n",
            " [20 25 30 35]\n",
            " [40 45 50 55]]\n",
            "\n",
            "[1 2 3 4]\n",
            "\n",
            "0:1\n",
            "5:2\n",
            "10:3\n",
            "15:4\n",
            "20:1\n",
            "25:2\n",
            "30:3\n",
            "35:4\n",
            "40:1\n",
            "45:2\n",
            "50:3\n",
            "55:4\n"
          ]
        }
      ],
      "source": [
        "import numpy as np\n",
        "PyArr1 = np.arange(0,60,5)\n",
        "PyArr1 = PyArr1.reshape(3,4)\n",
        "print (PyArr1)\n",
        "print ()\n",
        "\n",
        "PyArr2 = np.array([1, 2, 3, 4], dtype = int)\n",
        "print (PyArr2)\n",
        "print ()\n",
        "\n",
        "for x,y in np.nditer([PyArr1,PyArr2]):\n",
        "    print (\"%d:%d\" %(x,y))"
      ]
    },
    {
      "cell_type": "markdown",
      "metadata": {
        "id": "LwWsaswGn_TB"
      },
      "source": [
        "### **Modifying the values of an Array**\n",
        "\n",
        "**Another optional parameter of the nditer object is called as op_flags. The default value of this parameter is read-only but it can also be set to read-write or write-only mode. With the help of this, you are able to easily modify the values of all or some of the elements in the array using this iterator.**\n",
        "\n",
        "Item[...] = 2 + Item adds 2 to each element and updates the element with the new value. The [...] syntax is used to modify the element in place.\n"
      ]
    },
    {
      "cell_type": "code",
      "execution_count": 1444,
      "metadata": {
        "colab": {
          "base_uri": "https://localhost:8080/"
        },
        "id": "hIIYDSY3nPVM",
        "outputId": "115b366c-8218-4ee9-e0f9-08595ddf7f86"
      },
      "outputs": [
        {
          "name": "stdout",
          "output_type": "stream",
          "text": [
            "[[ 0  6 12]\n",
            " [18 24 30]\n",
            " [36 42 48]]\n",
            "[[ 2  8 14]\n",
            " [20 26 32]\n",
            " [38 44 50]]\n"
          ]
        }
      ],
      "source": [
        "import numpy as np\n",
        "PyArr = np.arange(0,50,6)\n",
        "PyArr = PyArr.reshape(3,3)\n",
        "print (PyArr)\n",
        "for Item in np.nditer(PyArr, op_flags = ['readwrite']):\n",
        "    Item[...]=2+Item\n",
        "print (PyArr)"
      ]
    },
    {
      "cell_type": "markdown",
      "metadata": {
        "id": "omYu9NWko5u3"
      },
      "source": [
        "### **Theprocess of multiplication of matrix in Numpy is commonly known as Vectorization.**\n",
        "**Three different ways for Matrix Multiplication**\n",
        "\n",
        "Using multiply() Function\n",
        "\n",
        "***It is used when we want to do the multiplication of two arrays. This method will return the product of arr1 and arr2 with the multiplication done element-wise. ***\n",
        "\n",
        "matmul() Function\n",
        "\n",
        "**It is used to return the matrix product of two given arrays.**\n",
        "\n",
        "dot() function\n",
        "\n",
        "**bold text** **The only major difference is that in dot product we can have scalar values as well. Thus dot product of two matrices is also known as Scalar product. **bold text**\n",
        "\n",
        "\n",
        "\n"
      ]
    },
    {
      "cell_type": "code",
      "execution_count": 1445,
      "metadata": {
        "colab": {
          "base_uri": "https://localhost:8080/"
        },
        "id": "7d-cX5tMo4A4",
        "outputId": "220e2adf-022e-46a3-8449-79a59574ab21"
      },
      "outputs": [
        {
          "name": "stdout",
          "output_type": "stream",
          "text": [
            "[[[11  2 23]\n",
            "  [14 75  6]\n",
            "  [17  8  9]]]\n",
            "[[[9 8 7]\n",
            "  [6 5 4]\n",
            "  [3 2 1]]]\n",
            "[[[ 99  16 161]\n",
            "  [ 84 375  24]\n",
            "  [ 51  16   9]]]\n"
          ]
        }
      ],
      "source": [
        "#NumPy Matrix Multiplication\n",
        "import numpy as np\n",
        "PyArr1 = np.array([[11,2,23],[14,75,6],[17,8,9]], ndmin=3)\n",
        "print(PyArr1)\n",
        "PyArr2 = np.array([[9,8,7],[6,5,4],[3,2,1]], ndmin=3)\n",
        "print(PyArr2)\n",
        "PyResult = np.multiply(PyArr1,PyArr2)\n",
        "print(PyResult)"
      ]
    },
    {
      "cell_type": "code",
      "execution_count": 1446,
      "metadata": {
        "colab": {
          "base_uri": "https://localhost:8080/"
        },
        "id": "Fr_W-RVUqd8Z",
        "outputId": "dab284e5-d6f4-4860-9d55-21e50dba4c64"
      },
      "outputs": [
        {
          "name": "stdout",
          "output_type": "stream",
          "text": [
            "[[1 2 3]\n",
            " [4 5 6]\n",
            " [1 2 1]]\n",
            "[[1 1 1]\n",
            " [0 1 0]\n",
            " [1 1 1]]\n",
            "[[ 4  6  4]\n",
            " [10 15 10]\n",
            " [ 2  4  2]]\n"
          ]
        }
      ],
      "source": [
        "import numpy as np\n",
        "PyArr1 = np.array([[1,2,3], [4,5,6],[1,2,1]])\n",
        "print(PyArr1)\n",
        "PyArr2 = np.array([[1,1,1], [0,1,0], [1,1,1]])\n",
        "print(PyArr2)\n",
        "PyArr3 = np.matmul(PyArr1,PyArr2)\n",
        "print(PyArr3)"
      ]
    },
    {
      "cell_type": "code",
      "execution_count": 1447,
      "metadata": {
        "colab": {
          "base_uri": "https://localhost:8080/"
        },
        "id": "Zb5fAaEWrurk",
        "outputId": "924aca13-34b2-40d2-8c43-52d6eb427be7"
      },
      "outputs": [
        {
          "name": "stdout",
          "output_type": "stream",
          "text": [
            "A is [[1, 4], [2, 1]]\n",
            "B is [1, 2]\n",
            "AxB is\n",
            "[9 4]\n",
            "BxA is \n",
            "[5 6]\n"
          ]
        }
      ],
      "source": [
        "import numpy.matlib\n",
        "import numpy as np\n",
        "PyArr1 = [[1,4],[2,1]]\n",
        "print(\"A is\",PyArr1)\n",
        "PyArr2 = [1,2]\n",
        "print(\"B is\",PyArr2)\n",
        "print(\"AxB is\")\n",
        "print(np.matmul(PyArr1,PyArr2))\n",
        "print(\"BxA is \")\n",
        "print (np.matmul(PyArr2,PyArr1))"
      ]
    },
    {
      "cell_type": "code",
      "execution_count": 1448,
      "metadata": {
        "colab": {
          "base_uri": "https://localhost:8080/"
        },
        "id": "2vJSQrz6uKq-",
        "outputId": "d326686c-a123-4eab-8ebd-e08c645d316f"
      },
      "outputs": [
        {
          "name": "stdout",
          "output_type": "stream",
          "text": [
            "[7 9 8]\n",
            "[2 5 6]\n",
            "107\n"
          ]
        }
      ],
      "source": [
        "import numpy as np\n",
        "PyArr1 = np.array([7,9,8])\n",
        "PyArr2 = np.array([2,5,6])\n",
        "print(PyArr1)\n",
        "print(PyArr2)\n",
        "PyArr3 = np.dot(PyArr1,PyArr2)\n",
        "print(PyArr3)"
      ]
    },
    {
      "cell_type": "code",
      "execution_count": 1449,
      "metadata": {
        "colab": {
          "base_uri": "https://localhost:8080/"
        },
        "id": "YLN7L34WuPn5",
        "outputId": "9b3a1f8f-218d-47e5-815e-c9892552b6f7"
      },
      "outputs": [
        {
          "name": "stdout",
          "output_type": "stream",
          "text": [
            "[[1 4]\n",
            " [3 1]]\n",
            "[[4 5]\n",
            " [6 5]]\n",
            "[[28 25]\n",
            " [18 20]]\n"
          ]
        }
      ],
      "source": [
        "import numpy as np\n",
        "PyArr1 = np.array([[1,4],[3,1]])\n",
        "PyArr2 = np.array([[4,5],[6,5]])\n",
        "print(PyArr1)\n",
        "print(PyArr2)\n",
        "PyArr3 = np.dot(PyArr1, PyArr2)\n",
        "print(PyArr3)"
      ]
    },
    {
      "cell_type": "code",
      "execution_count": 1450,
      "metadata": {
        "colab": {
          "base_uri": "https://localhost:8080/"
        },
        "id": "kpYvOZ5_uPkZ",
        "outputId": "c7dabd74-e446-4259-c1ca-8c8cb317480c"
      },
      "outputs": [
        {
          "name": "stdout",
          "output_type": "stream",
          "text": [
            "[[1 2 3]\n",
            " [7 8 9]]\n",
            "[[11 21 31]\n",
            " [42 52 62]]\n",
            "[ 1  2  3  7  8  9 11 21 31 42 52 62]\n"
          ]
        }
      ],
      "source": [
        "#numpy append() function\n",
        "import numpy as np\n",
        "PyArr1 = np.array([[1, 2, 3], [7, 8, 9]])\n",
        "PyArr2 = np.array([[11, 21, 31], [42, 52, 62]])\n",
        "print(PyArr1)\n",
        "print(PyArr2)\n",
        "PyArr3 = np.append(PyArr1,PyArr2)\n",
        "print(PyArr3)"
      ]
    },
    {
      "cell_type": "code",
      "execution_count": 1451,
      "metadata": {
        "colab": {
          "base_uri": "https://localhost:8080/"
        },
        "id": "OReAD6gkuPiQ",
        "outputId": "62858f6d-b277-4a6d-b407-ad8d38f76817"
      },
      "outputs": [
        {
          "name": "stdout",
          "output_type": "stream",
          "text": [
            "[[1 2 3]\n",
            " [7 8 9]]\n",
            "[[11 21 31]\n",
            " [42 52 62]]\n",
            "[[ 1  2  3]\n",
            " [ 7  8  9]\n",
            " [11 21 31]\n",
            " [42 52 62]]\n",
            "[[ 1  2  3 11 21 31]\n",
            " [ 7  8  9 42 52 62]]\n"
          ]
        }
      ],
      "source": [
        "import numpy as np\n",
        "PyArr1 = np.array([[1, 2, 3], [7, 8, 9]])\n",
        "PyArr2 = np.array([[11, 21, 31], [42, 52, 62]])\n",
        "print(PyArr1)\n",
        "print(PyArr2)\n",
        "PyArr3 = np.append(PyArr1,PyArr2,axis=0)\n",
        "print(PyArr3)\n",
        "PyArr4 = np.append(PyArr1,PyArr2,axis=1)\n",
        "print(PyArr4)"
      ]
    },
    {
      "cell_type": "code",
      "execution_count": 1452,
      "metadata": {
        "colab": {
          "base_uri": "https://localhost:8080/"
        },
        "id": "Reb-mZjtuPgP",
        "outputId": "2b21c1b8-f9a9-49f1-c11a-4122b5600fc4"
      },
      "outputs": [
        {
          "name": "stdout",
          "output_type": "stream",
          "text": [
            "68\n"
          ]
        }
      ],
      "source": [
        "#Random Numbers in NumPy\n",
        "#Random number does NOT mean a different number every time. Random means something that can not be predicted logically.\n",
        "from numpy import random\n",
        "data = random.randint(100)\n",
        "print(data)"
      ]
    },
    {
      "cell_type": "code",
      "execution_count": 1453,
      "metadata": {
        "colab": {
          "base_uri": "https://localhost:8080/"
        },
        "id": "B-574tZeuPeL",
        "outputId": "fb7db4b8-bb1d-4821-942a-4d7cb970453d"
      },
      "outputs": [
        {
          "name": "stdout",
          "output_type": "stream",
          "text": [
            "47\n"
          ]
        }
      ],
      "source": [
        "from numpy import random\n",
        "data = random.randint(100)\n",
        "print(data)"
      ]
    },
    {
      "cell_type": "code",
      "execution_count": 1454,
      "metadata": {
        "colab": {
          "base_uri": "https://localhost:8080/"
        },
        "id": "W0UgbOiluPcI",
        "outputId": "fdc77508-4a72-4a14-e982-2a207b85101a"
      },
      "outputs": [
        {
          "name": "stdout",
          "output_type": "stream",
          "text": [
            "0.20071981457687782\n"
          ]
        }
      ],
      "source": [
        "#Generate Random Float\n",
        "#The random module's rand() method returns a random float between 0 and 1.\n",
        "from numpy import random\n",
        "data = random.rand()\n",
        "print(data)"
      ]
    },
    {
      "cell_type": "code",
      "execution_count": 1455,
      "metadata": {
        "colab": {
          "base_uri": "https://localhost:8080/"
        },
        "id": "9vb5xfeOuPaA",
        "outputId": "f70841ab-aa1d-44f7-c880-81bcc7bbc467"
      },
      "outputs": [
        {
          "name": "stdout",
          "output_type": "stream",
          "text": [
            "[23 96 12 52 30]\n"
          ]
        }
      ],
      "source": [
        "#Generate Random Array\n",
        "#the randint() method takes a size parameter where you can specify the shape of an array.\n",
        "from numpy import random\n",
        "data=random.randint(100, size=(5))\n",
        "print(data)"
      ]
    },
    {
      "cell_type": "code",
      "execution_count": 1456,
      "metadata": {
        "colab": {
          "base_uri": "https://localhost:8080/"
        },
        "id": "794DI6sauPXu",
        "outputId": "f56738b3-0618-49ae-ee2b-519cd8c6272b"
      },
      "outputs": [
        {
          "name": "stdout",
          "output_type": "stream",
          "text": [
            "[0.57223151 0.91441121 0.64117903 0.02706514 0.3080482 ]\n"
          ]
        }
      ],
      "source": [
        "from numpy import random\n",
        "data = random.rand(5)\n",
        "print(data)"
      ]
    },
    {
      "cell_type": "code",
      "execution_count": 1457,
      "metadata": {
        "colab": {
          "base_uri": "https://localhost:8080/"
        },
        "id": "oelSpJgcuPVv",
        "outputId": "723234e4-c6c1-4e81-fa17-c618a465ea7e"
      },
      "outputs": [
        {
          "name": "stdout",
          "output_type": "stream",
          "text": [
            "1\n",
            "3\n",
            "6\n"
          ]
        }
      ],
      "source": [
        "import numpy as np\n",
        "data= np.array([1,2,3])\n",
        "print(data.min())\n",
        "print(data.max())\n",
        "print(data.sum())"
      ]
    },
    {
      "cell_type": "code",
      "execution_count": 1458,
      "metadata": {
        "colab": {
          "base_uri": "https://localhost:8080/"
        },
        "id": "sZgbP9sIuPO3",
        "outputId": "e4d2f177-70e9-47a4-9756-6f9f035e5b94"
      },
      "outputs": [
        {
          "name": "stdout",
          "output_type": "stream",
          "text": [
            "[[1.         1.41421356 1.73205081]\n",
            " [1.73205081 2.         2.23606798]]\n",
            "1.2909944487358056\n"
          ]
        }
      ],
      "source": [
        "#Standard Deviation\n",
        "#It is a number used to tell how measurements for a group are spread out from the average (mean), or expected value\n",
        "import numpy as np\n",
        "data=np.array([(1,2,3),(3,4,5)])\n",
        "print(np.sqrt(data))\n",
        "print(np.std(data))"
      ]
    },
    {
      "cell_type": "code",
      "execution_count": 1459,
      "metadata": {
        "colab": {
          "base_uri": "https://localhost:8080/"
        },
        "id": "inK0NKpC1xE3",
        "outputId": "29c68001-08ff-4dd9-a69b-d7b6da01bfe0"
      },
      "outputs": [
        {
          "name": "stdout",
          "output_type": "stream",
          "text": [
            "[[ 2  4  6]\n",
            " [ 6  8 10]]\n"
          ]
        }
      ],
      "source": [
        "#Addition Operation\n",
        "#You can perform more operations on numpy array i.e addition, subtraction,multiplication and division of the two matrices.\n",
        "import numpy as np\n",
        "pdata= np.array([(1,2,3),(3,4,5)])\n",
        "qdata= np.array([(1,2,3),(3,4,5)])\n",
        "print(pdata+qdata)"
      ]
    },
    {
      "cell_type": "code",
      "execution_count": 1460,
      "metadata": {
        "colab": {
          "base_uri": "https://localhost:8080/"
        },
        "id": "sR_CQh3X2D7k",
        "outputId": "7d3a9648-2594-485e-954b-fdc87ddc8f2f"
      },
      "outputs": [
        {
          "name": "stdout",
          "output_type": "stream",
          "text": [
            "[[0 0 0]\n",
            " [0 0 0]]\n",
            "[[ 1  4  9]\n",
            " [ 9 16 25]]\n",
            "[[1. 1. 1.]\n",
            " [1. 1. 1.]]\n"
          ]
        }
      ],
      "source": [
        "import numpy as np\n",
        "pdata= np.array([(1,2,3),(3,4,5)])\n",
        "qdata= np.array([(1,2,3),(3,4,5)])\n",
        "print(pdata-qdata)\n",
        "print(pdata*qdata)\n",
        "print(pdata/qdata)"
      ]
    },
    {
      "cell_type": "markdown",
      "metadata": {
        "id": "St8Bf72k2uLJ"
      },
      "source": [
        "### **ravel**\n",
        "It is used to change a 2-dimensional array or a multi-dimensional array into a contiguous flattened array.\n"
      ]
    },
    {
      "cell_type": "code",
      "execution_count": 1461,
      "metadata": {
        "colab": {
          "base_uri": "https://localhost:8080/"
        },
        "id": "6UfWzy4v2tjH",
        "outputId": "f9aefb0b-ca7a-4ce9-ba29-7f6dfb83684a"
      },
      "outputs": [
        {
          "name": "stdout",
          "output_type": "stream",
          "text": [
            "[1 2 3 3 4 5]\n"
          ]
        }
      ],
      "source": [
        "import numpy as np\n",
        "pdata= np.array([(1,2,3),(3,4,5)])\n",
        "print(pdata.ravel())"
      ]
    },
    {
      "cell_type": "code",
      "execution_count": 1462,
      "metadata": {
        "colab": {
          "base_uri": "https://localhost:8080/"
        },
        "id": "gBLTTmk42_dw",
        "outputId": "fed1d12e-b11b-41ee-cedc-d3cd1399e8fd"
      },
      "outputs": [
        {
          "name": "stdout",
          "output_type": "stream",
          "text": [
            "[[ 1  3  5]\n",
            " [11 35 56]]\n",
            "[ 1 11  3 35  5 56]\n",
            "[ 1  3  5 11 35 56]\n"
          ]
        }
      ],
      "source": [
        "import numpy as np\n",
        "PyArr= np.array([[1, 3, 5], [11, 35, 56]])\n",
        "print(PyArr)\n",
        "RaFOrd = np.ravel(PyArr, order='F')\n",
        "print(RaFOrd)\n",
        "RaCOrd = np.ravel(PyArr, order='C')\n",
        "print(RaCOrd)"
      ]
    },
    {
      "cell_type": "markdown",
      "metadata": {
        "id": "s-gzICX93Rkr"
      },
      "source": [
        "**NumPy ceil() function**  \n",
        "\n",
        "It  is used to return the ceil of the elements of an array\n",
        "\n",
        "\n",
        "\n"
      ]
    },
    {
      "cell_type": "code",
      "execution_count": 1463,
      "metadata": {
        "colab": {
          "base_uri": "https://localhost:8080/"
        },
        "id": "1afjtq-C3RLn",
        "outputId": "4bbc6d16-b289-44cd-a961-1cde63e40d71"
      },
      "outputs": [
        {
          "name": "stdout",
          "output_type": "stream",
          "text": [
            "[2. 3. 1.]\n"
          ]
        }
      ],
      "source": [
        "import numpy as np\n",
        "PyArr1 = [1.90,2.3,0.6788]\n",
        "PyArr2=np.ceil(PyArr1)\n",
        "print(PyArr2)\n"
      ]
    },
    {
      "cell_type": "code",
      "execution_count": 1464,
      "metadata": {
        "colab": {
          "base_uri": "https://localhost:8080/"
        },
        "id": "r7bUkMJP44vX",
        "outputId": "d32cb0ca-1f36-4b9f-cf3e-6629a3f90dc6"
      },
      "outputs": [
        {
          "name": "stdout",
          "output_type": "stream",
          "text": [
            "[-1. -2. -0. 13.]\n"
          ]
        }
      ],
      "source": [
        "import numpy as np\n",
        "PyArr1 = [-1.90,-2.3,-0.6788,12.34]\n",
        "PyArr2 = np.ceil(PyArr1)\n",
        "print(PyArr2)\n",
        "\n"
      ]
    },
    {
      "cell_type": "code",
      "execution_count": 1465,
      "metadata": {
        "colab": {
          "base_uri": "https://localhost:8080/"
        },
        "id": "JgPEYnUI5CHV",
        "outputId": "60a3ed98-dc51-4810-b5db-798968cc3304"
      },
      "outputs": [
        {
          "name": "stdout",
          "output_type": "stream",
          "text": [
            "[0.23, -1.7, 1.34, -2.334]\n",
            "[ 0. -2.  1. -3.]\n"
          ]
        }
      ],
      "source": [
        "#NumPy floor() function\n",
        "#It is used to return the floor value of the elements of an array.\n",
        "import numpy as np\n",
        "PyArr1 = [0.23,-1.7,1.34,-2.334]\n",
        "print(PyArr1)\n",
        "PyArr2 = np.floor(PyArr1)\n",
        "print(PyArr2)"
      ]
    },
    {
      "cell_type": "code",
      "execution_count": 1466,
      "metadata": {
        "colab": {
          "base_uri": "https://localhost:8080/"
        },
        "id": "DkBmZeih52jA",
        "outputId": "989ec525-1589-48b1-e20f-a088163da458"
      },
      "outputs": [
        {
          "name": "stdout",
          "output_type": "stream",
          "text": [
            "[1.23, 0.22, -0.111, -2.555, -3.86, 5.0, 6.9]\n",
            "[ 1.  0. -1. -3. -4.  5.  6.]\n"
          ]
        }
      ],
      "source": [
        "import numpy as np\n",
        "PyArr1 = [1.23,0.22,-0.111,-2.555,-3.86,5.0,6.9]\n",
        "print(PyArr1)\n",
        "PyArr2 = np.floor(PyArr1)\n",
        "print(PyArr2)\n"
      ]
    },
    {
      "cell_type": "code",
      "execution_count": 1467,
      "metadata": {
        "colab": {
          "base_uri": "https://localhost:8080/"
        },
        "id": "Xma33s795_4E",
        "outputId": "d3a009c7-3643-4b48-d199-f8dbef8bbd1a"
      },
      "outputs": [
        {
          "name": "stdout",
          "output_type": "stream",
          "text": [
            "[ 1. -0.  5.]\n"
          ]
        }
      ],
      "source": [
        "#NumPy trunc() function\n",
        "#It is used to return the truncated value of the input array elements\n",
        "import numpy as np\n",
        "PyArr1 = [1.2,-0.344,5.89]\n",
        "PyArr2 = np.trunc(PyArr1)\n",
        "print(PyArr2)"
      ]
    },
    {
      "cell_type": "code",
      "execution_count": 1468,
      "metadata": {
        "colab": {
          "base_uri": "https://localhost:8080/"
        },
        "id": "QoK-kbTBX86k",
        "outputId": "10609df1-07ac-4e5a-ef29-03adb58c58f0"
      },
      "outputs": [
        {
          "name": "stdout",
          "output_type": "stream",
          "text": [
            "[123.22, 23.4, 0.89]\n",
            "[123.  23.   0.]\n"
          ]
        }
      ],
      "source": [
        "import numpy as np\n",
        "PyArr1 = [123.22,23.4,0.89]\n",
        "print(PyArr1)\n",
        "PyArr2= np.trunc(PyArr1)\n",
        "print(PyArr2)\n"
      ]
    },
    {
      "cell_type": "code",
      "execution_count": 1469,
      "metadata": {
        "colab": {
          "base_uri": "https://localhost:8080/"
        },
        "id": "SVVWYjNhY4q1",
        "outputId": "6e5084a1-fcb5-4e90-9e2a-2d787886afdd"
      },
      "outputs": [
        {
          "name": "stdout",
          "output_type": "stream",
          "text": [
            "[0.289, 0.089, 1.2, 1.566, 9.909]\n",
            "[0. 0. 1. 1. 9.]\n"
          ]
        }
      ],
      "source": [
        "#numpy.fix() always rounds towards zero\n",
        "import numpy as np\n",
        "PyArr1 = [0.289, 0.089, 1.2, 1.566, 9.909]\n",
        "print(PyArr1)\n",
        "PyArr2 = np.fix(PyArr1)\n",
        "print(PyArr2)\n"
      ]
    },
    {
      "cell_type": "markdown",
      "metadata": {
        "id": "2BXzUK7OZrSe"
      },
      "source": [
        "### **It works similarly to numpy.trunc(), but fix() explicitly emphasizes the direction of rounding.**"
      ]
    },
    {
      "cell_type": "markdown",
      "metadata": {
        "id": "OdUlRxPRaDKI"
      },
      "source": [
        "### Numpy String Functions\n",
        "**NumPy islower() function**\n",
        "\n",
        "It returns true for each element if all cased characters in the input string are in lowercase and there is at least one upper cased character, this function will return false.\n",
        "\n"
      ]
    },
    {
      "cell_type": "code",
      "execution_count": 1470,
      "metadata": {
        "colab": {
          "base_uri": "https://localhost:8080/"
        },
        "id": "vO-FXzGcadmi",
        "outputId": "dc1b3b8a-db60-4f43-b87b-a3077f777877"
      },
      "outputs": [
        {
          "name": "stdout",
          "output_type": "stream",
          "text": [
            "True\n",
            "False\n"
          ]
        }
      ],
      "source": [
        "import numpy as np\n",
        "PyStr=\"full stack data science program\"\n",
        "PyData=np.char.islower(PyStr)\n",
        "print(PyData)\n",
        "PyStr=\"Full Stack Data Science Program\"\n",
        "PyData=np.char.islower(PyStr)\n",
        "print(PyData)\n",
        "\n"
      ]
    },
    {
      "cell_type": "code",
      "execution_count": 1471,
      "metadata": {
        "colab": {
          "base_uri": "https://localhost:8080/"
        },
        "id": "dj_lQKOQa6wg",
        "outputId": "43a35e09-e5fa-472d-8e16-4787ef32bd22"
      },
      "outputs": [
        {
          "name": "stdout",
          "output_type": "stream",
          "text": [
            "[ True  True  True  True  True]\n",
            "[ True False False  True  True]\n"
          ]
        }
      ],
      "source": [
        "import numpy as np\n",
        "PyStr=np.array([\"full\", \"stack\", \"data\", \"science\", \"program\"])\n",
        "PyData=np.char.islower(PyStr)\n",
        "print(PyData)\n",
        "PyStr=np.array([\"full\", \"Stack\", \"Data\", \"science\", \"program\"])\n",
        "PyData=np.char.islower(PyStr)\n",
        "print(PyData)\n",
        "\n"
      ]
    },
    {
      "cell_type": "code",
      "execution_count": 1472,
      "metadata": {
        "colab": {
          "base_uri": "https://localhost:8080/"
        },
        "id": "d0oD9D8PcclT",
        "outputId": "4ad6e2ae-1665-4235-d829-a412c6a5116c"
      },
      "outputs": [
        {
          "name": "stdout",
          "output_type": "stream",
          "text": [
            "['BigData', 'DataScience', 'TeraData', 'MetaData']\n",
            "[3 0 4 4]\n",
            "[ 3 -1  4  4]\n",
            "[ 3 -1  4  4]\n"
          ]
        }
      ],
      "source": [
        "#numpy find function\n",
        "import numpy as np\n",
        "PyArr = ['BigData','DataScience','TeraData', 'MetaData']\n",
        "print (PyArr)\n",
        "print (np.char.find(PyArr, 'D'))\n",
        "print (np.char.find(PyArr, 'Data', start = 3))\n",
        "print (np.char.find(PyArr, 'Data', start = 3,end=10))"
      ]
    },
    {
      "cell_type": "code",
      "execution_count": 1473,
      "metadata": {
        "colab": {
          "base_uri": "https://localhost:8080/"
        },
        "id": "Vv1GPpTTTblv",
        "outputId": "d431f555-a663-44fa-c468-d6ba0c5693df"
      },
      "outputs": [
        {
          "name": "stdout",
          "output_type": "stream",
          "text": [
            "['BigData', 'DataScience', 'TeraData', 'MetaData']\n",
            "[3 0 4 4]\n",
            "[ 3 -1  4  4]\n",
            "[3 0 4 4]\n"
          ]
        }
      ],
      "source": [
        "import numpy as np\n",
        "PyArr = ['BigData','DataScience','TeraData', 'MetaData']\n",
        "print (PyArr)\n",
        "print (np.char.find(PyArr, 'D'))\n",
        "print (np.char.find(PyArr, 'Data', start = 3))\n",
        "print (np.char.find(PyArr, 'Data', start = 0,end=8))"
      ]
    },
    {
      "cell_type": "code",
      "execution_count": 1474,
      "metadata": {
        "colab": {
          "base_uri": "https://localhost:8080/"
        },
        "id": "f_MKpT_qSU6-",
        "outputId": "292b6e69-2a68-49b8-8eca-0956c17c1ccb"
      },
      "outputs": [
        {
          "name": "stdout",
          "output_type": "stream",
          "text": [
            "['abbbbbxcccccyyysss', 'aattttdsxxxxxxxcccc', 'aaxxxxcccutt', 'aaxxccxcxdscz']\n",
            "[ 6 14  5  3]\n",
            "[ 6 14  5  3]\n",
            "[ 6 14  5  6]\n",
            "[ 6 -1  5  6]\n"
          ]
        }
      ],
      "source": [
        "import numpy as np\n",
        "PyArr = ['abbbbbxcccccyyysss','aattttdsxxxxxxxcccc','aaxxxxcccutt', 'aaxxccxcxdscz']\n",
        "print (PyArr)\n",
        "print (np.char.find(PyArr, 'xc'))\n",
        "print (np.char.find(PyArr, 'xc', start = 2))\n",
        "print (np.char.find(PyArr, 'xc', start = 5))\n",
        "print (np.char.find(PyArr, 'xc', start = 5,end=15))"
      ]
    },
    {
      "cell_type": "code",
      "execution_count": 1475,
      "metadata": {
        "colab": {
          "base_uri": "https://localhost:8080/"
        },
        "id": "jimH19REWnFk",
        "outputId": "693d7c8d-7927-4822-ded1-ca4a9d914330"
      },
      "outputs": [
        {
          "name": "stdout",
          "output_type": "stream",
          "text": [
            "['DataScience' 'BigData' 'Python']\n",
            "[2 2 0]\n",
            "[1 1 0]\n",
            "[0 0 1]\n"
          ]
        }
      ],
      "source": [
        "#count() function\n",
        "import numpy as np\n",
        "PyStr = np.array(['DataScience','BigData','Python'])\n",
        "print(PyStr)\n",
        "ACount = np.char.count(PyStr,'a')\n",
        "print(ACount)\n",
        "DCount = np.char.count(PyStr,'D')\n",
        "print(DCount)\n",
        "OCount = np.char.count(PyStr,'o')\n",
        "print(OCount)"
      ]
    },
    {
      "cell_type": "code",
      "execution_count": 1476,
      "metadata": {
        "colab": {
          "base_uri": "https://localhost:8080/"
        },
        "id": "cVrVT3e7XPUx",
        "outputId": "fc70976d-1c30-476e-aec6-05f9aebc00f0"
      },
      "outputs": [
        {
          "name": "stdout",
          "output_type": "stream",
          "text": [
            "['ooooaaaaqqqk' 'ccccvvvvvaaaao' 'ggghhhjjjsskkka']\n",
            "[3 1 0]\n",
            "[4 1 0]\n"
          ]
        }
      ],
      "source": [
        "import numpy as np\n",
        "PyStr = np.array(['ooooaaaaqqqk','ccccvvvvvaaaao','ggghhhjjjsskkka'])\n",
        "print(PyStr)\n",
        "OCount = np.char.count(PyStr,'o',start=1)\n",
        "print(OCount)\n",
        "OCount = np.char.count(PyStr,'a',start=4,end=10)\n",
        "print(OCount)\n"
      ]
    },
    {
      "cell_type": "code",
      "execution_count": 1477,
      "metadata": {
        "colab": {
          "base_uri": "https://localhost:8080/"
        },
        "id": "zBDrWo6oXzrC",
        "outputId": "a5fa6b5e-2b3d-4e12-a4c2-99ca87bbf76c"
      },
      "outputs": [
        {
          "name": "stdout",
          "output_type": "stream",
          "text": [
            "[False  True False False]\n"
          ]
        }
      ],
      "source": [
        "import numpy as np\n",
        "pydata=np.array(['DATA','Science','nasscom','akhiLa'])\n",
        "pyis=np.char.istitle(pydata)\n",
        "print(pyis)"
      ]
    },
    {
      "cell_type": "code",
      "execution_count": 1478,
      "metadata": {
        "colab": {
          "base_uri": "https://localhost:8080/"
        },
        "id": "eCJ7mdtjYhOO",
        "outputId": "36bcf69e-5ae4-420a-eb13-6380d5ba7185"
      },
      "outputs": [
        {
          "name": "stdout",
          "output_type": "stream",
          "text": [
            "True\n"
          ]
        }
      ],
      "source": [
        "import numpy as np\n",
        "PyData = \"Full Stack Data Science Program Nasscom\"\n",
        "PyDout = np.char.istitle(PyData)\n",
        "print (PyDout)\n"
      ]
    },
    {
      "cell_type": "code",
      "execution_count": 1479,
      "metadata": {
        "colab": {
          "base_uri": "https://localhost:8080/"
        },
        "id": "Tx-HEZJaY5qZ",
        "outputId": "53407357-6282-413c-c0ea-cce6f022cf65"
      },
      "outputs": [
        {
          "name": "stdout",
          "output_type": "stream",
          "text": [
            "Full Stack DATA Science\n"
          ]
        }
      ],
      "source": [
        "#replace() is used to replace the old substring with new string value.\n",
        "import numpy as np\n",
        "PyStr=\"Full Stack Data Science\"\n",
        "PyData = np.char.replace(PyStr, 'Data', 'DATA')\n",
        "print(PyData)\n"
      ]
    },
    {
      "cell_type": "code",
      "execution_count": 1480,
      "metadata": {
        "colab": {
          "base_uri": "https://localhost:8080/"
        },
        "id": "_IrMtVFNZRwe",
        "outputId": "cbfbd629-fb64-4ebf-c1b7-a44375dec124"
      },
      "outputs": [
        {
          "name": "stdout",
          "output_type": "stream",
          "text": [
            "This is a course.This course is Full Stack\n"
          ]
        }
      ],
      "source": [
        "import numpy as np\n",
        "PyStr=\"This is a Course.This Course is Full Stack\"\n",
        "PyData = np.char.replace(PyStr, 'Course', 'course', count=2)\n",
        "print(PyData)"
      ]
    },
    {
      "cell_type": "code",
      "execution_count": 1481,
      "metadata": {
        "colab": {
          "base_uri": "https://localhost:8080/"
        },
        "id": "ozK4Gu5IaShQ",
        "outputId": "65fdd88d-3506-4fa9-91e2-57d3859e30df"
      },
      "outputs": [
        {
          "name": "stdout",
          "output_type": "stream",
          "text": [
            "['Full StackData Science!']\n"
          ]
        }
      ],
      "source": [
        "#add()\n",
        "import numpy as np\n",
        "PyList1 = ['Full Stack']\n",
        "PyList2 = ['Data Science!']\n",
        "PyResult = np.char.add(PyList1, PyList2)\n",
        "print(PyResult)"
      ]
    },
    {
      "cell_type": "code",
      "execution_count": 1482,
      "metadata": {
        "colab": {
          "base_uri": "https://localhost:8080/"
        },
        "id": "eu__Ovq2ahUZ",
        "outputId": "5ba59d78-70ee-439e-e6f2-aca3606499c7"
      },
      "outputs": [
        {
          "name": "stdout",
          "output_type": "stream",
          "text": [
            "['codingmasters Full Stack' 'i Data Science' 'Technologies Program']\n"
          ]
        }
      ],
      "source": [
        "import numpy as np\n",
        "PyList1 = ['codingmasters ','i ','Technologies ']\n",
        "PyList2 = ['Full Stack', 'Data Science','Program']\n",
        "PyResult = np.char.add(PyList1, PyList2)\n",
        "print(PyResult)\n"
      ]
    },
    {
      "cell_type": "code",
      "execution_count": 1483,
      "metadata": {
        "colab": {
          "base_uri": "https://localhost:8080/"
        },
        "id": "etZ6b1HGbA3k",
        "outputId": "44c79705-182b-4299-f317-e6e97e7bb8d4"
      },
      "outputs": [
        {
          "name": "stdout",
          "output_type": "stream",
          "text": [
            "['Data Science! Full Stack' 'technologiesameerpet']\n"
          ]
        }
      ],
      "source": [
        "import numpy as np\n",
        "PyList1 = ['Data Science!', 'technologies']\n",
        "PyList2 = [' Full Stack', 'ameerpet']\n",
        "PyResult = np.char.add(PyList1, PyList2)\n",
        "print(PyResult)"
      ]
    },
    {
      "cell_type": "code",
      "execution_count": 1484,
      "metadata": {
        "colab": {
          "base_uri": "https://localhost:8080/"
        },
        "id": "VribRNuJc0U-",
        "outputId": "927975f3-f424-42b6-b301-3299cb0e61c3"
      },
      "outputs": [
        {
          "name": "stdout",
          "output_type": "stream",
          "text": [
            "['Full Stack Data Science Program with AI']\n",
            "['Full ', 'Stack ', 'Data ', 'Science ', 'Program with AI']\n"
          ]
        }
      ],
      "source": [
        "import numpy as np\n",
        "PyStr=\"Full Stack Data Science Program with AI\"\n",
        "PyOut = np.char.splitlines(PyStr)\n",
        "print(PyOut)\n",
        "PyStr=\"Full \\nStack \\nData \\nScience \\nProgram with AI\"\n",
        "PyOut = np.char.splitlines(PyStr)\n",
        "print(PyOut)\n"
      ]
    },
    {
      "cell_type": "code",
      "execution_count": 1485,
      "metadata": {
        "colab": {
          "base_uri": "https://localhost:8080/"
        },
        "id": "dyZQQ-cpdW0G",
        "outputId": "9d877483-3c0e-4739-e1a3-f2de8d92b00e"
      },
      "outputs": [
        {
          "name": "stdout",
          "output_type": "stream",
          "text": [
            "['Fill Stack ', 'Data Science ', 'Program with AI.']\n",
            "['Fill Stack \\r', 'Data Science \\r', 'Program with AI.']\n"
          ]
        }
      ],
      "source": [
        "import numpy as np\n",
        "PyData = np.char.splitlines('Fill Stack \\rData Science \\rProgram with AI.', keepends=False)\n",
        "print(PyData)\n",
        "PyData = np.char.splitlines('Fill Stack \\rData Science \\rProgram with AI.', keepends=True)\n",
        "print(PyData)"
      ]
    },
    {
      "cell_type": "code",
      "execution_count": 1486,
      "metadata": {
        "colab": {
          "base_uri": "https://localhost:8080/"
        },
        "id": "GSlYPEV9hXJE",
        "outputId": "2c4b5c5a-0b5b-4107-cdb4-8b59e32aaf63"
      },
      "outputs": [
        {
          "name": "stdout",
          "output_type": "stream",
          "text": [
            "['FSDSP FSDSP FSDSP FSDSP FSDSP ']\n",
            "['FSDSP FSDSP FSDSP ']\n"
          ]
        }
      ],
      "source": [
        "# multiply() function is used to repeating string elemnts in an array.\n",
        "import numpy as np\n",
        "PyArr = np.array(['FSDSP '])\n",
        "print(np.char.multiply(PyArr, 5) )\n",
        "print(np.char.multiply(PyArr, 3) )\n",
        "\n"
      ]
    },
    {
      "cell_type": "code",
      "execution_count": 1487,
      "metadata": {
        "colab": {
          "base_uri": "https://localhost:8080/"
        },
        "id": "bPplsx9khm-q",
        "outputId": "10ea242d-6f2f-4d84-caac-b38874f8fe8f"
      },
      "outputs": [
        {
          "name": "stdout",
          "output_type": "stream",
          "text": [
            "['Full-StackFull-StackFull-Stack' 'DataDataData' 'ScienceScienceScience']\n"
          ]
        }
      ],
      "source": [
        "import numpy as np\n",
        "PyArr= np.array(['Full-Stack', 'Data', 'Science'])\n",
        "Nums = 3\n",
        "PyOut = np.char.multiply(PyArr,Nums)\n",
        "print(PyOut)\n"
      ]
    },
    {
      "cell_type": "code",
      "execution_count": 1488,
      "metadata": {
        "colab": {
          "base_uri": "https://localhost:8080/"
        },
        "id": "tODarwKRh0_q",
        "outputId": "c43b2ff8-6014-47a6-a7c2-917e0faa18d6"
      },
      "outputs": [
        {
          "name": "stdout",
          "output_type": "stream",
          "text": [
            "**********FullStack***********\n"
          ]
        }
      ],
      "source": [
        "#center()\n",
        "import numpy as np\n",
        "PyStr1 = \"FullStack\"\n",
        "PyStr2 = np.char.center(PyStr1, 30, '*')\n",
        "print(PyStr2)\n"
      ]
    },
    {
      "cell_type": "code",
      "execution_count": 1489,
      "metadata": {
        "colab": {
          "base_uri": "https://localhost:8080/"
        },
        "id": "GBLbDQBdi-sn",
        "outputId": "1f77e04e-a891-421f-a48f-3c275ce9fa50"
      },
      "outputs": [
        {
          "name": "stdout",
          "output_type": "stream",
          "text": [
            "['**********FullStack***********' '*************DATA*************'\n",
            " '***********Science************']\n"
          ]
        }
      ],
      "source": [
        "import numpy as np\n",
        "PyArr= np.array(['FullStack', 'DATA', 'Science'])\n",
        "PyOut = np.char.center(PyArr, 30, '*')\n",
        "print(PyOut)\n"
      ]
    },
    {
      "cell_type": "code",
      "execution_count": 1490,
      "metadata": {
        "colab": {
          "base_uri": "https://localhost:8080/"
        },
        "id": "lW5s6or5jLIo",
        "outputId": "5eee2c55-fd55-483f-d0e3-a3d5d9282da8"
      },
      "outputs": [
        {
          "name": "stdout",
          "output_type": "stream",
          "text": [
            "D:a:t:a\n"
          ]
        }
      ],
      "source": [
        "#join() to add aseperator char to all ele of given array of string.\n",
        "import numpy as np\n",
        "PyStr = np.char.join(':','Data')\n",
        "print(PyStr)"
      ]
    },
    {
      "cell_type": "code",
      "execution_count": 1491,
      "metadata": {
        "colab": {
          "base_uri": "https://localhost:8080/"
        },
        "id": "p66O5QadjgPF",
        "outputId": "a3e8c3fa-3267-45a1-8e27-411e84142350"
      },
      "outputs": [
        {
          "name": "stdout",
          "output_type": "stream",
          "text": [
            "['F=u=l=l' 'S|t|a|c|k' 'D@a@t@a' 'S!c!i!e!n!c!e']\n"
          ]
        }
      ],
      "source": [
        "import numpy as np\n",
        "PyStr = np.array(['Full', 'Stack', 'Data','Science'])\n",
        "sep = np.array(['=', '|', '@','!'])\n",
        "PyOut= np.char.join(sep, PyStr)\n",
        "print (PyOut)"
      ]
    },
    {
      "cell_type": "code",
      "execution_count": 1492,
      "metadata": {
        "colab": {
          "base_uri": "https://localhost:8080/"
        },
        "id": "gO1u4s0xjtXT",
        "outputId": "44d1d097-037f-4036-a715-0bd3e827e628"
      },
      "outputs": [
        {
          "name": "stdout",
          "output_type": "stream",
          "text": [
            "['F+u+l+l' 'S-t-a-c-k' 'D*a*t*a' 'S/c/i/e/n/c/e']\n"
          ]
        }
      ],
      "source": [
        "import numpy as np\n",
        "PyStr = np.array(['Full', 'Stack', 'Data','Science'])\n",
        "sep = np.array(['+', '-', '*','/'])\n",
        "PyOut= np.char.join(sep, PyStr)\n",
        "print (PyOut)"
      ]
    },
    {
      "cell_type": "code",
      "execution_count": 1493,
      "metadata": {
        "colab": {
          "base_uri": "https://localhost:8080/"
        },
        "id": "hYLQ8ddNjxHE",
        "outputId": "d0ae4c63-b265-4194-b393-51ce13f48dfe"
      },
      "outputs": [
        {
          "name": "stdout",
          "output_type": "stream",
          "text": [
            "['F^^u^^l^^l' 'S^^t^^a^^c^^k' 'D^^S' 'P^^r^^o^^g^^r^^a^^m']\n"
          ]
        }
      ],
      "source": [
        "import numpy as np\n",
        "PyStr = np.array(['Full', 'Stack', 'DS','Program'])\n",
        "sep = np.array(['^^'])\n",
        "PyOut= np.char.join(sep, PyStr)\n",
        "print (PyOut)"
      ]
    },
    {
      "cell_type": "code",
      "execution_count": 1494,
      "metadata": {
        "colab": {
          "base_uri": "https://localhost:8080/"
        },
        "id": "b41CNmcqj4Ga",
        "outputId": "c51c64d3-bf67-4891-9ffc-2052e203bfe4"
      },
      "outputs": [
        {
          "name": "stdout",
          "output_type": "stream",
          "text": [
            "full stack data science program\n",
            "Full Stack Data Science Program\n"
          ]
        }
      ],
      "source": [
        "# NumPy title() function\n",
        "# It is used to convert an input string into a title cased version.\n",
        "import numpy as np\n",
        "PyStr = \"full stack data science program\"\n",
        "print(PyStr)\n",
        "PyNewStr = np.char.title(PyStr)\n",
        "print(PyNewStr)"
      ]
    },
    {
      "cell_type": "code",
      "execution_count": 1495,
      "metadata": {
        "colab": {
          "base_uri": "https://localhost:8080/"
        },
        "id": "j_lyH0rmkABo",
        "outputId": "e4547c12-a56d-4324-8761-784d0f39f070"
      },
      "outputs": [
        {
          "name": "stdout",
          "output_type": "stream",
          "text": [
            "FULL STACK DATA SCIENCE PROGRAM\n",
            "Full Stack Data Science Program\n"
          ]
        }
      ],
      "source": [
        "import numpy as np\n",
        "PyStr=\"FULL STACK DATA SCIENCE PROGRAM\"\n",
        "print(PyStr)\n",
        "PyNewStr = np.char.title(PyStr)\n",
        "print(PyNewStr)\n"
      ]
    },
    {
      "cell_type": "code",
      "execution_count": 1496,
      "metadata": {
        "colab": {
          "base_uri": "https://localhost:8080/"
        },
        "id": "SOlNKU85kGRn",
        "outputId": "354a8033-8ee4-4353-f0de-6e35a4ffe265"
      },
      "outputs": [
        {
          "name": "stdout",
          "output_type": "stream",
          "text": [
            "['Full' 'STACK' 'Data' 'science']\n",
            "['Full' 'Stack' 'Data' 'Science']\n"
          ]
        }
      ],
      "source": [
        "import numpy as np\n",
        "PyArr = np.array(['Full', 'STACK', 'Data','science'])\n",
        "print (PyArr)\n",
        "PyOut=np.char.title(PyArr)\n",
        "print(PyOut)"
      ]
    },
    {
      "cell_type": "code",
      "execution_count": 1497,
      "metadata": {
        "colab": {
          "base_uri": "https://localhost:8080/"
        },
        "id": "HplsgorXmYd2",
        "outputId": "b6efec19-c921-4e62-baee-570aa775e181"
      },
      "outputs": [
        {
          "name": "stdout",
          "output_type": "stream",
          "text": [
            "FULL STACK DATA Science\n",
            "full stack data science\n"
          ]
        }
      ],
      "source": [
        "import numpy as np\n",
        "PyStr = \"FULL STACK DATA Science\"\n",
        "print(PyStr)\n",
        "PyNewStr = np.char.lower(PyStr)\n",
        "print(PyNewStr)"
      ]
    },
    {
      "cell_type": "code",
      "execution_count": 1498,
      "metadata": {
        "colab": {
          "base_uri": "https://localhost:8080/"
        },
        "id": "rve_d4FymglF",
        "outputId": "2deaff5b-8cc2-4582-90b5-b6c6d011ce76"
      },
      "outputs": [
        {
          "name": "stdout",
          "output_type": "stream",
          "text": [
            "datascience\n",
            "datascience\n"
          ]
        }
      ],
      "source": [
        "import numpy as np\n",
        "PyStr = \"datascience\"\n",
        "print(PyStr)\n",
        "PyNStr = np.char.lower(PyStr)\n",
        "print(PyNStr)"
      ]
    },
    {
      "cell_type": "code",
      "execution_count": 1499,
      "metadata": {
        "colab": {
          "base_uri": "https://localhost:8080/"
        },
        "id": "J_rtWy1ymmT3",
        "outputId": "9de45a30-3bc0-4563-9320-f340cdc76cc5"
      },
      "outputs": [
        {
          "name": "stdout",
          "output_type": "stream",
          "text": [
            "['FULL-STACK' 'DATA Science' 'Program' 'Artificial Intelligence']\n",
            "['full-stack' 'data science' 'program' 'artificial intelligence']\n"
          ]
        }
      ],
      "source": [
        "import numpy as np\n",
        "PyArrStr= np.array(['FULL-STACK', 'DATA Science', 'Program','Artificial Intelligence'])\n",
        "print (PyArrStr)\n",
        "PyOut = np.char.lower(PyArrStr)\n",
        "print (PyOut)"
      ]
    },
    {
      "cell_type": "code",
      "execution_count": 1500,
      "metadata": {
        "colab": {
          "base_uri": "https://localhost:8080/"
        },
        "id": "Gm2BJPt8mxXN",
        "outputId": "1018f138-4cc2-40c6-c6f9-a81bac23ffe6"
      },
      "outputs": [
        {
          "name": "stdout",
          "output_type": "stream",
          "text": [
            "['FULL-STACK' 'DATA Science' 'Program' 'Artificial Intelligence']\n",
            "['FULL-STACK' 'DATA SCIENCE' 'PROGRAM' 'ARTIFICIAL INTELLIGENCE']\n"
          ]
        }
      ],
      "source": [
        "import numpy as np\n",
        "PyArrStr= np.array(['FULL-STACK', 'DATA Science', 'Program','Artificial Intelligence'])\n",
        "print (PyArrStr)\n",
        "PyOut = np.char.upper(PyArrStr)\n",
        "print (PyOut)"
      ]
    },
    {
      "cell_type": "code",
      "execution_count": 1501,
      "metadata": {
        "colab": {
          "base_uri": "https://localhost:8080/"
        },
        "id": "hCJ_FHZ9m0qA",
        "outputId": "f9b8e330-3c7a-4c56-a7eb-4586a1f271ad"
      },
      "outputs": [
        {
          "name": "stdout",
          "output_type": "stream",
          "text": [
            "True\n"
          ]
        }
      ],
      "source": [
        "#isupper()\n",
        "import numpy as np\n",
        "PyStr = \"DATA SCIENCE\"\n",
        "PyNewStr = np.char.isupper(PyStr)\n",
        "print(PyNewStr)\n"
      ]
    },
    {
      "cell_type": "code",
      "execution_count": 1502,
      "metadata": {
        "colab": {
          "base_uri": "https://localhost:8080/"
        },
        "id": "l63Z5eKNm8by",
        "outputId": "24e8aaee-d2c6-4286-a5b8-59e6d8d3aee8"
      },
      "outputs": [
        {
          "name": "stdout",
          "output_type": "stream",
          "text": [
            "['fullStack' 'DATA' 'SCIENCE']\n",
            "[False  True  True]\n"
          ]
        }
      ],
      "source": [
        "import numpy as np\n",
        "PyStr=np.array(['fullStack', 'DATA', 'SCIENCE'])\n",
        "print (PyStr)\n",
        "PyOut=np.char.isupper(PyStr)\n",
        "print (PyOut)"
      ]
    },
    {
      "cell_type": "code",
      "execution_count": 1503,
      "metadata": {
        "colab": {
          "base_uri": "https://localhost:8080/"
        },
        "id": "dg9AV1_VnCLn",
        "outputId": "49f3b9f2-290f-491b-cb70-e2856f873c42"
      },
      "outputs": [
        {
          "name": "stdout",
          "output_type": "stream",
          "text": [
            "1FULLSTACK\n",
            "False\n"
          ]
        }
      ],
      "source": [
        "#isnumeric() function\n",
        "import numpy as np\n",
        "PyStr=\"1FULLSTACK\"\n",
        "print(PyStr)\n",
        "PyNewStr = np.char.isnumeric(PyStr)\n",
        "print(PyNewStr)"
      ]
    },
    {
      "cell_type": "code",
      "execution_count": 1504,
      "metadata": {
        "colab": {
          "base_uri": "https://localhost:8080/"
        },
        "id": "Hu_Y8_GdnMM1",
        "outputId": "6b5926d4-1a2a-48bf-b751-7a260f5378b6"
      },
      "outputs": [
        {
          "name": "stdout",
          "output_type": "stream",
          "text": [
            "1234\n",
            "True\n"
          ]
        }
      ],
      "source": [
        "import numpy as np\n",
        "PyStr=\"1234\"\n",
        "print(PyStr)\n",
        "PyNewStr = np.char.isnumeric(PyStr)\n",
        "print(PyNewStr)\n",
        "\n"
      ]
    },
    {
      "cell_type": "code",
      "execution_count": 1505,
      "metadata": {
        "colab": {
          "base_uri": "https://localhost:8080/"
        },
        "id": "X2nRGWaQnSAr",
        "outputId": "b6116346-2c6d-40be-cb00-e58d6a429f95"
      },
      "outputs": [
        {
          "name": "stdout",
          "output_type": "stream",
          "text": [
            "['1' '2000' '90' '3.5' '0']\n",
            "[ True  True  True False  True]\n"
          ]
        }
      ],
      "source": [
        "import numpy as np\n",
        "PyStr = np.array(['1','2000','90','3.5','0'] )\n",
        "print(PyStr)\n",
        "PyNewStr = np.char.isnumeric(PyStr)\n",
        "print(PyNewStr)"
      ]
    },
    {
      "cell_type": "code",
      "execution_count": 1506,
      "metadata": {
        "colab": {
          "base_uri": "https://localhost:8080/"
        },
        "id": "-hkmnzwznf-h",
        "outputId": "854258c1-95a2-4a7e-c54e-6880ce0a781a"
      },
      "outputs": [
        {
          "name": "stdout",
          "output_type": "stream",
          "text": [
            "['Ram' 'Mohan' 'Apple9' 'Chair s']\n",
            "[ True  True False False]\n"
          ]
        }
      ],
      "source": [
        "#isalpha()\n",
        "import numpy as np\n",
        "PyStr=np.array([ 'Ram', 'Mohan', 'Apple9','Chair s'] )\n",
        "print(PyStr)\n",
        "PyNewStr = np.char.isalpha(PyStr)\n",
        "print(PyNewStr)\n"
      ]
    },
    {
      "cell_type": "code",
      "execution_count": 1507,
      "metadata": {
        "colab": {
          "base_uri": "https://localhost:8080/"
        },
        "id": "byb4JjCAnod0",
        "outputId": "661a8720-2a57-4031-e5f1-5138ed8b793a"
      },
      "outputs": [
        {
          "name": "stdout",
          "output_type": "stream",
          "text": [
            "['FullStack!' 'DataScince!' 'program' 'artificial']\n",
            "[False False  True  True]\n"
          ]
        }
      ],
      "source": [
        "import numpy as np\n",
        "PyStr=np.array([ 'FullStack!', 'DataScince!', 'program','artificial'] )\n",
        "print(PyStr)\n",
        "PyNewStr = np.char.isalpha(PyStr)\n",
        "print(PyNewStr)"
      ]
    },
    {
      "cell_type": "code",
      "execution_count": 1508,
      "metadata": {
        "colab": {
          "base_uri": "https://localhost:8080/"
        },
        "id": "Fjl6MY-gnuff",
        "outputId": "71c7f448-064b-4865-e81e-f4853ed52b2e"
      },
      "outputs": [
        {
          "name": "stdout",
          "output_type": "stream",
          "text": [
            "['full' 'sftack' 'dafta']\n",
            "[0 1 2]\n"
          ]
        }
      ],
      "source": [
        "#index function()It is used to perform string search operation in a given array of strings.\n",
        "import numpy as np\n",
        "PyArr=np.array(['full', 'sftack', 'dafta'])\n",
        "print(PyArr)\n",
        "PyOut=np.char.index(PyArr, sub ='f')\n",
        "print(PyOut)"
      ]
    },
    {
      "cell_type": "code",
      "execution_count": 1509,
      "metadata": {
        "colab": {
          "base_uri": "https://localhost:8080/"
        },
        "id": "YUeTuURqoNIe",
        "outputId": "3d9a5882-576e-440e-f3f0-dd4a9f1be5fa"
      },
      "outputs": [
        {
          "name": "stdout",
          "output_type": "stream",
          "text": [
            "Full Stack Data Science Program\n",
            "True\n",
            "FULL Stack Data Science Program\n",
            "False\n",
            "FULL Stack Data Science Program\n",
            "True\n"
          ]
        }
      ],
      "source": [
        "#startswith()if true when the given prefix is same otherwise false.\n",
        "import numpy as np\n",
        "PyArr=\"Full Stack Data Science Program\"\n",
        "print(PyArr)\n",
        "prefix = 'Fu'\n",
        "PyNewStr = np.char.startswith(PyArr, prefix, start = 0, end = None)\n",
        "print (PyNewStr)\n",
        "PyArr=\"FULL Stack Data Science Program\"\n",
        "print(PyArr)\n",
        "prefix = 'Fu'\n",
        "PyNewStr = np.char.startswith(PyArr, prefix, start = 0, end = None)\n",
        "print (PyNewStr)\n",
        "PyArr=\"FULL Stack Data Science Program\"\n",
        "print(PyArr)\n",
        "prefix = 'FU'\n",
        "PyNewStr = np.char.startswith(PyArr, prefix, start = 0, end = None)\n",
        "print (PyNewStr)"
      ]
    },
    {
      "cell_type": "code",
      "execution_count": 1510,
      "metadata": {
        "colab": {
          "base_uri": "https://localhost:8080/"
        },
        "id": "byBuWnFtplQh",
        "outputId": "2a02ffed-9f19-45fd-be96-8d08b4375ecf"
      },
      "outputs": [
        {
          "name": "stdout",
          "output_type": "stream",
          "text": [
            "Full Stack Data Science Program\n",
            "False\n"
          ]
        }
      ],
      "source": [
        "import numpy as np\n",
        "PyArr=\"Full Stack Data Science Program\"\n",
        "print(PyArr)\n",
        "prefix = 'Pro'\n",
        "PyNewStr = np.char.startswith(PyArr, prefix, start = 0, end = None)\n",
        "print (PyNewStr)"
      ]
    },
    {
      "cell_type": "code",
      "execution_count": 1511,
      "metadata": {
        "colab": {
          "base_uri": "https://localhost:8080/"
        },
        "id": "IL9ibuojpoXs",
        "outputId": "b6a3bbc4-2b0b-42cc-b191-076786565c13"
      },
      "outputs": [
        {
          "name": "stdout",
          "output_type": "stream",
          "text": [
            "['Full!' 'Stack !' ' ']\n",
            "[False False  True]\n"
          ]
        }
      ],
      "source": [
        "#it returns the true when the chars are whitespaces otherwise false.\n",
        "import numpy as np\n",
        "PyStr=np.array([ 'Full!', 'Stack !',' '] )\n",
        "print(PyStr)\n",
        "PyNewStr = np.char.isspace(PyStr)\n",
        "print(PyNewStr)"
      ]
    },
    {
      "cell_type": "code",
      "execution_count": 1512,
      "metadata": {
        "colab": {
          "base_uri": "https://localhost:8080/"
        },
        "id": "qXta-xUUwfkk",
        "outputId": "ce6994f5-f2da-4575-e6d9-59cae799ec7d"
      },
      "outputs": [
        {
          "name": "stdout",
          "output_type": "stream",
          "text": [
            "['\\n' '\\t' ' ' 'full stack']\n",
            "[ True  True  True False]\n"
          ]
        }
      ],
      "source": [
        "import numpy as np\n",
        "PyStr = np.array([ '\\n', '\\t',' ','full stack'] )\n",
        "print(PyStr)\n",
        "PyNewStr = np.char.isspace(PyStr)\n",
        "print(PyNewStr)"
      ]
    },
    {
      "cell_type": "code",
      "execution_count": 1513,
      "metadata": {
        "colab": {
          "base_uri": "https://localhost:8080/"
        },
        "id": "fgxP2sNzwjbK",
        "outputId": "bd63d18e-6709-457a-f794-b2e1d5bb690d"
      },
      "outputs": [
        {
          "name": "stdout",
          "output_type": "stream",
          "text": [
            "['20002' '10009' '12345ab' '01']\n",
            "[ True  True False  True]\n"
          ]
        }
      ],
      "source": [
        "#isdigit() it returns true if all the chars in the array are num or ints otherwise false.\n",
        "import numpy as np\n",
        "PyStr=np.array([ '20002', '10009', '12345ab','01'] )\n",
        "print(PyStr)\n",
        "PyNewStr = np.char.isdigit(PyStr)\n",
        "print(PyNewStr)"
      ]
    },
    {
      "cell_type": "code",
      "execution_count": 1514,
      "metadata": {
        "colab": {
          "base_uri": "https://localhost:8080/"
        },
        "id": "B0vcujdJxRuh",
        "outputId": "dc92372e-7f1a-47a2-bbea-fc3690a61ec0"
      },
      "outputs": [
        {
          "name": "stdout",
          "output_type": "stream",
          "text": [
            "['20002' 'a12229' '12345 DS' '01']\n",
            "[ True False False  True]\n"
          ]
        }
      ],
      "source": [
        "import numpy as np\n",
        "PyStr=np.array([ '20002', 'a12229', '12345 DS','01'] )\n",
        "print(PyStr)\n",
        "PyNewStr=np.char.isdigit(PyStr)\n",
        "print(PyNewStr)"
      ]
    },
    {
      "cell_type": "code",
      "execution_count": 1515,
      "metadata": {
        "colab": {
          "base_uri": "https://localhost:8080/"
        },
        "id": "PLv2U9t-xXZ2",
        "outputId": "04c87c47-180c-485b-e03a-0e180bd1d862"
      },
      "outputs": [
        {
          "name": "stdout",
          "output_type": "stream",
          "text": [
            "1234\n",
            "True\n",
            "1234.11\n",
            "False\n"
          ]
        }
      ],
      "source": [
        "#isdecimal()\n",
        "import numpy as np\n",
        "PyStr=\"1234\"\n",
        "print(PyStr)\n",
        "PyNewStr=np.char.isdecimal(PyStr)\n",
        "print(PyNewStr)\n",
        "PyStr=\"1234.11\"\n",
        "print(PyStr)\n",
        "PyNewStr=np.char.isdecimal(PyStr)\n",
        "print(PyNewStr)"
      ]
    },
    {
      "cell_type": "code",
      "execution_count": 1516,
      "metadata": {
        "colab": {
          "base_uri": "https://localhost:8080/"
        },
        "id": "FNwbIwvqx50m",
        "outputId": "950e2ecb-d2ab-4a37-cec2-c305de805514"
      },
      "outputs": [
        {
          "name": "stdout",
          "output_type": "stream",
          "text": [
            "['2020' 'a2021' '12345 ab' '01']\n",
            "[ True False False  True]\n"
          ]
        }
      ],
      "source": [
        "import numpy as np\n",
        "PyArr = np.array(['2020', 'a2021', '12345 ab','01'] )\n",
        "print(PyArr)\n",
        "PyNewStr = np.char.isdecimal(PyArr)\n",
        "print(PyNewStr)"
      ]
    },
    {
      "cell_type": "code",
      "execution_count": 1517,
      "metadata": {
        "colab": {
          "base_uri": "https://localhost:8080/"
        },
        "id": "Mt1MNQm_ym9P",
        "outputId": "74176cb0-5416-4c2c-8328-3be86bf9e793"
      },
      "outputs": [
        {
          "name": "stdout",
          "output_type": "stream",
          "text": [
            "['100000000000000' '38654667' '6745662782' '73675647848']\n",
            "[ True  True  True  True]\n"
          ]
        }
      ],
      "source": [
        "import numpy as np\n",
        "PyArr = np.array(['100000000000000', '38654667', '6745662782','73675647848'] )\n",
        "print(PyArr)\n",
        "PyNewStr = np.char.isdecimal(PyArr)\n",
        "print(PyNewStr)"
      ]
    },
    {
      "cell_type": "code",
      "execution_count": 1518,
      "metadata": {
        "colab": {
          "base_uri": "https://localhost:8080/"
        },
        "id": "xyjfjBzaznK-",
        "outputId": "1dcb46eb-bba3-42a3-8369-705290506766"
      },
      "outputs": [
        {
          "name": "stdout",
          "output_type": "stream",
          "text": [
            "FULL STACK DATA SCIENCE PROGRAM\n",
            "Full stack data science program\n"
          ]
        }
      ],
      "source": [
        "#capitalize()\n",
        "import numpy as np\n",
        "PyStr=\"FULL STACK DATA SCIENCE PROGRAM\"\n",
        "print(PyStr)\n",
        "PyNewStr = np.char.capitalize(PyStr)\n",
        "print(PyNewStr)"
      ]
    },
    {
      "cell_type": "code",
      "execution_count": 1519,
      "metadata": {
        "colab": {
          "base_uri": "https://localhost:8080/"
        },
        "id": "FgGalSwN4_kS",
        "outputId": "11b38da2-f619-40d9-cf13-98ce3b8f2f9c"
      },
      "outputs": [
        {
          "name": "stdout",
          "output_type": "stream",
          "text": [
            "full stack data science from Raju Sir..!!\n",
            "Full stack data science from raju sir..!!\n"
          ]
        }
      ],
      "source": [
        "import numpy as np\n",
        "PyStr=\"full stack data science from Raju Sir..!!\"\n",
        "print(PyStr)\n",
        "PyNewStr= np.char.capitalize(PyStr)\n",
        "print(PyNewStr)"
      ]
    },
    {
      "cell_type": "code",
      "execution_count": 1520,
      "metadata": {
        "colab": {
          "base_uri": "https://localhost:8080/"
        },
        "id": "MEe0t5OI5GQc",
        "outputId": "c78509e4-63ab-4eaa-ba97-6fdcbf1b66b6"
      },
      "outputs": [
        {
          "name": "stdout",
          "output_type": "stream",
          "text": [
            "['full sTACk DATA SciencE']\n",
            "['Full stack data science']\n"
          ]
        }
      ],
      "source": [
        "import numpy as np\n",
        "PyArr=np.array(['full sTACk DATA SciencE'])\n",
        "print (PyArr)\n",
        "PyOut=np.char.capitalize(PyArr)\n",
        "print(PyOut)"
      ]
    },
    {
      "cell_type": "code",
      "execution_count": 1521,
      "metadata": {
        "colab": {
          "base_uri": "https://localhost:8080/"
        },
        "id": "fj1523-S5hIh",
        "outputId": "b82bf9aa-cc96-4c0a-cf49-8d2f3f3198aa"
      },
      "outputs": [
        {
          "name": "stdout",
          "output_type": "stream",
          "text": [
            "['hellO' 'SmITh' 'hoW' 'aRe' 'yOu']\n",
            "['HELLo' 'sMitH' 'HOw' 'ArE' 'YoU']\n"
          ]
        }
      ],
      "source": [
        "#swapcase()it swaps the case of chars in a given string.\n",
        "import numpy as np\n",
        "PyStr=np.array(['hellO', 'SmITh', 'hoW', 'aRe','yOu'])\n",
        "print(PyStr)\n",
        "PyOut=np.char.swapcase(PyStr)\n",
        "print(PyOut)"
      ]
    },
    {
      "cell_type": "code",
      "execution_count": 1522,
      "metadata": {
        "colab": {
          "base_uri": "https://localhost:8080/"
        },
        "id": "cM5G2dD451z8",
        "outputId": "1900fe2f-42fe-4630-cafb-767e5af02937"
      },
      "outputs": [
        {
          "name": "stdout",
          "output_type": "stream",
          "text": [
            "['FUlL' 'sTACk' 'DAtascienCE']\n",
            "['fuLl' 'StacK' 'daTASCIENce']\n"
          ]
        }
      ],
      "source": [
        "import numpy as np\n",
        "PyStr= np.array(['FUlL', 'sTACk', 'DAtascienCE'])\n",
        "print (PyStr)\n",
        "PyNewStr = np.char.swapcase(PyStr)\n",
        "print(PyNewStr)"
      ]
    },
    {
      "cell_type": "code",
      "execution_count": 1523,
      "metadata": {
        "colab": {
          "base_uri": "https://localhost:8080/"
        },
        "id": "SyUZcoGL6Tuy",
        "outputId": "ce75c829-b309-4954-f570-568ede5d5ac0"
      },
      "outputs": [
        {
          "name": "stdout",
          "output_type": "stream",
          "text": [
            "     Data Science     \n",
            "Data Science\n"
          ]
        }
      ],
      "source": [
        "#strip()used to remove the appear at the beginning or ending of the array.\n",
        "import numpy as np\n",
        "PyStr=\"     Data Science     \"\n",
        "print(PyStr)\n",
        "PyNewStr = np.char.strip(PyStr)\n",
        "print(PyNewStr)"
      ]
    },
    {
      "cell_type": "code",
      "execution_count": 1524,
      "metadata": {
        "colab": {
          "base_uri": "https://localhost:8080/"
        },
        "id": "iAH2odPnOv9M",
        "outputId": "e4a79a71-05eb-465c-fdaf-f2607b4d499b"
      },
      "outputs": [
        {
          "name": "stdout",
          "output_type": "stream",
          "text": [
            "Data Science     \n"
          ]
        }
      ],
      "source": [
        "import numpy as np\n",
        "PyStr=\"     Data Science     \"\n",
        "PyNewStr = np.char.lstrip(PyStr)\n",
        "print(PyNewStr)"
      ]
    },
    {
      "cell_type": "code",
      "execution_count": 1525,
      "metadata": {
        "colab": {
          "base_uri": "https://localhost:8080/"
        },
        "id": "7ZqDz0ZjO443",
        "outputId": "08a90baf-44a7-4ce9-ce9e-792be3f0674c"
      },
      "outputs": [
        {
          "name": "stdout",
          "output_type": "stream",
          "text": [
            "     Data Science     \n",
            "     Data Science\n"
          ]
        }
      ],
      "source": [
        "import numpy as np\n",
        "PyStr=\"     Data Science     \"\n",
        "print(PyStr)\n",
        "PyNewStr = np.char.rstrip(PyStr)\n",
        "print(PyNewStr)"
      ]
    },
    {
      "cell_type": "code",
      "execution_count": 1526,
      "metadata": {
        "colab": {
          "base_uri": "https://localhost:8080/"
        },
        "id": "m_YTccCwPDOR",
        "outputId": "0f29a190-b758-494f-ba25-fc6afa286fe8"
      },
      "outputs": [
        {
          "name": "stdout",
          "output_type": "stream",
          "text": [
            "@@@@@@Data Science@@@@@@\n",
            "@@@@@@Data Science@@@@@@\n"
          ]
        }
      ],
      "source": [
        "import numpy as np\n",
        "PyStr=\"@@@@@@Data Science@@@@@@\"\n",
        "print(PyStr)\n",
        "PyNewStr = np.char.strip(PyStr)\n",
        "print(PyNewStr)"
      ]
    },
    {
      "cell_type": "code",
      "execution_count": 1527,
      "metadata": {
        "colab": {
          "base_uri": "https://localhost:8080/"
        },
        "id": "vlr-iX88N_4l",
        "outputId": "b03cc92c-275a-47c2-acdc-19f12bf3b40d"
      },
      "outputs": [
        {
          "name": "stdout",
          "output_type": "stream",
          "text": [
            "['Full Stack' 'Data Science' 'Program']\n",
            "['ull Stack' 'Data Science' 'Program']\n"
          ]
        }
      ],
      "source": [
        "import numpy as np\n",
        "PyStr=np.array([ 'Full Stack', 'Data Science', 'Program'] )\n",
        "print(PyStr)\n",
        "PyOut = np.char.strip(PyStr, chars ='F')\n",
        "print (PyOut)"
      ]
    },
    {
      "cell_type": "markdown",
      "metadata": {
        "id": "Ms67VqVoP3Cq"
      },
      "source": [
        "### **Arithmetic operations in numpy**\n",
        "1. Addition \tnumpy.add(FirstArray,SecondArray/value)\n",
        "2. Subtraction\tnumpy.subtract(FirstArray,SecondArray/value)\n",
        "3. Multiplication\tnumpy.multiply(FirstArray,SecondArray/value)\n",
        "4. Division\tnumpy.divide(FirstArray,SecondArray/value)\n",
        "5. Modulo\tnumpy.mod(FirstArray,SecondArray/value)\n",
        "6. Power\t\tnumpy.power(FirstArray,SecondArray/value)\n",
        "7. Reciprocal\tnumpy.reciprocal(Array)\n",
        "8. Complex Numbers numpy.real/img/conjugate(Array)\n",
        "\n"
      ]
    },
    {
      "cell_type": "markdown",
      "metadata": {
        "id": "5Voq63ADQTgI"
      },
      "source": [
        "### **Broad Cast Rules for Arithmetic Operations:**\n",
        "1. Shapes of two arrays must be equal.\n",
        "\n",
        "2. Second Array should have at least one dimension. The number of elements in that dimension should equal to first array. x=(3,3); y=(3,) => Valid, x(3,3);y=(2,2) ==> Invalid\n",
        "\n",
        "3. Second array having single element then we can perform operations\n"
      ]
    },
    {
      "cell_type": "code",
      "execution_count": 1528,
      "metadata": {
        "colab": {
          "base_uri": "https://localhost:8080/"
        },
        "id": "BMTZSv0ZQegT",
        "outputId": "74f462db-efdc-48e5-a0d5-28238caa3608"
      },
      "outputs": [
        {
          "name": "stdout",
          "output_type": "stream",
          "text": [
            "[[1 2 3]\n",
            " [4 5 6]\n",
            " [7 8 9]] [[1 1 1]\n",
            " [1 1 1]\n",
            " [1 1 1]]\n",
            "(3, 3)\n",
            "(3, 3)\n",
            "[[ 2  3  4]\n",
            " [ 5  6  7]\n",
            " [ 8  9 10]]\n"
          ]
        }
      ],
      "source": [
        "#If we add arrays having dissimilar shapes we get  Value Error .\n",
        "import numpy as np\n",
        "PyArr1 = np.array([[1,2,3],[4,5,6],[7,8,9]])\n",
        "PyArr2 = np.array([[1,1,1],[1,1,1],[1,1,1]])\n",
        "print(PyArr1,PyArr2)\n",
        "print(np.shape(PyArr1))\n",
        "print(np.shape(PyArr2))\n",
        "#Element to Element to operation\n",
        "print(np.add(PyArr1,PyArr2))"
      ]
    },
    {
      "cell_type": "code",
      "execution_count": 1529,
      "metadata": {
        "colab": {
          "base_uri": "https://localhost:8080/"
        },
        "id": "2au09JEvRA0u",
        "outputId": "23cad32d-03ec-4639-ba0f-7cd68cf9e19e"
      },
      "outputs": [
        {
          "name": "stdout",
          "output_type": "stream",
          "text": [
            "[[1 2 3]\n",
            " [4 5 6]\n",
            " [7 8 9]] [10 20 30]\n",
            "(3, 3)\n",
            "(3,)\n",
            "[[11 22 33]\n",
            " [14 25 36]\n",
            " [17 28 39]]\n"
          ]
        }
      ],
      "source": [
        "import numpy as np\n",
        "PyArr1 = np.array([[1,2,3],[4,5,6],[7,8,9]])\n",
        "PyArr2 = np.array([10,20,30])\n",
        "print(PyArr1,PyArr2)\n",
        "print(np.shape(PyArr1))\n",
        "print(np.shape(PyArr2))\n",
        "#Second Array should have at leat one dimension\n",
        "print(np.add(PyArr1,PyArr2))"
      ]
    },
    {
      "cell_type": "code",
      "execution_count": 1530,
      "metadata": {
        "colab": {
          "base_uri": "https://localhost:8080/"
        },
        "id": "hA0lmaKGRPBc",
        "outputId": "74ed6c3a-0670-4c9c-e0ee-0e92e754bc27"
      },
      "outputs": [
        {
          "name": "stdout",
          "output_type": "stream",
          "text": [
            "[[1 2 3]\n",
            " [4 5 6]\n",
            " [7 8 9]] [10]\n",
            "(3, 3)\n",
            "(1,)\n",
            "[[11 12 13]\n",
            " [14 15 16]\n",
            " [17 18 19]]\n"
          ]
        }
      ],
      "source": [
        "import numpy as np\n",
        "PyArr1 = np.array([[1,2,3],[4,5,6],[7,8,9]])\n",
        "PyArr2 = np.array([10])\n",
        "print(PyArr1,PyArr2)\n",
        "print(np.shape(PyArr1))\n",
        "print(np.shape(PyArr2))\n",
        "print(np.add(PyArr1,PyArr2))"
      ]
    },
    {
      "cell_type": "code",
      "execution_count": 1531,
      "metadata": {
        "colab": {
          "base_uri": "https://localhost:8080/"
        },
        "id": "dGaH05MrRU69",
        "outputId": "ffcb8cf8-35b2-4a94-ed31-f875b58533ee"
      },
      "outputs": [
        {
          "name": "stdout",
          "output_type": "stream",
          "text": [
            "[[1 2 3]\n",
            " [4 5 6]\n",
            " [7 8 9]] [10]\n",
            "(3, 3)\n",
            "(1,)\n",
            "[[-9 -8 -7]\n",
            " [-6 -5 -4]\n",
            " [-3 -2 -1]]\n"
          ]
        }
      ],
      "source": [
        "# subtract() Method:\n",
        "import numpy as np\n",
        "PyArr1 = np.array([[1,2,3],[4,5,6],[7,8,9]])\n",
        "PyArr2 = np.array([10])\n",
        "print(PyArr1,PyArr2)\n",
        "print(np.shape(PyArr1))\n",
        "print(np.shape(PyArr2))\n",
        "print(np.subtract(PyArr1,PyArr2))\n",
        "\n"
      ]
    },
    {
      "cell_type": "code",
      "execution_count": 1532,
      "metadata": {
        "colab": {
          "base_uri": "https://localhost:8080/"
        },
        "id": "hYhGP7eKRb5w",
        "outputId": "8b3e6fbd-a04b-4664-f7e0-e19443aa8aff"
      },
      "outputs": [
        {
          "name": "stdout",
          "output_type": "stream",
          "text": [
            "[[1 2 3]\n",
            " [4 5 6]\n",
            " [7 8 9]] [10 20 30]\n",
            "(3, 3)\n",
            "(3,)\n",
            "[[ -9 -18 -27]\n",
            " [ -6 -15 -24]\n",
            " [ -3 -12 -21]]\n"
          ]
        }
      ],
      "source": [
        "import numpy as np\n",
        "PyArr1 = np.array([[1,2,3],[4,5,6],[7,8,9]])\n",
        "PyArr2 = np.array([10,20,30])\n",
        "print(PyArr1,PyArr2)\n",
        "print(np.shape(PyArr1))\n",
        "print(np.shape(PyArr2))\n",
        "#Second Array should have at leat one dimension\n",
        "print(np.subtract(PyArr1,PyArr2))"
      ]
    },
    {
      "cell_type": "code",
      "execution_count": 1533,
      "metadata": {
        "colab": {
          "base_uri": "https://localhost:8080/"
        },
        "id": "rkyCUY65RgVS",
        "outputId": "cf062ddf-6392-4956-978a-0527944ab0e9"
      },
      "outputs": [
        {
          "name": "stdout",
          "output_type": "stream",
          "text": [
            "[[1 2 3]\n",
            " [4 5 6]\n",
            " [7 8 9]] [[1 2 3]\n",
            " [4 5 6]\n",
            " [7 8 9]]\n",
            "(3, 3)\n",
            "(3, 3)\n",
            "[[0 0 0]\n",
            " [0 0 0]\n",
            " [0 0 0]]\n"
          ]
        }
      ],
      "source": [
        "import numpy as np\n",
        "PyArr1 = np.array([[1,2,3],[4,5,6],[7,8,9]])\n",
        "PyArr2 = np.array([[1,2,3],[4,5,6],[7,8,9]])\n",
        "print(PyArr1,PyArr2)\n",
        "print(np.shape(PyArr1))\n",
        "print(np.shape(PyArr2))\n",
        "#Element to Element operation\n",
        "print(np.subtract(PyArr1,PyArr2))"
      ]
    },
    {
      "cell_type": "code",
      "execution_count": 1534,
      "metadata": {
        "colab": {
          "base_uri": "https://localhost:8080/"
        },
        "id": "jQLjAtqWRpIr",
        "outputId": "84a26f58-53f1-4918-9d2a-0f868d705e33"
      },
      "outputs": [
        {
          "name": "stdout",
          "output_type": "stream",
          "text": [
            "[[1 2 3]\n",
            " [4 5 6]\n",
            " [7 8 9]] [10]\n",
            "(3, 3)\n",
            "(1,)\n",
            "[[10 20 30]\n",
            " [40 50 60]\n",
            " [70 80 90]]\n"
          ]
        }
      ],
      "source": [
        "# multiply\n",
        "import numpy as np\n",
        "PyArr1 = np.array([[1,2,3],[4,5,6],[7,8,9]])\n",
        "PyArr2 = np.array([10])\n",
        "print(PyArr1,PyArr2)\n",
        "print(np.shape(PyArr1))\n",
        "print(np.shape(PyArr2))\n",
        "print(np.multiply(PyArr1,PyArr2))"
      ]
    },
    {
      "cell_type": "code",
      "execution_count": 1535,
      "metadata": {
        "colab": {
          "base_uri": "https://localhost:8080/"
        },
        "id": "fKxuwzWXRsAd",
        "outputId": "f50d55d8-11e2-46f3-88db-e816b3b6fc25"
      },
      "outputs": [
        {
          "name": "stdout",
          "output_type": "stream",
          "text": [
            "[[1 2 3]\n",
            " [4 5 6]\n",
            " [7 8 9]] [10 20 30]\n",
            "(3, 3)\n",
            "(3,)\n",
            "[[ 10  40  90]\n",
            " [ 40 100 180]\n",
            " [ 70 160 270]]\n"
          ]
        }
      ],
      "source": [
        "import numpy as np\n",
        "PyArr1 = np.array([[1,2,3],[4,5,6],[7,8,9]])\n",
        "PyArr2 = np.array([10,20,30])\n",
        "print(PyArr1,PyArr2)\n",
        "print(np.shape(PyArr1))\n",
        "print(np.shape(PyArr2))\n",
        "#Second Array should have at leat one dimension\n",
        "print(np.multiply(PyArr1,PyArr2))"
      ]
    },
    {
      "cell_type": "code",
      "execution_count": 1536,
      "metadata": {
        "colab": {
          "base_uri": "https://localhost:8080/"
        },
        "id": "jP8ECAGvR0Bo",
        "outputId": "b6a92026-b516-42ed-a5b7-9ae7bcadc068"
      },
      "outputs": [
        {
          "name": "stdout",
          "output_type": "stream",
          "text": [
            "[[1 2 3]\n",
            " [4 5 6]\n",
            " [7 8 9]] [[1 2 3]\n",
            " [4 5 6]\n",
            " [7 8 9]]\n",
            "(3, 3)\n",
            "(3, 3)\n",
            "[[ 1  4  9]\n",
            " [16 25 36]\n",
            " [49 64 81]]\n"
          ]
        }
      ],
      "source": [
        "import numpy as np\n",
        "PyArr1 = np.array([[1,2,3],[4,5,6],[7,8,9]])\n",
        "PyArr2 = np.array([[1,2,3],[4,5,6],[7,8,9]])\n",
        "print(PyArr1,PyArr2)\n",
        "print(np.shape(PyArr1))\n",
        "print(np.shape(PyArr2))\n",
        "#Element to Element operation\n",
        "print(np.multiply(PyArr1,PyArr2))"
      ]
    },
    {
      "cell_type": "code",
      "execution_count": 1537,
      "metadata": {
        "colab": {
          "base_uri": "https://localhost:8080/"
        },
        "id": "zdfvwD8xR3D4",
        "outputId": "cddec549-816c-459d-b326-36087bdf0132"
      },
      "outputs": [
        {
          "name": "stdout",
          "output_type": "stream",
          "text": [
            "[[1 2 3]\n",
            " [4 5 6]\n",
            " [7 8 9]] [10]\n",
            "(3, 3)\n",
            "(1,)\n",
            "[[0.1 0.2 0.3]\n",
            " [0.4 0.5 0.6]\n",
            " [0.7 0.8 0.9]]\n"
          ]
        }
      ],
      "source": [
        "# divide\n",
        "import numpy as np\n",
        "PyArr1 = np.array([[1,2,3],[4,5,6],[7,8,9]])\n",
        "PyArr2 = np.array([10])\n",
        "print(PyArr1,PyArr2)\n",
        "print(np.shape(PyArr1))\n",
        "print(np.shape(PyArr2))\n",
        "print(np.divide(PyArr1,PyArr2))"
      ]
    },
    {
      "cell_type": "code",
      "execution_count": 1538,
      "metadata": {
        "colab": {
          "base_uri": "https://localhost:8080/"
        },
        "id": "AuFzUWNxR8FP",
        "outputId": "d2293ce0-952c-4691-bb0f-6a03c25a9513"
      },
      "outputs": [
        {
          "name": "stdout",
          "output_type": "stream",
          "text": [
            "[[1 2 3]\n",
            " [4 5 6]\n",
            " [7 8 9]] [10 20 30]\n",
            "(3, 3)\n",
            "(3,)\n",
            "[[0.1  0.1  0.1 ]\n",
            " [0.4  0.25 0.2 ]\n",
            " [0.7  0.4  0.3 ]]\n"
          ]
        }
      ],
      "source": [
        "import numpy as np\n",
        "PyArr1 = np.array([[1,2,3],[4,5,6],[7,8,9]])\n",
        "PyArr2 = np.array([10,20,30])\n",
        "print(PyArr1,PyArr2)\n",
        "print(np.shape(PyArr1))\n",
        "print(np.shape(PyArr2))\n",
        "#Second Array should have at leat one dimension\n",
        "print(np.divide(PyArr1,PyArr2))"
      ]
    },
    {
      "cell_type": "code",
      "execution_count": 1539,
      "metadata": {
        "colab": {
          "base_uri": "https://localhost:8080/"
        },
        "id": "4_7aur41R-gj",
        "outputId": "9aa03cf1-438a-437f-8324-2168fb4219a9"
      },
      "outputs": [
        {
          "name": "stdout",
          "output_type": "stream",
          "text": [
            "[[1 2 3]\n",
            " [4 5 6]\n",
            " [7 8 9]] [[1 2 3]\n",
            " [4 5 6]\n",
            " [7 8 9]]\n",
            "(3, 3)\n",
            "(3, 3)\n",
            "[[1. 1. 1.]\n",
            " [1. 1. 1.]\n",
            " [1. 1. 1.]]\n"
          ]
        }
      ],
      "source": [
        "import numpy as np\n",
        "PyArr1 = np.array([[1,2,3],[4,5,6],[7,8,9]])\n",
        "PyArr2 = np.array([[1,2,3],[4,5,6],[7,8,9]])\n",
        "print(PyArr1,PyArr2)\n",
        "print(np.shape(PyArr1))\n",
        "print(np.shape(PyArr2))\n",
        "#Element to Element operation\n",
        "print(np.divide(PyArr1,PyArr2))"
      ]
    },
    {
      "cell_type": "code",
      "execution_count": 1540,
      "metadata": {
        "colab": {
          "base_uri": "https://localhost:8080/"
        },
        "id": "S7DwSI2ISQU2",
        "outputId": "dc0373cd-7b57-402d-92a7-0e71f27a50e5"
      },
      "outputs": [
        {
          "name": "stdout",
          "output_type": "stream",
          "text": [
            "[[1 2 3]\n",
            " [4 5 6]\n",
            " [7 8 9]] [10]\n",
            "(3, 3)\n",
            "(1,)\n",
            "[[1 2 3]\n",
            " [4 5 6]\n",
            " [7 8 9]]\n"
          ]
        }
      ],
      "source": [
        "# mod\n",
        "import numpy as np\n",
        "PyArr1 = np.array([[1,2,3],[4,5,6],[7,8,9]])\n",
        "PyArr2 = np.array([10])\n",
        "print(PyArr1,PyArr2)\n",
        "print(np.shape(PyArr1))\n",
        "print(np.shape(PyArr2))\n",
        "print(np.mod(PyArr1,PyArr2))"
      ]
    },
    {
      "cell_type": "code",
      "execution_count": 1541,
      "metadata": {
        "colab": {
          "base_uri": "https://localhost:8080/"
        },
        "id": "QxQLD41OT0wR",
        "outputId": "8dca23a6-dbbe-41c2-805f-c79e4a5110d6"
      },
      "outputs": [
        {
          "name": "stdout",
          "output_type": "stream",
          "text": [
            "[[1 2 3]\n",
            " [4 5 6]\n",
            " [7 8 9]] [10 20 30]\n",
            "(3, 3)\n",
            "(3,)\n",
            "[[1 2 3]\n",
            " [4 5 6]\n",
            " [7 8 9]]\n"
          ]
        }
      ],
      "source": [
        "import numpy as np\n",
        "PyArr1 = np.array([[1,2,3],[4,5,6],[7,8,9]])\n",
        "PyArr2 = np.array([10,20,30])\n",
        "print(PyArr1,PyArr2)\n",
        "print(np.shape(PyArr1))\n",
        "print(np.shape(PyArr2))\n",
        "#Second Array should have at leat one dimension\n",
        "print(np.mod(PyArr1,PyArr2))"
      ]
    },
    {
      "cell_type": "code",
      "execution_count": 1542,
      "metadata": {
        "colab": {
          "base_uri": "https://localhost:8080/"
        },
        "id": "HodE0aIIUDIq",
        "outputId": "1d31da21-a0e4-40c4-fe36-9933f69f8b6d"
      },
      "outputs": [
        {
          "name": "stdout",
          "output_type": "stream",
          "text": [
            "[[1 2 3]\n",
            " [4 5 6]\n",
            " [7 8 9]] [[1 2 3]\n",
            " [4 5 6]\n",
            " [7 8 9]]\n",
            "(3, 3)\n",
            "(3, 3)\n",
            "[[0 0 0]\n",
            " [0 0 0]\n",
            " [0 0 0]]\n"
          ]
        }
      ],
      "source": [
        "import numpy as np\n",
        "PyArr1 = np.array([[1,2,3],[4,5,6],[7,8,9]])\n",
        "PyArr2 = np.array([[1,2,3],[4,5,6],[7,8,9]])\n",
        "print(PyArr1,PyArr2)\n",
        "print(np.shape(PyArr1))\n",
        "print(np.shape(PyArr2))\n",
        "#Element to Element operation\n",
        "print(np.mod(PyArr1,PyArr2))"
      ]
    },
    {
      "cell_type": "code",
      "execution_count": 1543,
      "metadata": {
        "colab": {
          "base_uri": "https://localhost:8080/"
        },
        "id": "3FOPognBiNNW",
        "outputId": "b37e34c9-faad-4d17-f072-a7419cb32284"
      },
      "outputs": [
        {
          "name": "stdout",
          "output_type": "stream",
          "text": [
            "[[1 2 3]\n",
            " [4 5 6]\n",
            " [7 8 9]] [2]\n",
            "(3, 3)\n",
            "(1,)\n",
            "[[ 1  4  9]\n",
            " [16 25 36]\n",
            " [49 64 81]]\n"
          ]
        }
      ],
      "source": [
        "# power\n",
        "import numpy as np\n",
        "PyArr1 = np.array([[1,2,3],[4,5,6],[7,8,9]])\n",
        "PyArr2 = np.array([2])\n",
        "print(PyArr1,PyArr2)\n",
        "print(np.shape(PyArr1))\n",
        "print(np.shape(PyArr2))\n",
        "print(np.power(PyArr1,PyArr2))"
      ]
    },
    {
      "cell_type": "code",
      "execution_count": 1544,
      "metadata": {
        "colab": {
          "base_uri": "https://localhost:8080/"
        },
        "id": "_53IpV5WiYui",
        "outputId": "f72a040c-a0a4-4223-f306-bd896f1e00df"
      },
      "outputs": [
        {
          "name": "stdout",
          "output_type": "stream",
          "text": [
            "[[1 2 3]\n",
            " [4 5 6]\n",
            " [7 8 9]] [2 3 4]\n",
            "(3, 3)\n",
            "(3,)\n",
            "[[   1    8   81]\n",
            " [  16  125 1296]\n",
            " [  49  512 6561]]\n"
          ]
        }
      ],
      "source": [
        "import numpy as np\n",
        "PyArr1 = np.array([[1,2,3],[4,5,6],[7,8,9]])\n",
        "PyArr2 = np.array([2,3,4])\n",
        "print(PyArr1,PyArr2)\n",
        "print(np.shape(PyArr1))\n",
        "print(np.shape(PyArr2))\n",
        "print(np.power(PyArr1,PyArr2))"
      ]
    },
    {
      "cell_type": "code",
      "execution_count": 1545,
      "metadata": {
        "colab": {
          "base_uri": "https://localhost:8080/"
        },
        "id": "aipFx8tdihIX",
        "outputId": "852127ab-d05c-4d83-f28b-f922460938ba"
      },
      "outputs": [
        {
          "name": "stdout",
          "output_type": "stream",
          "text": [
            "[[1 2 3]\n",
            " [4 5 6]\n",
            " [7 8 9]] [[0 0 0]\n",
            " [0 0 0]\n",
            " [0 0 0]]\n",
            "(3, 3)\n",
            "(3, 3)\n",
            "[[1 1 1]\n",
            " [1 1 1]\n",
            " [1 1 1]]\n"
          ]
        }
      ],
      "source": [
        "import numpy as np\n",
        "PyArr1 = np.array([[1,2,3],[4,5,6],[7,8,9]])\n",
        "PyArr2 = np.array([[0,0,0],[0,0,0],[0,0,0]])\n",
        "print(PyArr1,PyArr2)\n",
        "print(np.shape(PyArr1))\n",
        "print(np.shape(PyArr2))\n",
        "#Element to Element operation\n",
        "print(np.power(PyArr1,PyArr2))"
      ]
    },
    {
      "cell_type": "markdown",
      "metadata": {
        "id": "Tvh3Jh8ZnpAx"
      },
      "source": [
        "### **NOTE:**\n",
        "1/1=1, 1/2=0, 1/3=0\n",
        "\n",
        "Reciprocal is simply defined as the inverse of a value or a number. If n is a real number, then its reciprocal will be 1/n. It means that we have to convert the number to the upside-down form.\n",
        "Example:\n",
        "The reciprocal of 9 is 1 divided by 9, i.e. 1/9.\n",
        "\n",
        "### NOTE:\n",
        "\n",
        "The reciprocal of infinity is zero. In other words, 1/0=∞ and 1/∞=0.\n",
        "The number 0 has no defined reciprocal.\n",
        "The rational number 0 will not have a reciprocal, as 1÷0 is not defined.\n"
      ]
    },
    {
      "cell_type": "code",
      "execution_count": 1546,
      "metadata": {
        "colab": {
          "base_uri": "https://localhost:8080/"
        },
        "id": "WJtHBTG3kNTr",
        "outputId": "d6baa99e-4c0b-4f65-efd2-5f1683032902"
      },
      "outputs": [
        {
          "name": "stdout",
          "output_type": "stream",
          "text": [
            "(3, 3)\n",
            "[[1 0 0]\n",
            " [0 0 0]\n",
            " [0 0 0]]\n"
          ]
        }
      ],
      "source": [
        "# reciprocal\n",
        "import numpy as np\n",
        "PyArr1 = np.array([[1,2,3],[4,5,6],[7,8,9]])\n",
        "print(np.shape(PyArr1))\n",
        "print(np.reciprocal(PyArr1))"
      ]
    },
    {
      "cell_type": "code",
      "execution_count": 1547,
      "metadata": {
        "colab": {
          "base_uri": "https://localhost:8080/"
        },
        "id": "1lbqOgzNk_qx",
        "outputId": "3ba721fe-09df-4712-bf6f-b63465f6bea6"
      },
      "outputs": [
        {
          "name": "stdout",
          "output_type": "stream",
          "text": [
            "[1.+2.j 2.-3.j 1.+3.j]\n",
            "[1. 2. 1.]\n",
            "[ 2. -3.  3.]\n",
            "[1.-2.j 2.+3.j 1.-3.j]\n"
          ]
        }
      ],
      "source": [
        "# complex\n",
        "import numpy as np\n",
        "PyCom = np.array([1+2j,2-3j,1+3j])\n",
        "print(PyCom)\n",
        "print(np.real(PyCom))\n",
        "print(np.imag(PyCom))\n",
        "print(np.conjugate(PyCom))#+ to -, - to +"
      ]
    },
    {
      "cell_type": "code",
      "execution_count": 1548,
      "metadata": {
        "colab": {
          "base_uri": "https://localhost:8080/"
        },
        "id": "r6xpepk8k_P7",
        "outputId": "40872740-d438-4615-aed7-1d34b9e96df3"
      },
      "outputs": [
        {
          "name": "stdout",
          "output_type": "stream",
          "text": [
            "[[10 20 30]\n",
            " [40 50 60]\n",
            " [ 7  8  9]]\n",
            "7\n",
            "[7 8 9]\n",
            "[10 40  7]\n"
          ]
        }
      ],
      "source": [
        "#statistical functions\n",
        "import numpy as np\n",
        "PyArr = np.array([[10,20,30],[40,50,60],[7,8,9]])\n",
        "print(PyArr)\n",
        "#The Minimum element among the array\n",
        "print(np.amin(PyArr))\n",
        "#The Minimum element among the rows of array\n",
        "print(np.amin(PyArr,0))\n",
        "#The Minimum element among the columns of array\n",
        "print(np.amin(PyArr,1))"
      ]
    },
    {
      "cell_type": "code",
      "execution_count": 1549,
      "metadata": {
        "colab": {
          "base_uri": "https://localhost:8080/"
        },
        "id": "2bZ6NjKIk_JX",
        "outputId": "304dd6ed-7931-4c1a-a186-38ed9522de65"
      },
      "outputs": [
        {
          "name": "stdout",
          "output_type": "stream",
          "text": [
            "[[ 2 15 20]\n",
            " [80 43 31]\n",
            " [22 43 10]]\n",
            "2\n",
            "[ 2 15 10]\n",
            "[ 2 31 10]\n"
          ]
        }
      ],
      "source": [
        "import numpy as np\n",
        "PyArr = np.array([[2,15,20],[80,43,31],[22,43,10]])\n",
        "print(PyArr)\n",
        "#The Minimum element among the array\n",
        "print(np.amin(PyArr))\n",
        "#The Minimum element among the rows of array\n",
        "print(np.amin(PyArr,0))\n",
        "#The Minimum element among the columns of array\n",
        "print(np.amin(PyArr,1))"
      ]
    },
    {
      "cell_type": "code",
      "execution_count": 1550,
      "metadata": {
        "colab": {
          "base_uri": "https://localhost:8080/"
        },
        "id": "S9J3V7GJqjyd",
        "outputId": "c916d2eb-8a0d-4d28-a33f-d1c6934494a2"
      },
      "outputs": [
        {
          "name": "stdout",
          "output_type": "stream",
          "text": [
            "[[0 1 2]\n",
            " [3 4 5]\n",
            " [6 7 8]]\n",
            "0\n",
            "[0 1 2]\n",
            "[0 3 6]\n"
          ]
        }
      ],
      "source": [
        "import numpy as np\n",
        "PyArr=np.arange(9).reshape((3,3))\n",
        "print(PyArr)\n",
        "#Minimum element in the array is\n",
        "print(np.amin(PyArr))\n",
        "#Minimum element along the first axis of array is\n",
        "print(np.amin(PyArr,axis=0))\n",
        "#Minimum element along the second axis of array is\n",
        "print(np.amin(PyArr, axis=1))"
      ]
    },
    {
      "cell_type": "code",
      "execution_count": 1551,
      "metadata": {
        "colab": {
          "base_uri": "https://localhost:8080/"
        },
        "id": "fhh8VEAyq_e3",
        "outputId": "d6abf2a9-3be7-49e2-f373-20237799edc9"
      },
      "outputs": [
        {
          "name": "stdout",
          "output_type": "stream",
          "text": [
            "[[ 1  2  3]\n",
            " [ 4  5  6]\n",
            " [ 7  8 10]]\n",
            "10\n",
            "[ 7  8 10]\n",
            "[ 3  6 10]\n"
          ]
        }
      ],
      "source": [
        "# amax() function\n",
        "import numpy as np\n",
        "PyArr = np.array([[1,2,3],[4,5,6],[7,8,10]])\n",
        "print(PyArr)\n",
        "#The Minimum element among the array\n",
        "print(np.amax(PyArr))\n",
        "#The Minimum element among the rows of array\n",
        "print(np.amax(PyArr,0))\n",
        "#The Minimum element among the columns of array\n",
        "print(np.amax(PyArr,1))"
      ]
    },
    {
      "cell_type": "code",
      "execution_count": 1552,
      "metadata": {
        "colab": {
          "base_uri": "https://localhost:8080/"
        },
        "id": "ygTL_Gy9rNGK",
        "outputId": "831cb827-8a18-43e7-b3c3-5a84c6683491"
      },
      "outputs": [
        {
          "name": "stdout",
          "output_type": "stream",
          "text": [
            "[[ 2 15 20]\n",
            " [80 43 31]\n",
            " [22 43 10]]\n",
            "80\n",
            "[80 43 31]\n",
            "[20 80 43]\n"
          ]
        }
      ],
      "source": [
        "import numpy as np\n",
        "PyArr = np.array([[2,15,20],[80,43,31],[22,43,10]])\n",
        "print(PyArr)\n",
        "#The Maximum element among the array\n",
        "print(np.amax(PyArr))\n",
        "#The Maximum element among the rows of array\n",
        "print(np.amax(PyArr,0))\n",
        "#The Maximum element among the columns of array\n",
        "print(np.amax(PyArr,1))"
      ]
    },
    {
      "cell_type": "code",
      "execution_count": 1553,
      "metadata": {
        "colab": {
          "base_uri": "https://localhost:8080/"
        },
        "id": "ryGUqCoYrj5T",
        "outputId": "40646385-37bc-4a15-d4ef-915db5e6dc48"
      },
      "outputs": [
        {
          "name": "stdout",
          "output_type": "stream",
          "text": [
            "[[0 1 2]\n",
            " [3 4 5]\n",
            " [6 7 8]]\n",
            "8\n",
            "[6 7 8]\n",
            "[2 5 8]\n"
          ]
        }
      ],
      "source": [
        "import numpy as np\n",
        "PyArr = np.arange(9).reshape((3,3))\n",
        "print(PyArr)\n",
        "#Maximum element in the array is\n",
        "print(np.amax(PyArr))\n",
        "#Maximum element along the first axis of array is\n",
        "print(np.amax(PyArr, axis=0))\n",
        "#Maximum element along the second axis of array is\n",
        "print(np.amax(PyArr, axis=1))"
      ]
    },
    {
      "cell_type": "code",
      "execution_count": 1554,
      "metadata": {
        "colab": {
          "base_uri": "https://localhost:8080/"
        },
        "id": "hYaw2jpFrrFJ",
        "outputId": "01e9bafe-a32c-49a7-ea62-72c04b443864"
      },
      "outputs": [
        {
          "name": "stdout",
          "output_type": "stream",
          "text": [
            "[1, 10, 7, 20, 11, 24]\n",
            "23\n"
          ]
        }
      ],
      "source": [
        "# NumPy ptp() function\n",
        "# It is used to return a range of values along an axis. \"ptp\" stands for peak to peak.\n",
        "#NOTE: It always returns max-min value\n",
        "import numpy as np\n",
        "PyArr=[1, 10, 7, 20, 11, 24]\n",
        "print(PyArr)\n",
        "print(np.ptp(PyArr))\n"
      ]
    },
    {
      "cell_type": "code",
      "execution_count": 1555,
      "metadata": {
        "colab": {
          "base_uri": "https://localhost:8080/"
        },
        "id": "1MYqNndGr6_V",
        "outputId": "c00c82ec-3ab3-4b0b-f0b7-b9dbcd3dbda2"
      },
      "outputs": [
        {
          "name": "stdout",
          "output_type": "stream",
          "text": [
            "[1, 10, 7, 20, 11, nan]\n",
            "nan\n"
          ]
        }
      ],
      "source": [
        "import numpy as np\n",
        "PyArr=[1, 10, 7, 20, 11, np.nan]\n",
        "print(PyArr)\n",
        "print(np.ptp(PyArr))"
      ]
    },
    {
      "cell_type": "code",
      "execution_count": 1556,
      "metadata": {
        "colab": {
          "base_uri": "https://localhost:8080/"
        },
        "id": "cbQwHYIiszzO",
        "outputId": "9fcfd69f-b302-4afb-be03-1aa34aecd8e4"
      },
      "outputs": [
        {
          "name": "stdout",
          "output_type": "stream",
          "text": [
            "[1, 10, 7, 20, 11, 56, 67]\n",
            "66\n"
          ]
        }
      ],
      "source": [
        "import numpy as np\n",
        "PyArr = [1, 10, 7, 20,11,56,67]\n",
        "print(PyArr)\n",
        "print(np.ptp(PyArr))"
      ]
    },
    {
      "cell_type": "code",
      "execution_count": 1557,
      "metadata": {
        "colab": {
          "base_uri": "https://localhost:8080/"
        },
        "id": "hMbOxkLcs30v",
        "outputId": "8f2e710c-5f4b-4ed8-d9a2-7dcf402f3ab6"
      },
      "outputs": [
        {
          "name": "stdout",
          "output_type": "stream",
          "text": [
            "[[15, 18, 16, 63, 44], [19, 4, 29, 5, 20], [24, 4, 54, 6, 4]]\n",
            "59\n"
          ]
        }
      ],
      "source": [
        "import numpy as np\n",
        "PyArr=[[15, 18, 16, 63, 44], [19, 4, 29, 5, 20], [24, 4, 54, 6, 4,]]\n",
        "print(PyArr)\n",
        "#The Range of the flattened array is calculated as\n",
        "#flattened : breaking the dimensions and putting in a 1D\n",
        "print(np.ptp(PyArr))"
      ]
    },
    {
      "cell_type": "code",
      "execution_count": 1558,
      "metadata": {
        "colab": {
          "base_uri": "https://localhost:8080/"
        },
        "id": "RX-hDrBm_NAm",
        "outputId": "6de8027e-f430-4c82-eb18-18397f012596"
      },
      "outputs": [
        {
          "name": "stdout",
          "output_type": "stream",
          "text": [
            "[[15, 18, 16, 63, 44], [19, 4, 29, 5, 20], [24, 4, 54, 6, 4]]\n",
            "[ 9 14 38 58 40]\n",
            "[48 25 50]\n"
          ]
        }
      ],
      "source": [
        "import numpy as np\n",
        "PyArr=[[15, 18, 16, 63, 44], [19, 4, 29, 5, 20], [24, 4, 54, 6, 4,]]\n",
        "print(PyArr)\n",
        "#The Range of the flattened array is calculated as:\n",
        "#flattened : breaking the dimensions and putting in a 1D\n",
        "print(np.ptp(PyArr, axis = 0))\n",
        "#max-min formula applied here\n",
        "#[(24-15) (18-4)  (54-16) (63-5) (44-4)]=[9 14 38 58 40]\n",
        "print(np.ptp(PyArr, axis = 1))\n",
        "#63-15=48, 29-4=25, 54-4=50"
      ]
    },
    {
      "cell_type": "code",
      "execution_count": 1559,
      "metadata": {
        "colab": {
          "base_uri": "https://localhost:8080/"
        },
        "id": "AGxw7r8yIwFa",
        "outputId": "4e1f8639-fbdc-45fa-b347-2ad14cf3bbd5"
      },
      "outputs": [
        {
          "name": "stdout",
          "output_type": "stream",
          "text": [
            "[[1, 2, 3, 4, 5], [6, 7, 8, 9, 10], [11, 12, 13, 14, 15]]\n",
            "14\n",
            "[10 10 10 10 10]\n",
            "[4 4 4]\n"
          ]
        }
      ],
      "source": [
        "import numpy as np\n",
        "PyArr=[[1, 2, 3, 4, 5], [6, 7, 8, 9, 10], [11, 12, 13, 14, 15]]\n",
        "print(PyArr)\n",
        "print(np.ptp(PyArr))\n",
        "print(np.ptp(PyArr, axis = 0))\n",
        "print(np.ptp(PyArr, axis = 1))"
      ]
    },
    {
      "cell_type": "markdown",
      "metadata": {
        "id": "YuO4HmjnZT-y"
      },
      "source": [
        "### **steps used to calculate the Median:**\n",
        "\n",
        "There are some given data points as Input.\n",
        "The second step is, to arrange them in an ascending order.\n",
        "If total no. of the terms are odd, then median will be calculated as Median = middle term\n",
        "If total no. of the terms are even, then median will be calculated as Median = Average of the terms in the middle\n",
        "\n"
      ]
    },
    {
      "cell_type": "code",
      "execution_count": 1560,
      "metadata": {
        "colab": {
          "base_uri": "https://localhost:8080/"
        },
        "id": "iYQH6CAqZH4D",
        "outputId": "64888c05-e4fd-4c16-f7a2-af446cbee76c"
      },
      "outputs": [
        {
          "name": "stdout",
          "output_type": "stream",
          "text": [
            "26.0\n"
          ]
        }
      ],
      "source": [
        "# NumPy median() function\n",
        "import numpy as np\n",
        "PyArr= [26, 2, 73, 13, 34]\n",
        "print(np.median(PyArr))\n",
        "# NOTE: ascending order+Odd midle point"
      ]
    },
    {
      "cell_type": "code",
      "execution_count": 1561,
      "metadata": {
        "colab": {
          "base_uri": "https://localhost:8080/"
        },
        "id": "I_qHyH2BaL0j",
        "outputId": "6c489529-6ea5-48ac-9b4e-b23053ffc4a3"
      },
      "outputs": [
        {
          "name": "stdout",
          "output_type": "stream",
          "text": [
            "\n",
            "The median of array when axis = None : \n",
            "17.0\n",
            "[14.  6. 54.  8. 19.]\n",
            "[19. 14.  7.]\n"
          ]
        }
      ],
      "source": [
        "import numpy as np\n",
        "PyArr = [[1, 17, 19, 33, 49], [14, 6, 87, 8, 19], [34, 2, 54, 4, 7]]\n",
        "print(\"\\nThe median of array when axis = None : \")\n",
        "print(np.median(PyArr))\n",
        "#calculating median along the axis = 0\n",
        "print(np.median(PyArr, axis = 0))\n",
        "#calculating median along the axis = 1\n",
        "print(np.median(PyArr, axis = 1))"
      ]
    },
    {
      "cell_type": "code",
      "execution_count": 1562,
      "metadata": {
        "colab": {
          "base_uri": "https://localhost:8080/"
        },
        "id": "K-yT1C4XbCnV",
        "outputId": "3d52b5fa-fe22-4658-c22d-9897e7416caf"
      },
      "outputs": [
        {
          "name": "stdout",
          "output_type": "stream",
          "text": [
            "32.0\n"
          ]
        }
      ],
      "source": [
        "# NumPy mean() function\n",
        "import numpy as np\n",
        "PyArr= [80, 23, 17, 1, 39]\n",
        "print(np.mean(PyArr))"
      ]
    },
    {
      "cell_type": "code",
      "execution_count": 1563,
      "metadata": {
        "colab": {
          "base_uri": "https://localhost:8080/"
        },
        "id": "y3rdzUiBbO6D",
        "outputId": "2cc11287-86ab-4862-a989-9f610c9a9e06"
      },
      "outputs": [
        {
          "name": "stdout",
          "output_type": "stream",
          "text": [
            "[[14, 19, 12, 34, 43], [16, 8, 28, 8, 20], [25, 5, 55, 1, 2]]\n",
            "19.333333333333332\n",
            "[18.33333333 10.66666667 31.66666667 14.33333333 21.66666667]\n",
            "[24.4 16.  17.6]\n"
          ]
        }
      ],
      "source": [
        "import numpy as np\n",
        "PyArr=[[14, 19, 12, 34, 43], [16, 8, 28, 8, 20], [25, 5, 55, 1, 2]]\n",
        "print(PyArr)\n",
        "#Calculating mean of the flattened array\n",
        "print(np.mean(PyArr))\n",
        "#Calculating the mean along the axis = 0\n",
        "print(np.mean(PyArr, axis = 0))\n",
        "#Calculating the mean along the axis = 1\n",
        "print(np.mean(PyArr, axis = 1))"
      ]
    },
    {
      "cell_type": "markdown",
      "metadata": {
        "id": "lQ_nOyDScQq0"
      },
      "source": [
        "### **Standard deviation**\n",
        "It is basically a measure of the amount of variation or dispersion of the set of values. It is also known as the square root of the average of squared deviations from the mean.\n",
        "\n"
      ]
    },
    {
      "cell_type": "code",
      "execution_count": 1564,
      "metadata": {
        "colab": {
          "base_uri": "https://localhost:8080/"
        },
        "id": "huN9q-kecGMd",
        "outputId": "0053537c-ed3e-4f23-9d1f-7a29a4dbe903"
      },
      "outputs": [
        {
          "name": "stdout",
          "output_type": "stream",
          "text": [
            "[[11  2]\n",
            " [13 44]]\n",
            "15.850867484147358\n",
            "[ 1. 21.]\n",
            "[ 4.5 15.5]\n"
          ]
        }
      ],
      "source": [
        "# NumPy std() function:\n",
        "import numpy as np\n",
        "PyArr=np.array([[11, 2], [13, 44]])\n",
        "print(PyArr)\n",
        "print(np.std(PyArr))\n",
        "#Standard Deviation along axis 0\n",
        "print(np.std(PyArr, axis=0))\n",
        "#Standard Deviation along axis 1:\n",
        "print(np.std(PyArr, axis=1))"
      ]
    },
    {
      "cell_type": "code",
      "execution_count": 1565,
      "metadata": {
        "colab": {
          "base_uri": "https://localhost:8080/"
        },
        "id": "Ks1MaO4FceZ5",
        "outputId": "205b3319-549c-483c-cb07-ded2b160fa42"
      },
      "outputs": [
        {
          "name": "stdout",
          "output_type": "stream",
          "text": [
            "[22, 2, 17, 11, 34]\n",
            "10.721940122944167\n",
            "10.72194\n",
            "10.721940122944167\n"
          ]
        }
      ],
      "source": [
        "import numpy as np\n",
        "PyArr=[22, 2, 17, 11, 34]\n",
        "print(PyArr)\n",
        "print(np.std(PyArr))\n",
        "print(np.std(PyArr, dtype = np.float32))\n",
        "print(np.std(PyArr, dtype = np.float64))"
      ]
    },
    {
      "cell_type": "code",
      "execution_count": 1566,
      "metadata": {
        "colab": {
          "base_uri": "https://localhost:8080/"
        },
        "id": "34T35eM3drmj",
        "outputId": "67cead1d-1252-4023-9ceb-0c9792b5c21b"
      },
      "outputs": [
        {
          "name": "stdout",
          "output_type": "stream",
          "text": [
            "160\n"
          ]
        }
      ],
      "source": [
        "# Binary Operations\n",
        "# NumPy left_shift() function\n",
        "# It is mainly used in order to shift the bits of an integer to the left.\n",
        "import numpy as np\n",
        "iNum=40;BShift=2\n",
        "Result=np.left_shift(iNum, BShift)\n",
        "print(Result)"
      ]
    },
    {
      "cell_type": "code",
      "execution_count": 1567,
      "metadata": {
        "colab": {
          "base_uri": "https://localhost:8080/"
        },
        "id": "CpwDZW9_itMb",
        "outputId": "91511357-1004-439d-a431-a5fb928b7f38"
      },
      "outputs": [
        {
          "name": "stdout",
          "output_type": "stream",
          "text": [
            "[ 16 128 320]\n"
          ]
        }
      ],
      "source": [
        "import numpy as np\n",
        "PyArr=[2, 8, 10] ;BShift=[3, 4, 5]\n",
        "Result=np.left_shift(PyArr, BShift)\n",
        "print(Result)"
      ]
    },
    {
      "cell_type": "code",
      "execution_count": 1568,
      "metadata": {
        "colab": {
          "base_uri": "https://localhost:8080/"
        },
        "id": "1YBpgCntkE7-",
        "outputId": "83d71e3d-a0fd-4e02-b4ae-6e5c0f42f4f7"
      },
      "outputs": [
        {
          "name": "stdout",
          "output_type": "stream",
          "text": [
            "10\n"
          ]
        }
      ],
      "source": [
        "# NumPy right_shift() function\n",
        "# It is mainly used in order to shift the bits of an integer to the right.\n",
        "import numpy as np\n",
        "iNum=40;BShift=2\n",
        "Result=np.right_shift(iNum, BShift)\n",
        "print(Result)"
      ]
    },
    {
      "cell_type": "code",
      "execution_count": 1569,
      "metadata": {
        "colab": {
          "base_uri": "https://localhost:8080/"
        },
        "id": "WIXRJB-Vl3t8",
        "outputId": "31a64375-2c46-4992-9203-8190285a0ef9"
      },
      "outputs": [
        {
          "name": "stdout",
          "output_type": "stream",
          "text": [
            "[ 1  1 13]\n"
          ]
        }
      ],
      "source": [
        "import numpy as np\n",
        "PyArr = [8, 28, 55];BShift =[3, 4, 2]\n",
        "Result=np.right_shift(PyArr, BShift)\n",
        "print(Result)"
      ]
    },
    {
      "cell_type": "code",
      "execution_count": 1570,
      "metadata": {
        "colab": {
          "base_uri": "https://localhost:8080/"
        },
        "id": "wAjw2PhMFCWm",
        "outputId": "7f44b7a9-5858-4fed-b72a-3a2ccca14b3a"
      },
      "outputs": [
        {
          "name": "stdout",
          "output_type": "stream",
          "text": [
            "[0 0 0]\n"
          ]
        }
      ],
      "source": [
        "import numpy as np\n",
        "PyArr=[2, 8, 10] ;BShift=[3, 4, 5]\n",
        "Result=np.right_shift(PyArr, BShift)\n",
        "print(Result)"
      ]
    },
    {
      "cell_type": "code",
      "execution_count": 1571,
      "metadata": {
        "colab": {
          "base_uri": "https://localhost:8080/"
        },
        "id": "dRdzXBagMqie",
        "outputId": "e856a08b-5e11-4f90-946b-5e34943311d1"
      },
      "outputs": [
        {
          "name": "stdout",
          "output_type": "stream",
          "text": [
            "[5 0 4]\n"
          ]
        }
      ],
      "source": [
        "import numpy as np\n",
        "PyArr = [40, 10, 16];BShift =[3, 4, 2]\n",
        "Result=np.right_shift(PyArr, BShift)\n",
        "print(Result)"
      ]
    },
    {
      "cell_type": "code",
      "execution_count": 1572,
      "metadata": {
        "colab": {
          "base_uri": "https://localhost:8080/"
        },
        "id": "WUevGLCqZt4u",
        "outputId": "14d2efa4-94d1-44e1-91fc-3db8f307a4b6"
      },
      "outputs": [
        {
          "name": "stdout",
          "output_type": "stream",
          "text": [
            "27\n"
          ]
        }
      ],
      "source": [
        "# NumPy bitwise_xor() function\n",
        "#It  is mainly used to perform the bitwise XOR operation.\n",
        "import numpy as np\n",
        "PyNum1=15;PyNum2= 20\n",
        "PyResult=np.bitwise_xor(PyNum1,PyNum2)\n",
        "print (PyResult)"
      ]
    },
    {
      "cell_type": "code",
      "execution_count": 1573,
      "metadata": {
        "colab": {
          "base_uri": "https://localhost:8080/"
        },
        "id": "KQn8KYbMhQ-E",
        "outputId": "ec68970a-1fd5-4942-e855-dedc65fa6845"
      },
      "outputs": [
        {
          "name": "stdout",
          "output_type": "stream",
          "text": [
            "[  1  13 244]\n"
          ]
        }
      ],
      "source": [
        "import numpy as np\n",
        "PyArr1 = [2, 8, 135]\n",
        "PyArr2 = [3, 5, 115]\n",
        "PyResult=np.bitwise_xor(PyArr1, PyArr2)\n",
        "print (PyResult)\n"
      ]
    },
    {
      "cell_type": "code",
      "execution_count": 1574,
      "metadata": {
        "colab": {
          "base_uri": "https://localhost:8080/"
        },
        "id": "rK-5YBsemAoo",
        "outputId": "409933e4-cc6a-4ab1-e60e-8da686df7a9e"
      },
      "outputs": [
        {
          "name": "stdout",
          "output_type": "stream",
          "text": [
            "-13\n"
          ]
        }
      ],
      "source": [
        "# NumPy invert() function\n",
        "# It is used to compute bit-wise inversion, or bit-wise NOT in an element-wise manner\n",
        "import numpy as np\n",
        "iNum = 12\n",
        "PyResult=np.invert(iNum)\n",
        "print (PyResult)"
      ]
    },
    {
      "cell_type": "markdown",
      "metadata": {
        "id": "PCb-HaDjARax"
      },
      "source": [
        "**Linaer algebra**"
      ]
    },
    {
      "cell_type": "code",
      "execution_count": 1575,
      "metadata": {
        "colab": {
          "base_uri": "https://localhost:8080/"
        },
        "id": "RwTovUiVAUIN",
        "outputId": "8c602931-8d80-4739-fde7-2bbcdabbce97"
      },
      "outputs": [
        {
          "name": "stdout",
          "output_type": "stream",
          "text": [
            "32\n"
          ]
        }
      ],
      "source": [
        "#Numpy dot() function\n",
        "#It is mainly used to calculate the dot product of two vectors.\n",
        "import numpy as np\n",
        "PyDot = np.dot(8, 4)\n",
        "print(PyDot)"
      ]
    },
    {
      "cell_type": "code",
      "execution_count": 1576,
      "metadata": {
        "colab": {
          "base_uri": "https://localhost:8080/"
        },
        "id": "ylMHB0RCA1oC",
        "outputId": "74dc3c64-36e7-4bd9-a123-ff0673e3c836"
      },
      "outputs": [
        {
          "name": "stdout",
          "output_type": "stream",
          "text": [
            "(17+44j)\n"
          ]
        }
      ],
      "source": [
        "import numpy as np\n",
        "VectA = 4 + 3j\n",
        "VectB = 8 + 5j\n",
        "DotProduct=np.dot(VectA, VectB)\n",
        "print(DotProduct)"
      ]
    },
    {
      "cell_type": "code",
      "execution_count": 1577,
      "metadata": {
        "colab": {
          "base_uri": "https://localhost:8080/"
        },
        "id": "KwjQBYrKBITq",
        "outputId": "a148b945-71a2-4a51-8359-52da9c0ed6a8"
      },
      "outputs": [
        {
          "name": "stdout",
          "output_type": "stream",
          "text": [
            "[[ 50 100]\n",
            " [ 12  13]]\n",
            "[[10 20]\n",
            " [12 21]]\n",
            "[[1700 3100]\n",
            " [ 276  513]]\n"
          ]
        }
      ],
      "source": [
        "import numpy as np\n",
        "PyArr1=np.array([[50,100],[12,13]])\n",
        "print(PyArr1)\n",
        "PyArr2=np.array([[10,20],[12,21]])\n",
        "print(PyArr2)\n",
        "PyDot=np.dot(PyArr1,PyArr2)\n",
        "print(PyDot)"
      ]
    },
    {
      "cell_type": "markdown",
      "metadata": {
        "id": "isWx_g_gDHtl"
      },
      "source": [
        "**random.choice() function:**\n",
        "random.choice(a, size, replace, p) generates a random sample from a given 1-D array.\n"
      ]
    },
    {
      "cell_type": "code",
      "execution_count": 1578,
      "metadata": {
        "colab": {
          "base_uri": "https://localhost:8080/"
        },
        "id": "0rNlMsftBeTz",
        "outputId": "87229f1b-a6dc-4649-e339-e6c3784a7668"
      },
      "outputs": [
        {
          "name": "stdout",
          "output_type": "stream",
          "text": [
            "[7 7 7 5 7 5 7 7 5 7 7 7 7 7 7 7 7 3 7 5 7 7 3 7 7 7 5 7 7 5 7 7 7 7 5 5 3\n",
            " 7 7 7 7 5 5 7 7 7 7 5 7 5 7 7 7 5 7 7 7 5 7 7 5 7 5 3 5 7 5 7 7 5 3 7 5 7\n",
            " 7 5 5 7 7 7 7 5 7 5 5 7 7 7 7 7 7 5 5 5 5 7 7 5 7 7]\n"
          ]
        }
      ],
      "source": [
        "from numpy import random\n",
        "x = random.choice([3, 5, 7, 9], p=[0.1, 0.3, 0.6, 0.0], size=(100))\n",
        "print(x)"
      ]
    },
    {
      "cell_type": "code",
      "execution_count": 1579,
      "metadata": {
        "colab": {
          "base_uri": "https://localhost:8080/"
        },
        "id": "XG0qtPq_DNff",
        "outputId": "7168b3fe-ca5c-4266-f792-4d4be6377ef6"
      },
      "outputs": [
        {
          "name": "stdout",
          "output_type": "stream",
          "text": [
            "[[7 7 7 5 7]\n",
            " [7 5 7 7 5]\n",
            " [5 5 7 7 7]]\n"
          ]
        }
      ],
      "source": [
        "from numpy import random\n",
        "x = random.choice([3, 5, 7, 9], p=[0.1, 0.3, 0.6, 0.0], size=(3, 5))\n",
        "print(x)"
      ]
    },
    {
      "cell_type": "markdown",
      "metadata": {
        "id": "hmhW8_fpDp04"
      },
      "source": [
        "**Random Permutations of Elements**\n",
        "A permutation refers to an arrangement of elements. e.g. [3, 2, 1] is a permutation of [1, 2, 3] and vice-versa.\n",
        "\n",
        "The NumPy Random module provides two methods for this: shuffle() and permutation().\n",
        "\n",
        "**Shuffling Arrays**\n",
        "Shuffle means changing arrangement of elements in-place. i.e. in the array itself.\n",
        "\n"
      ]
    },
    {
      "cell_type": "code",
      "execution_count": 1580,
      "metadata": {
        "colab": {
          "base_uri": "https://localhost:8080/"
        },
        "id": "4ZFsMF9UDlX2",
        "outputId": "8e064581-8462-4e2d-ba3f-b576908edb0d"
      },
      "outputs": [
        {
          "name": "stdout",
          "output_type": "stream",
          "text": [
            "[3 2 4 5 1]\n"
          ]
        }
      ],
      "source": [
        "from numpy import random\n",
        "import numpy as np\n",
        "arr = np.array([1, 2, 3, 4, 5])\n",
        "random.shuffle(arr)\n",
        "print(arr)\n",
        "#The shuffle() method makes changes to the original array."
      ]
    },
    {
      "cell_type": "code",
      "execution_count": 1581,
      "metadata": {
        "colab": {
          "base_uri": "https://localhost:8080/"
        },
        "id": "dAxYQVhrD7CP",
        "outputId": "c135c8ad-11de-4bfb-ff14-0845e54413fb"
      },
      "outputs": [
        {
          "name": "stdout",
          "output_type": "stream",
          "text": [
            "[1 5 3 4 2]\n"
          ]
        }
      ],
      "source": [
        "#Generating Permutation of Arrays\n",
        "from numpy import random\n",
        "import numpy as np\n",
        "arr = np.array([1, 2, 3, 4, 5])\n",
        "print(random.permutation(arr))\n",
        "#The permutation() method returns a re-arranged array (and leaves the original array un-changed)."
      ]
    },
    {
      "cell_type": "markdown",
      "metadata": {
        "id": "QKGB0wJeEdwJ"
      },
      "source": [
        "**Distplot stands for distribution plot, it takes as input an array and plots a curve corresponding to the distribution of points in the array.**\n"
      ]
    },
    {
      "cell_type": "code",
      "execution_count": 1582,
      "metadata": {
        "colab": {
          "base_uri": "https://localhost:8080/",
          "height": 630
        },
        "id": "WHoIyXywEgzd",
        "outputId": "78b377a2-bf1c-4bad-8975-0bc79c3c7763"
      },
      "outputs": [
        {
          "name": "stderr",
          "output_type": "stream",
          "text": [
            "C:\\Users\\akhil\\AppData\\Local\\Temp\\ipykernel_10532\\271845540.py:3: UserWarning: \n",
            "\n",
            "`distplot` is a deprecated function and will be removed in seaborn v0.14.0.\n",
            "\n",
            "Please adapt your code to use either `displot` (a figure-level function with\n",
            "similar flexibility) or `histplot` (an axes-level function for histograms).\n",
            "\n",
            "For a guide to updating your code to use the new functions, please see\n",
            "https://gist.github.com/mwaskom/de44147ed2974457ad6372750bbe5751\n",
            "\n",
            "  sns.distplot([0, 1, 2, 3, 4, 5])\n"
          ]
        },
        {
          "data": {
            "image/png": "[encoded data removed]",
            "text/plain": [
              "<Figure size 640x480 with 1 Axes>"
            ]
          },
          "metadata": {},
          "output_type": "display_data"
        }
      ],
      "source": [
        "import matplotlib.pyplot as plt\n",
        "import seaborn as sns\n",
        "sns.distplot([0, 1, 2, 3, 4, 5])\n",
        "plt.show()"
      ]
    },
    {
      "cell_type": "markdown",
      "metadata": {
        "id": "M2T8OShME3YM"
      },
      "source": [
        "**Normal (Gaussian) Distribution**\n",
        "Use the random.normal() method to get a Normal Data Distribution.\n",
        "\n",
        "**loc** - (Mean) where the peak of the bell exists.\n",
        "\n",
        "**scale** - (Standard Deviation) how flat the graph distribution should be.\n",
        "\n",
        "**size** - The shape of the returned array.\n",
        "\n"
      ]
    },
    {
      "cell_type": "code",
      "execution_count": 1583,
      "metadata": {
        "colab": {
          "base_uri": "https://localhost:8080/"
        },
        "id": "Se2lr1AqFNTs",
        "outputId": "faf1f7d7-b8b6-490c-a6d4-e93c5bed8eb7"
      },
      "outputs": [
        {
          "name": "stdout",
          "output_type": "stream",
          "text": [
            "[[-0.7550024  -1.43924487 -0.9904248 ]\n",
            " [ 0.75925651  0.78155212 -0.89326538]]\n"
          ]
        }
      ],
      "source": [
        "#Generate a random normal distribution of size 2x3:\n",
        "from numpy import random\n",
        "x = random.normal(size=(2, 3))\n",
        "print(x)"
      ]
    },
    {
      "cell_type": "markdown",
      "metadata": {
        "id": "ohJzf615Fbfd"
      },
      "source": [
        "**Generate a random normal distribution of size 2x3 with mean at 1 and standard deviation of 2:**\n"
      ]
    },
    {
      "cell_type": "code",
      "execution_count": 1584,
      "metadata": {
        "colab": {
          "base_uri": "https://localhost:8080/"
        },
        "id": "qBWGLchLFdL1",
        "outputId": "7b886be6-4863-4635-d07c-b49a4b4e4de7"
      },
      "outputs": [
        {
          "name": "stdout",
          "output_type": "stream",
          "text": [
            "[[ 2.82202178 -0.76452284  1.97282752]\n",
            " [ 0.53630384 -3.2657753  -0.68122522]]\n"
          ]
        }
      ],
      "source": [
        "from numpy import random\n",
        "x = random.normal(loc=1, scale=2, size=(2, 3))\n",
        "print(x)"
      ]
    },
    {
      "cell_type": "code",
      "execution_count": 1585,
      "metadata": {
        "colab": {
          "base_uri": "https://localhost:8080/",
          "height": 650
        },
        "id": "daOEFp5GGAqb",
        "outputId": "5c6ae157-58bd-4c5e-d838-3ba8c06fc519"
      },
      "outputs": [
        {
          "name": "stderr",
          "output_type": "stream",
          "text": [
            "C:\\Users\\akhil\\AppData\\Local\\Temp\\ipykernel_10532\\4081980874.py:5: UserWarning: \n",
            "\n",
            "`distplot` is a deprecated function and will be removed in seaborn v0.14.0.\n",
            "\n",
            "Please adapt your code to use either `displot` (a figure-level function with\n",
            "similar flexibility) or `kdeplot` (an axes-level function for kernel density plots).\n",
            "\n",
            "For a guide to updating your code to use the new functions, please see\n",
            "https://gist.github.com/mwaskom/de44147ed2974457ad6372750bbe5751\n",
            "\n",
            "  sns.distplot(random.normal(size=1000), hist=False)\n"
          ]
        },
        {
          "data": {
            "image/png": "[encoded data removed]",
            "text/plain": [
              "<Figure size 640x480 with 1 Axes>"
            ]
          },
          "metadata": {},
          "output_type": "display_data"
        }
      ],
      "source": [
        "#Visualization of Normal Distribution\n",
        "from numpy import random\n",
        "import matplotlib.pyplot as plt\n",
        "import seaborn as sns\n",
        "sns.distplot(random.normal(size=1000), hist=False)\n",
        "plt.show()"
      ]
    },
    {
      "cell_type": "markdown",
      "metadata": {
        "id": "Gkky8h5fGUBL"
      },
      "source": [
        "**ufuncs stands for \"Universal Functions\" and they are NumPy functions that operate on the ndarray object.**\n",
        "\n",
        "**ufuncs are used to implement vectorization in NumPy which is way faster than iterating over elements.**\n",
        "\n",
        "**They also provide broadcasting and additional methods like reduce, accumulate etc. that are very helpful for computation.**\n",
        "\n",
        "**ufuncs also take additional arguments, like:**\n",
        "\n",
        "**where boolean array or condition defining where the operations should take place.**\n",
        "\n",
        "**dtype defining the return type of elements.**\n",
        "\n",
        "**out output array where the return value should be copied.**\n",
        "\n"
      ]
    },
    {
      "cell_type": "markdown",
      "metadata": {
        "id": "zut1osU6G7QC"
      },
      "source": [
        "**What is Vectorization?**\n",
        "Converting iterative statements into a vector based operation is called vectorization. It is faster as modern CPUs are optimized for such operations.\n",
        "\n",
        "**Add the Elements of Two Lists**\n",
        "\n",
        "list 1: [1, 2, 3, 4]\n",
        "\n",
        "list 2: [4, 5, 6, 7]\n",
        "\n",
        "**One way of doing it is to iterate over both of the lists and then sum each elements.**\n",
        "\n"
      ]
    },
    {
      "cell_type": "code",
      "execution_count": 1586,
      "metadata": {
        "colab": {
          "base_uri": "https://localhost:8080/"
        },
        "id": "cgjHhO8tGwJf",
        "outputId": "2bcd8167-15e7-4ed2-e014-1a78601a932b"
      },
      "outputs": [
        {
          "name": "stdout",
          "output_type": "stream",
          "text": [
            "[5, 7, 9, 11]\n"
          ]
        }
      ],
      "source": [
        "x = [1, 2, 3, 4]\n",
        "y = [4, 5, 6, 7]\n",
        "z = []\n",
        "for i, j in zip(x, y):\n",
        "  z.append(i + j)\n",
        "print(z)"
      ]
    },
    {
      "cell_type": "code",
      "execution_count": 1587,
      "metadata": {
        "colab": {
          "base_uri": "https://localhost:8080/"
        },
        "id": "RHDX8pewHPsv",
        "outputId": "44634d1d-137f-40fe-d393-5e48f8975d7c"
      },
      "outputs": [
        {
          "name": "stdout",
          "output_type": "stream",
          "text": [
            "[ 5  7  9 11]\n"
          ]
        }
      ],
      "source": [
        "import numpy as np\n",
        "x = [1, 2, 3, 4]\n",
        "y = [4, 5, 6, 7]\n",
        "z = np.add(x, y)\n",
        "print(z)"
      ]
    },
    {
      "cell_type": "markdown",
      "metadata": {
        "id": "mJOjly09HXDe"
      },
      "source": [
        "**To create your own ufunc,** you have to define a function, like you do with normal functions in Python, then you add it to your NumPy ufunc library with the frompyfunc() method.\n",
        "\n",
        "**The frompyfunc() method takes the following arguments:**\n",
        "\n",
        "**function** - the name of the function.\n",
        "\n",
        "**inputs** - the number of input arguments (arrays).\n",
        "\n",
        "**outputs** - the number of output arrays.\n",
        "\n"
      ]
    },
    {
      "cell_type": "code",
      "execution_count": 1588,
      "metadata": {
        "colab": {
          "base_uri": "https://localhost:8080/"
        },
        "id": "1vZOCDv3HlyY",
        "outputId": "32dedc79-f369-4c96-a490-1f8b7600611b"
      },
      "outputs": [
        {
          "name": "stdout",
          "output_type": "stream",
          "text": [
            "[6 8 10 12]\n"
          ]
        }
      ],
      "source": [
        "import numpy as np\n",
        "def myadd(x, y):\n",
        "  return x+y\n",
        "myadd = np.frompyfunc(myadd, 2, 1)\n",
        "print(myadd([1, 2, 3, 4], [5, 6, 7, 8]))"
      ]
    },
    {
      "cell_type": "code",
      "execution_count": 1589,
      "metadata": {
        "colab": {
          "base_uri": "https://localhost:8080/"
        },
        "id": "HSruQ0HVH7r8",
        "outputId": "0c7f6ae6-7426-408d-c1e6-3cbec1117821"
      },
      "outputs": [
        {
          "name": "stdout",
          "output_type": "stream",
          "text": [
            "<class 'numpy.ufunc'>\n"
          ]
        }
      ],
      "source": [
        "# Check if a Function is a ufunc\n",
        "# Check the type of a function to check if it is a ufunc or not.\n",
        "# A ufunc should return <class 'numpy.ufunc'>.\n",
        "import numpy as np\n",
        "print(type(np.add))"
      ]
    },
    {
      "cell_type": "code",
      "execution_count": 1590,
      "metadata": {
        "colab": {
          "base_uri": "https://localhost:8080/"
        },
        "id": "w4KEdFrqIxYR",
        "outputId": "4c2e219e-ee2b-4f59-861f-3ac418f5e0fe"
      },
      "outputs": [
        {
          "name": "stdout",
          "output_type": "stream",
          "text": [
            "<class 'numpy._ArrayFunctionDispatcher'>\n"
          ]
        }
      ],
      "source": [
        "import numpy as np\n",
        "print(type(np.concatenate))"
      ]
    },
    {
      "cell_type": "code",
      "execution_count": 1591,
      "metadata": {
        "colab": {
          "base_uri": "https://localhost:8080/"
        },
        "id": "KZ8VtjxlJCGd",
        "outputId": "0ed7aeb4-23f8-4c04-d46a-ea97268957c8"
      },
      "outputs": [
        {
          "name": "stdout",
          "output_type": "stream",
          "text": [
            "add is ufunc\n"
          ]
        }
      ],
      "source": [
        "import numpy as np\n",
        "if type(np.add) == np.ufunc:\n",
        "  print('add is ufunc')\n",
        "else:\n",
        "  print('add is not ufunc')"
      ]
    },
    {
      "cell_type": "code",
      "execution_count": 1592,
      "metadata": {
        "colab": {
          "base_uri": "https://localhost:8080/"
        },
        "id": "iXRY78HzJMEC",
        "outputId": "25d34e02-163b-4b7a-b77d-8250d11e0606"
      },
      "outputs": [
        {
          "name": "stdout",
          "output_type": "stream",
          "text": [
            "[30 32 34 36 38 40]\n"
          ]
        }
      ],
      "source": [
        "# Simple Arithmetic\n",
        "import numpy as np\n",
        "arr1 = np.array([10, 11, 12, 13, 14, 15])\n",
        "arr2 = np.array([20, 21, 22, 23, 24, 25])\n",
        "newarr = np.add(arr1, arr2)\n",
        "print(newarr)"
      ]
    },
    {
      "cell_type": "code",
      "execution_count": 1593,
      "metadata": {
        "colab": {
          "base_uri": "https://localhost:8080/"
        },
        "id": "o0xaPdugJTGO",
        "outputId": "7c7ee06c-d572-40d6-be56-d27fe00dd74d"
      },
      "outputs": [
        {
          "name": "stdout",
          "output_type": "stream",
          "text": [
            "[-10  -1   8  17  26  35]\n"
          ]
        }
      ],
      "source": [
        "import numpy as np\n",
        "arr1 = np.array([10, 20, 30, 40, 50, 60])\n",
        "arr2 = np.array([20, 21, 22, 23, 24, 25])\n",
        "newarr = np.subtract(arr1, arr2)\n",
        "print(newarr)"
      ]
    },
    {
      "cell_type": "code",
      "execution_count": 1594,
      "metadata": {
        "colab": {
          "base_uri": "https://localhost:8080/"
        },
        "id": "Hb_vybxiJbLt",
        "outputId": "665aca16-5090-4081-ffb7-662d9f9ec049"
      },
      "outputs": [
        {
          "name": "stdout",
          "output_type": "stream",
          "text": [
            "[ 200  420  660  920 1200 1500]\n"
          ]
        }
      ],
      "source": [
        "import numpy as np\n",
        "arr1 = np.array([10, 20, 30, 40, 50, 60])\n",
        "arr2 = np.array([20, 21, 22, 23, 24, 25])\n",
        "newarr = np.multiply(arr1, arr2)\n",
        "print(newarr)"
      ]
    },
    {
      "cell_type": "markdown",
      "metadata": {
        "id": "LvSkj0OiJgA9"
      },
      "source": [
        "**Rounding Decimals**\n",
        "There are primarily five ways of rounding off decimals in NumPy:\n",
        "\n",
        "truncation\n",
        "\n",
        "fix\n",
        "\n",
        "rounding\n",
        "\n",
        "floor\n",
        "\n",
        "ceil\n",
        "\n",
        "**Truncation**\n",
        "Remove the decimals, and return the float number closest to zero. Use the trunc() and fix() functions.\n"
      ]
    },
    {
      "cell_type": "code",
      "execution_count": 1595,
      "metadata": {
        "colab": {
          "base_uri": "https://localhost:8080/"
        },
        "id": "JLtBg2maJnyn",
        "outputId": "504af7e1-b5ef-43da-c02b-9ad237bf18a9"
      },
      "outputs": [
        {
          "name": "stdout",
          "output_type": "stream",
          "text": [
            "[-3.  3.]\n"
          ]
        }
      ],
      "source": [
        "import numpy as np\n",
        "arr = np.trunc([-3.1666, 3.6667])\n",
        "print(arr)"
      ]
    },
    {
      "cell_type": "markdown",
      "metadata": {
        "id": "FeWN1gk1Jv7T"
      },
      "source": [
        "**Rounding**\n",
        "The around() function increments preceding digit or decimal by 1 if >=5 else do nothing.\n",
        "\n",
        "E.g. round off to 1 decimal point, 3.16666 is 3.2\n",
        "\n"
      ]
    },
    {
      "cell_type": "code",
      "execution_count": 1596,
      "metadata": {
        "colab": {
          "base_uri": "https://localhost:8080/"
        },
        "id": "pfHCF0TQJyGW",
        "outputId": "09391e6a-eba7-40f4-fe5a-db6a9df2867d"
      },
      "outputs": [
        {
          "name": "stdout",
          "output_type": "stream",
          "text": [
            "3.17\n"
          ]
        }
      ],
      "source": [
        "import numpy as np\n",
        "arr = np.around(3.1666, 2)\n",
        "print(arr)"
      ]
    },
    {
      "cell_type": "markdown",
      "metadata": {
        "id": "GWhQn55FK-Ok"
      },
      "source": [
        "**Floor**\n",
        "The floor() function rounds off decimal to nearest lower integer.\n",
        "\n",
        "E.g. floor of 3.166 is 3.\n",
        "\n"
      ]
    },
    {
      "cell_type": "code",
      "execution_count": 1597,
      "metadata": {
        "colab": {
          "base_uri": "https://localhost:8080/"
        },
        "id": "zEJu7UiOK_t5",
        "outputId": "d1ebe624-7cd5-4fad-9500-1f6dd8950123"
      },
      "outputs": [
        {
          "name": "stdout",
          "output_type": "stream",
          "text": [
            "[-4.  3.]\n"
          ]
        }
      ],
      "source": [
        "# Floor the elements of following array:\n",
        "import numpy as np\n",
        "arr = np.floor([-3.1666, 3.6667])\n",
        "print(arr)"
      ]
    },
    {
      "cell_type": "code",
      "execution_count": 1598,
      "metadata": {
        "colab": {
          "base_uri": "https://localhost:8080/"
        },
        "id": "k-KDzayTLbZV",
        "outputId": "a6f2f074-0227-45f1-f704-b3a831b11eec"
      },
      "outputs": [
        {
          "name": "stdout",
          "output_type": "stream",
          "text": [
            "[-3.  4.]\n"
          ]
        }
      ],
      "source": [
        "# Ceil\n",
        "# The ceil() function rounds off decimal to nearest upper integer.\n",
        "# E.g. ceil of 3.166 is 4.\n",
        "import numpy as np\n",
        "arr = np.ceil([-3.1666, 3.6667])\n",
        "print(arr)"
      ]
    },
    {
      "cell_type": "code",
      "execution_count": 1599,
      "metadata": {
        "colab": {
          "base_uri": "https://localhost:8080/"
        },
        "id": "mpmB_3rGLuhv",
        "outputId": "b37ed786-3ff9-431b-dc97-44f680f829e9"
      },
      "outputs": [
        {
          "name": "stdout",
          "output_type": "stream",
          "text": [
            "[0.         1.         1.5849625  2.         2.32192809 2.5849625\n",
            " 2.80735492 3.         3.169925  ]\n"
          ]
        }
      ],
      "source": [
        "# NumPy Logs\n",
        "# Find log at base 2 of all elements of following array:\n",
        "import numpy as np\n",
        "arr = np.arange(1, 10)\n",
        "print(np.log2(arr))\n",
        "# The arange(1, 10) function returns an array with integers starting from 1 (included) to 10 (not included)."
      ]
    },
    {
      "cell_type": "code",
      "execution_count": 1600,
      "metadata": {
        "colab": {
          "base_uri": "https://localhost:8080/"
        },
        "id": "t8fYs29NMFt0",
        "outputId": "39d39028-880d-4ecb-844d-b319873abc43"
      },
      "outputs": [
        {
          "name": "stdout",
          "output_type": "stream",
          "text": [
            "[0.         0.30103    0.47712125 0.60205999 0.69897    0.77815125\n",
            " 0.84509804 0.90308999 0.95424251]\n"
          ]
        }
      ],
      "source": [
        "# Find log at base 10 of all elements of following array:\n",
        "import numpy as np\n",
        "arr = np.arange(1, 10)\n",
        "print(np.log10(arr))"
      ]
    },
    {
      "cell_type": "code",
      "execution_count": 1601,
      "metadata": {
        "colab": {
          "base_uri": "https://localhost:8080/"
        },
        "id": "hv97-WUyMFgU",
        "outputId": "9057a5fe-c4ce-489e-e6e2-636a5177bddc"
      },
      "outputs": [
        {
          "name": "stdout",
          "output_type": "stream",
          "text": [
            "[0.         0.69314718 1.09861229 1.38629436 1.60943791 1.79175947\n",
            " 1.94591015 2.07944154 2.19722458]\n"
          ]
        }
      ],
      "source": [
        "# Find log at base e of all elements of following array:\n",
        "import numpy as np\n",
        "arr = np.arange(1, 10)\n",
        "print(np.log(arr))"
      ]
    },
    {
      "cell_type": "code",
      "execution_count": 1602,
      "metadata": {
        "colab": {
          "base_uri": "https://localhost:8080/"
        },
        "id": "tPhfas7NMsMy",
        "outputId": "ce9565df-7edf-4180-c5dc-d974dd6ec8d0"
      },
      "outputs": [
        {
          "name": "stdout",
          "output_type": "stream",
          "text": [
            "1.7005483074552052\n"
          ]
        }
      ],
      "source": [
        "# Log at Any Base\n",
        "from math import log\n",
        "import numpy as np\n",
        "nplog = np.frompyfunc(log, 2, 1)\n",
        "print(nplog(100, 15))"
      ]
    },
    {
      "cell_type": "code",
      "execution_count": 1603,
      "metadata": {
        "colab": {
          "base_uri": "https://localhost:8080/"
        },
        "id": "IrSR9yQ5NNDk",
        "outputId": "bebd801b-59a4-4300-bfc2-c1a58d56292e"
      },
      "outputs": [
        {
          "name": "stdout",
          "output_type": "stream",
          "text": [
            "[2 4 6]\n"
          ]
        }
      ],
      "source": [
        "#NumPy Summations\n",
        "# Addition is done between two arguments whereas summation happens over n elements.\n",
        "import numpy as np\n",
        "arr1 = np.array([1, 2, 3])\n",
        "arr2 = np.array([1, 2, 3])\n",
        "newarr = np.add(arr1, arr2)\n",
        "print(newarr)"
      ]
    },
    {
      "cell_type": "code",
      "execution_count": 1604,
      "metadata": {
        "colab": {
          "base_uri": "https://localhost:8080/"
        },
        "id": "Yu0w8IJVNai7",
        "outputId": "ac6757c6-558f-48f0-ee63-fc51d47de23d"
      },
      "outputs": [
        {
          "name": "stdout",
          "output_type": "stream",
          "text": [
            "12\n"
          ]
        }
      ],
      "source": [
        "import numpy as np\n",
        "arr1 = np.array([1, 2, 3])\n",
        "arr2 = np.array([1, 2, 3])\n",
        "newarr = np.sum([arr1, arr2])\n",
        "print(newarr)"
      ]
    },
    {
      "cell_type": "code",
      "execution_count": 1605,
      "metadata": {
        "colab": {
          "base_uri": "https://localhost:8080/"
        },
        "id": "FOPEVpGvNhh7",
        "outputId": "7ddbde1f-a050-4322-8812-b3d412f6811d"
      },
      "outputs": [
        {
          "name": "stdout",
          "output_type": "stream",
          "text": [
            "[6 6]\n"
          ]
        }
      ],
      "source": [
        "#If you specify axis=1, NumPy will sum the numbers in each array.\n",
        "import numpy as np\n",
        "arr1 = np.array([1, 2, 3])\n",
        "arr2 = np.array([1, 2, 3])\n",
        "newarr = np.sum([arr1, arr2], axis=1)\n",
        "print(newarr)"
      ]
    },
    {
      "cell_type": "markdown",
      "metadata": {
        "id": "1FxF1FqMNyhv"
      },
      "source": [
        "The partial sum of [1, 2, 3, 4] would be [1, 1+2, 1+2+3, 1+2+3+4] = [1, 3, 6, 10].\n",
        "Perfom partial sum with the cumsum() function.\n",
        "\n"
      ]
    },
    {
      "cell_type": "code",
      "execution_count": 1606,
      "metadata": {
        "colab": {
          "base_uri": "https://localhost:8080/"
        },
        "id": "ddzeCsM0NqBg",
        "outputId": "5cd785fc-94ee-4c28-dccd-079b85c4cfd9"
      },
      "outputs": [
        {
          "name": "stdout",
          "output_type": "stream",
          "text": [
            "[1 3 6]\n"
          ]
        }
      ],
      "source": [
        "#Cummulative sum means partially adding the elements in array.\n",
        "import numpy as np\n",
        "arr = np.array([1, 2, 3])\n",
        "newarr = np.cumsum(arr)\n",
        "print(newarr)"
      ]
    },
    {
      "cell_type": "code",
      "execution_count": 1607,
      "metadata": {
        "colab": {
          "base_uri": "https://localhost:8080/"
        },
        "id": "1uCzSUT9OCuf",
        "outputId": "50dc5c65-8dc6-43b0-e1c9-4a486efbabde"
      },
      "outputs": [
        {
          "name": "stdout",
          "output_type": "stream",
          "text": [
            "24\n"
          ]
        }
      ],
      "source": [
        "#To find the product of the elements in an array, use the prod() function.\n",
        "import numpy as np\n",
        "arr = np.array([1, 2, 3, 4])\n",
        "x = np.prod(arr)\n",
        "print(x)#Returns: 24 because 1*2*3*4 = 24"
      ]
    },
    {
      "cell_type": "code",
      "execution_count": 1608,
      "metadata": {
        "colab": {
          "base_uri": "https://localhost:8080/"
        },
        "id": "Q7mOZyNSON6k",
        "outputId": "da93ece9-fbd8-4200-8251-4a91d7d34256"
      },
      "outputs": [
        {
          "name": "stdout",
          "output_type": "stream",
          "text": [
            "40320\n"
          ]
        }
      ],
      "source": [
        "import numpy as np\n",
        "arr1 = np.array([1, 2, 3, 4])\n",
        "arr2 = np.array([5, 6, 7, 8])\n",
        "x = np.prod([arr1, arr2])\n",
        "print(x)#Returns: 40320 because 1*2*3*4*5*6*7*8 = 40320"
      ]
    },
    {
      "cell_type": "code",
      "execution_count": 1609,
      "metadata": {
        "colab": {
          "base_uri": "https://localhost:8080/"
        },
        "id": "gwJM1wN3OVVD",
        "outputId": "d026941d-4df1-4be9-cb1f-4d633cc7a4b5"
      },
      "outputs": [
        {
          "name": "stdout",
          "output_type": "stream",
          "text": [
            "[  24 1680]\n"
          ]
        }
      ],
      "source": [
        "#If you specify axis=1, NumPy will return the product of each array.\n",
        "import numpy as np\n",
        "arr1 = np.array([1, 2, 3, 4])\n",
        "arr2 = np.array([5, 6, 7, 8])\n",
        "newarr = np.prod([arr1, arr2], axis=1)\n",
        "print(newarr)#Returns: [24 1680]"
      ]
    },
    {
      "cell_type": "code",
      "execution_count": 1610,
      "metadata": {
        "colab": {
          "base_uri": "https://localhost:8080/"
        },
        "id": "6925uCEzOcix",
        "outputId": "c32b2c15-8e10-4173-815c-3841e7c86fd5"
      },
      "outputs": [
        {
          "name": "stdout",
          "output_type": "stream",
          "text": [
            "[   5   30  210 1680]\n"
          ]
        }
      ],
      "source": [
        "#Cummulative product means taking the product partially.\n",
        "import numpy as np\n",
        "arr = np.array([5, 6, 7, 8])\n",
        "newarr = np.cumprod(arr)\n",
        "print(newarr)"
      ]
    },
    {
      "cell_type": "markdown",
      "metadata": {
        "id": "Zov1fxQaOwfN"
      },
      "source": [
        "**NumPy Differences**\n",
        "A discrete difference means subtracting two successive elements.\n",
        "\n",
        "E.g. for [1, 2, 3, 4], the discrete difference would be [2-1, 3-2, 4-3] = [1, 1, 1]\n",
        "\n",
        "To find the discrete difference, use the diff() function.\n"
      ]
    },
    {
      "cell_type": "code",
      "execution_count": 1611,
      "metadata": {
        "colab": {
          "base_uri": "https://localhost:8080/"
        },
        "id": "xRk1YlhKO1ls",
        "outputId": "1a62fcc4-7e29-438d-a18a-7ed7e08b0a1e"
      },
      "outputs": [
        {
          "name": "stdout",
          "output_type": "stream",
          "text": [
            "[  5  10 -20]\n"
          ]
        }
      ],
      "source": [
        "import numpy as np\n",
        "arr = np.array([10, 15, 25, 5])\n",
        "newarr = np.diff(arr)\n",
        "print(newarr)\n",
        "# Returns: [5 10 -20] because 15-10=5, 25-15=10, and 5-25=-20"
      ]
    },
    {
      "cell_type": "code",
      "execution_count": 1612,
      "metadata": {
        "colab": {
          "base_uri": "https://localhost:8080/"
        },
        "id": "yKRxrMEhPCZJ",
        "outputId": "259bc3a3-904a-49eb-cb20-a7fb7b5e7e34"
      },
      "outputs": [
        {
          "name": "stdout",
          "output_type": "stream",
          "text": [
            "[  5 -30]\n"
          ]
        }
      ],
      "source": [
        "import numpy as np\n",
        "arr = np.array([10, 15, 25, 5])\n",
        "newarr = np.diff(arr, n=2)\n",
        "print(newarr)\n",
        "# Returns: [5 -30] because: 15-10=5, 25-15=10, and 5-25=-20 AND 10-5=5 and -20-10=-30"
      ]
    },
    {
      "cell_type": "code",
      "execution_count": 1613,
      "metadata": {
        "colab": {
          "base_uri": "https://localhost:8080/"
        },
        "id": "jYzc4X02Pv2F",
        "outputId": "b32cd2e3-8a18-4dbd-d17e-b4a9a7645e14"
      },
      "outputs": [
        {
          "name": "stdout",
          "output_type": "stream",
          "text": [
            "12\n"
          ]
        }
      ],
      "source": [
        "# NumPy LCM Lowest Common Multiple\n",
        "import numpy as np\n",
        "num1 = 4\n",
        "num2 = 6\n",
        "x = np.lcm(num1, num2)\n",
        "print(x)\n",
        "#12 because that is the lowest common multiple of both numbers (4*3=12 and 6*2=12)."
      ]
    },
    {
      "cell_type": "markdown",
      "metadata": {
        "id": "wYnCDZKZQDFH"
      },
      "source": [
        "**To find the Lowest Common Multiple of all values in an array, you can use the reduce() method.**\n",
        "\n",
        "**The reduce() method will use the ufunc, in this case the lcm() function, on each element, and reduce the array by one dimension.**\n",
        "\n",
        "\n"
      ]
    },
    {
      "cell_type": "code",
      "execution_count": 1614,
      "metadata": {
        "colab": {
          "base_uri": "https://localhost:8080/"
        },
        "id": "nXKbM7VgQA1g",
        "outputId": "737ebb6a-ee6a-407a-b8f1-7e7477ae5590"
      },
      "outputs": [
        {
          "name": "stdout",
          "output_type": "stream",
          "text": [
            "18\n"
          ]
        }
      ],
      "source": [
        "import numpy as np\n",
        "arr = np.array([3, 6, 9])\n",
        "x = np.lcm.reduce(arr)\n",
        "print(x)\n",
        "#18 because that is the lowest common multiple of all three numbers (3*6=18, 6*3=18 and 9*2=18)."
      ]
    },
    {
      "cell_type": "code",
      "execution_count": 1615,
      "metadata": {
        "colab": {
          "base_uri": "https://localhost:8080/"
        },
        "id": "vESnl5Y9Qn8s",
        "outputId": "583d8f84-61d1-4695-a04e-65800774980d"
      },
      "outputs": [
        {
          "name": "stdout",
          "output_type": "stream",
          "text": [
            "2520\n"
          ]
        }
      ],
      "source": [
        "import numpy as np\n",
        "arr = np.arange(1, 11)\n",
        "x = np.lcm.reduce(arr)\n",
        "print(x)"
      ]
    },
    {
      "cell_type": "markdown",
      "metadata": {
        "id": "QyJXBilwQy8e"
      },
      "source": [
        "**NumPy GCD Greatest Common Denominator**\n",
        "The GCD (Greatest Common Denominator), also known as HCF (Highest Common Factor) is the biggest number that is a common factor of both of the numbers.\n",
        "\n"
      ]
    },
    {
      "cell_type": "code",
      "execution_count": 1616,
      "metadata": {
        "colab": {
          "base_uri": "https://localhost:8080/"
        },
        "id": "LQe6GfjKQ2XZ",
        "outputId": "8bb448b9-e042-4c75-83f8-33a08057972e"
      },
      "outputs": [
        {
          "name": "stdout",
          "output_type": "stream",
          "text": [
            "3\n"
          ]
        }
      ],
      "source": [
        "import numpy as np\n",
        "num1 = 6\n",
        "num2 = 9\n",
        "x = np.gcd(num1, num2)\n",
        "print(x)\n",
        "#Returns: 3 because that is the highest number both numbers can be divided by (6/3=2 and 9/3=3)."
      ]
    },
    {
      "cell_type": "code",
      "execution_count": 1617,
      "metadata": {
        "colab": {
          "base_uri": "https://localhost:8080/"
        },
        "id": "Rc_1Exl9RFni",
        "outputId": "c890b1b2-2d1b-4f8f-c881-679f287f9a09"
      },
      "outputs": [
        {
          "name": "stdout",
          "output_type": "stream",
          "text": [
            "4\n"
          ]
        }
      ],
      "source": [
        "import numpy as np\n",
        "arr = np.array([20, 8, 32, 36, 16])\n",
        "x = np.gcd.reduce(arr)\n",
        "print(x)\n",
        "#Returns: 4 because that is the highest number all values can be divided by."
      ]
    },
    {
      "cell_type": "markdown",
      "metadata": {
        "id": "xLxmIUucRRVL"
      },
      "source": [
        "**NumPy Trigonometric Functions**\n",
        "Trigonometric Functions\n",
        "\n",
        "NumPy provides the ufuncs sin(), cos() and tan() that take values in radians and produce the corresponding sin, cos and tan values."
      ]
    },
    {
      "cell_type": "code",
      "execution_count": 1618,
      "metadata": {
        "colab": {
          "base_uri": "https://localhost:8080/"
        },
        "id": "PK_x258iRV3V",
        "outputId": "3838c9cf-f284-4f07-c9bc-b6c79f87ba57"
      },
      "outputs": [
        {
          "name": "stdout",
          "output_type": "stream",
          "text": [
            "1.0\n"
          ]
        }
      ],
      "source": [
        "import numpy as np\n",
        "x = np.sin(np.pi/2)\n",
        "print(x)"
      ]
    },
    {
      "cell_type": "code",
      "execution_count": 1619,
      "metadata": {
        "colab": {
          "base_uri": "https://localhost:8080/"
        },
        "id": "K4vIJA6dRdgi",
        "outputId": "36d25532-9d26-43c2-d47c-25508b02ceb5"
      },
      "outputs": [
        {
          "name": "stdout",
          "output_type": "stream",
          "text": [
            "[1.         0.8660254  0.70710678 0.58778525]\n"
          ]
        }
      ],
      "source": [
        "import numpy as np\n",
        "arr = np.array([np.pi/2, np.pi/3, np.pi/4, np.pi/5])\n",
        "x = np.sin(arr)\n",
        "print(x)"
      ]
    },
    {
      "cell_type": "markdown",
      "metadata": {
        "id": "RFriUKlBRmv3"
      },
      "source": [
        "**Convert Degrees Into Radians**\n",
        "\n",
        "By default all of the trigonometric functions take radians as parameters but we can convert radians to degrees and vice versa as well in NumPy.\n",
        "\n",
        "Note: radians values are pi/180 * degree_values.\n"
      ]
    },
    {
      "cell_type": "code",
      "execution_count": 1620,
      "metadata": {
        "colab": {
          "base_uri": "https://localhost:8080/"
        },
        "id": "j2jKhXEhRqHA",
        "outputId": "cd39b72d-e750-4fb0-984b-d5478bf4a369"
      },
      "outputs": [
        {
          "name": "stdout",
          "output_type": "stream",
          "text": [
            "[1.57079633 3.14159265 4.71238898 6.28318531]\n"
          ]
        }
      ],
      "source": [
        "import numpy as np\n",
        "arr = np.array([90, 180, 270, 360])\n",
        "x = np.deg2rad(arr)\n",
        "print(x)"
      ]
    },
    {
      "cell_type": "code",
      "execution_count": 1621,
      "metadata": {
        "colab": {
          "base_uri": "https://localhost:8080/"
        },
        "id": "wbkXcqI0R28p",
        "outputId": "f96759e6-4fae-472d-cc01-cad3dbb97c89"
      },
      "outputs": [
        {
          "name": "stdout",
          "output_type": "stream",
          "text": [
            "[ 90. 180. 270. 360.]\n"
          ]
        }
      ],
      "source": [
        "import numpy as np\n",
        "arr = np.array([np.pi/2, np.pi, 1.5*np.pi, 2*np.pi])\n",
        "x = np.rad2deg(arr)\n",
        "print(x)"
      ]
    },
    {
      "cell_type": "markdown",
      "metadata": {
        "id": "NQ9W_DlCSERC"
      },
      "source": [
        "**Finding Angles**\n",
        "\n",
        "Finding angles from values of sine, cos, tan. E.g. sin, cos and tan inverse (arcsin, arccos, arctan).\n",
        "\n",
        "NumPy provides ufuncs arcsin(), arccos() and arctan() that produce radian values for corresponding sin, cos and tan values given.\n"
      ]
    },
    {
      "cell_type": "code",
      "execution_count": 1622,
      "metadata": {
        "colab": {
          "base_uri": "https://localhost:8080/"
        },
        "id": "1fPwyB3YSLbF",
        "outputId": "560d401c-a0ea-46ba-e51d-70d004eae3ea"
      },
      "outputs": [
        {
          "name": "stdout",
          "output_type": "stream",
          "text": [
            "1.5707963267948966\n"
          ]
        }
      ],
      "source": [
        "#Find the angle of 1.0:\n",
        "import numpy as np\n",
        "x = np.arcsin(1.0)\n",
        "print(x)"
      ]
    },
    {
      "cell_type": "code",
      "execution_count": 1623,
      "metadata": {
        "colab": {
          "base_uri": "https://localhost:8080/"
        },
        "id": "lpawfyymSQlu",
        "outputId": "fcb772f1-a54c-4177-af4b-e0ac32b35675"
      },
      "outputs": [
        {
          "name": "stdout",
          "output_type": "stream",
          "text": [
            "[ 1.57079633 -1.57079633  0.10016742]\n"
          ]
        }
      ],
      "source": [
        "import numpy as np\n",
        "arr = np.array([1, -1, 0.1])\n",
        "x = np.arcsin(arr)\n",
        "print(x)"
      ]
    },
    {
      "cell_type": "markdown",
      "metadata": {
        "id": "dz2pxya5SV30"
      },
      "source": [
        "**Hypotenues**\n",
        "\n",
        "Finding hypotenues using pythagoras theorem in NumPy.\n",
        "\n",
        "NumPy provides the **hypot()** function that takes the base and perpendicular values and produces hypotenues based on pythagoras theorem.\n"
      ]
    },
    {
      "cell_type": "code",
      "execution_count": 1624,
      "metadata": {
        "colab": {
          "base_uri": "https://localhost:8080/"
        },
        "id": "2xuqxjUjSjbx",
        "outputId": "42d7c9e9-5955-4e87-f7b4-a5774beb81eb"
      },
      "outputs": [
        {
          "name": "stdout",
          "output_type": "stream",
          "text": [
            "5.0\n"
          ]
        }
      ],
      "source": [
        "# Find the hypotenues for 4 base and 3 perpendicular:\n",
        "import numpy as np\n",
        "base = 3\n",
        "perp = 4\n",
        "x = np.hypot(base, perp)\n",
        "print(x)"
      ]
    },
    {
      "cell_type": "markdown",
      "metadata": {
        "id": "aSWJqbCqSqTB"
      },
      "source": [
        "**NumPy Hyperbolic Functions**\n",
        "\n",
        "NumPy provides the ufuncs sinh(), cosh() and tanh() that take values in radians and produce the corresponding sinh, cosh and tanh values.."
      ]
    },
    {
      "cell_type": "code",
      "execution_count": 1625,
      "metadata": {
        "colab": {
          "base_uri": "https://localhost:8080/"
        },
        "id": "OdApU0iISt8D",
        "outputId": "beecadd4-d9fa-4696-e19a-200cc2ad446a"
      },
      "outputs": [
        {
          "name": "stdout",
          "output_type": "stream",
          "text": [
            "2.3012989023072947\n"
          ]
        }
      ],
      "source": [
        "import numpy as np\n",
        "x = np.sinh(np.pi/2)\n",
        "print(x)"
      ]
    },
    {
      "cell_type": "code",
      "execution_count": 1626,
      "metadata": {
        "colab": {
          "base_uri": "https://localhost:8080/"
        },
        "id": "U4iIsSBaS1qD",
        "outputId": "90f513df-cd06-4619-ce9d-54f733860ce0"
      },
      "outputs": [
        {
          "name": "stdout",
          "output_type": "stream",
          "text": [
            "[2.50917848 1.60028686 1.32460909 1.20397209]\n"
          ]
        }
      ],
      "source": [
        "import numpy as np\n",
        "arr = np.array([np.pi/2, np.pi/3, np.pi/4, np.pi/5])\n",
        "x = np.cosh(arr)\n",
        "print(x)"
      ]
    },
    {
      "cell_type": "code",
      "execution_count": 1627,
      "metadata": {
        "colab": {
          "base_uri": "https://localhost:8080/"
        },
        "id": "qD7MLK9XS1fO",
        "outputId": "262abfdd-5f17-472a-a4ce-15ffc92d4ec1"
      },
      "outputs": [
        {
          "name": "stdout",
          "output_type": "stream",
          "text": [
            "0.881373587019543\n"
          ]
        }
      ],
      "source": [
        "#Finding angles from values of hyperbolic sine, cos, tan.\n",
        "#Find the angle of 1.0:\n",
        "import numpy as np\n",
        "x = np.arcsinh(1.0)\n",
        "print(x)"
      ]
    },
    {
      "cell_type": "code",
      "execution_count": 1628,
      "metadata": {
        "colab": {
          "base_uri": "https://localhost:8080/"
        },
        "id": "Mw9qEnSfTL2D",
        "outputId": "9dcd7fbe-86b4-400d-88f4-35b08e1f1aa7"
      },
      "outputs": [
        {
          "name": "stdout",
          "output_type": "stream",
          "text": [
            "[0.10033535 0.20273255 0.54930614]\n"
          ]
        }
      ],
      "source": [
        "import numpy as np\n",
        "arr = np.array([0.1, 0.2, 0.5])\n",
        "x = np.arctanh(arr)\n",
        "print(x)"
      ]
    },
    {
      "cell_type": "markdown",
      "metadata": {
        "id": "6-iL50M9TPYk"
      },
      "source": [
        "**NumPy Set Operations**\n",
        "\n",
        "**Create Sets in NumPy**\n",
        "\n",
        "We can use NumPy's unique() method to find unique elements from any array. E.g. create a set array, but remember that the set arrays should only be 1-D arrays.\n",
        "\n",
        "\n",
        "\n"
      ]
    },
    {
      "cell_type": "code",
      "execution_count": 1629,
      "metadata": {
        "colab": {
          "base_uri": "https://localhost:8080/"
        },
        "id": "juCAS_ndTa3U",
        "outputId": "dffec78d-ae07-4a32-c4b9-038df4b6b81b"
      },
      "outputs": [
        {
          "name": "stdout",
          "output_type": "stream",
          "text": [
            "[1 2 3 4 5 6 7]\n"
          ]
        }
      ],
      "source": [
        "#To find the unique values of two arrays, use the union1d() method.\n",
        "import numpy as np\n",
        "arr = np.array([1, 1, 1, 2, 3, 4, 5, 5, 6, 7])\n",
        "x = np.unique(arr)\n",
        "print(x)"
      ]
    },
    {
      "cell_type": "code",
      "execution_count": 1630,
      "metadata": {
        "colab": {
          "base_uri": "https://localhost:8080/"
        },
        "id": "y7CfaH-HTh30",
        "outputId": "452c530d-f852-4272-9028-0405a7db1b92"
      },
      "outputs": [
        {
          "name": "stdout",
          "output_type": "stream",
          "text": [
            "[1 2 3 4 5 6]\n"
          ]
        }
      ],
      "source": [
        "import numpy as np\n",
        "arr1 = np.array([1, 2, 3, 4])\n",
        "arr2 = np.array([3, 4, 5, 6])\n",
        "newarr = np.union1d(arr1, arr2)\n",
        "print(newarr)"
      ]
    },
    {
      "cell_type": "code",
      "execution_count": 1631,
      "metadata": {
        "colab": {
          "base_uri": "https://localhost:8080/"
        },
        "id": "spj71nqQToKL",
        "outputId": "06b55aea-03fa-46e2-db4a-d89d37a1189a"
      },
      "outputs": [
        {
          "name": "stdout",
          "output_type": "stream",
          "text": [
            "[3 4]\n"
          ]
        }
      ],
      "source": [
        "#To find only the values that are present in both arrays, use the intersect1d() method.\n",
        "import numpy as np\n",
        "arr1 = np.array([1, 2, 3, 4])\n",
        "arr2 = np.array([3, 4, 5, 6])\n",
        "newarr = np.intersect1d(arr1, arr2, assume_unique=True)\n",
        "print(newarr)"
      ]
    },
    {
      "cell_type": "code",
      "execution_count": 1632,
      "metadata": {
        "colab": {
          "base_uri": "https://localhost:8080/"
        },
        "id": "9q-uXlkgT3T7",
        "outputId": "36880e33-dc84-4cf0-81bf-7eea7778767d"
      },
      "outputs": [
        {
          "name": "stdout",
          "output_type": "stream",
          "text": [
            "[1 2]\n"
          ]
        }
      ],
      "source": [
        "#To find only the values in the first set that is NOT present in the seconds set, use the setdiff1d() method.\n",
        "import numpy as np\n",
        "set1 = np.array([1, 2, 3, 4])\n",
        "set2 = np.array([3, 4, 5, 6])\n",
        "newarr = np.setdiff1d(set1, set2, assume_unique=True)\n",
        "print(newarr)"
      ]
    },
    {
      "cell_type": "markdown",
      "metadata": {
        "id": "EnXT-SHGULCm"
      },
      "source": [
        "**Finding Symmetric Difference**\n",
        "\n",
        "To find only the values that are NOT present in BOTH sets, use the setxor1d() method\n",
        "\n",
        "**NOTE:**\n",
        "The setxor1d() method takes an optional argument assume_unique, which if set to True can speed up computation. It should always be set to True when dealing with sets."
      ]
    },
    {
      "cell_type": "code",
      "execution_count": 1633,
      "metadata": {
        "colab": {
          "base_uri": "https://localhost:8080/"
        },
        "id": "m9YL3ZmXUYUh",
        "outputId": "5e35b1bf-4ff8-4373-834a-754c8521e7cf"
      },
      "outputs": [
        {
          "name": "stdout",
          "output_type": "stream",
          "text": [
            "[1 2 5 6]\n"
          ]
        }
      ],
      "source": [
        "import numpy as np\n",
        "set1 = np.array([1, 2, 3, 4])\n",
        "set2 = np.array([3, 4, 5, 6])\n",
        "newarr = np.setxor1d(set1, set2, assume_unique=True)\n",
        "print(newarr)"
      ]
    }
  ],
  "metadata": {
    "colab": {
      "provenance": []
    },
    "kernelspec": {
      "display_name": "Python 3",
      "name": "python3"
    },
    "language_info": {
      "codemirror_mode": {
        "name": "ipython",
        "version": 3
      },
      "file_extension": ".py",
      "mimetype": "text/x-python",
      "name": "python",
      "nbconvert_exporter": "python",
      "pygments_lexer": "ipython3",
      "version": "3.11.5"
    }
  },
  "nbformat": 4,
  "nbformat_minor": 0
}
